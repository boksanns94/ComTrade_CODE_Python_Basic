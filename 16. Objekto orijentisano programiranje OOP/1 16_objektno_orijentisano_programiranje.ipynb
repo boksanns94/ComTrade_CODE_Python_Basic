{
  "nbformat": 4,
  "nbformat_minor": 0,
  "metadata": {
    "colab": {
      "name": "16_objektno_orijentisano_programiranje.ipynb",
      "provenance": [],
      "collapsed_sections": [],
      "toc_visible": true
    },
    "kernelspec": {
      "name": "python3",
      "display_name": "Python 3"
    }
  },
  "cells": [
    {
      "cell_type": "markdown",
      "metadata": {
        "id": "5gx1y9OjX4Wp"
      },
      "source": [
        "# 15 Objektno-orijentisano programiranje"
      ]
    },
    {
      "cell_type": "markdown",
      "metadata": {
        "id": "xzEH98WvlJno"
      },
      "source": [
        "## 15.1 OOP istorijat\n",
        "\n",
        "- Vremenom, softver je postajao sve komplikovaniji i do tad razvijeni nacini (proceduralni - funkcije i sekvencijalne naredbe) nisu bili dovoljni da zadovolje zahteve za modelovanjem kompleksnih procesa iz realnog sveta\n",
        "\n",
        "- OOP nastaje kao odgovor na novonastale probleme i u velikoj meri ih resava\n",
        "\n",
        "- Program vise nije samo niz instrukcija, vec kompleksna interakcija izmedju objekata koji modeluju objekte iz realnog sveta (ili fiktivnog)\n"
      ]
    },
    {
      "cell_type": "markdown",
      "metadata": {
        "id": "Sn0oRB7hsZcq"
      },
      "source": [
        "## 15.2 Sta je OOP?\n",
        "\n",
        "- OOP je paradigma u programiranju koja fokus stavlja na entitete koji se zovu objektima i relacije medju njima\n",
        "\n",
        "- Moguce je definisati proizvoljno kompleksne objekte i proizvoljno kompleksne relacije izmedju njih koje zadovoljavaju specifikacije problema koji pokusavamo da resimo\n",
        "\n",
        "- Objekti se formiraju tako sto se prvo definise **klasa** - novi, proizvoljno kompleksan tip podatka, definisan od strane programera, koja sluzi kao nacrt za konkretne objekte\n",
        "\n",
        "- **Instanciranjem** objekata ove klase dobijaju se objekti tog tipa, i sa njima je moguce baratati onako kako je to definisano u klasi"
      ]
    },
    {
      "cell_type": "code",
      "metadata": {
        "id": "AQ6rbaLlWAxq"
      },
      "source": [
        "# Formiramo nacrt jedne tipicne osobe\n",
        "class Osoba:\n",
        "    def __init__(self, ime, profesija, godine=20):\n",
        "        print(id(self))\n",
        "        self.ime = ime\n",
        "        self.godine = godine\n",
        "        self.profesija = profesija\n",
        "\n",
        "    def predstavi_se(self):\n",
        "        print(f\"Ja sam {self.ime}, imam {self.godine} godine i po struci sam {self.profesija}\")"
      ],
      "execution_count": 4,
      "outputs": []
    },
    {
      "cell_type": "code",
      "metadata": {
        "id": "F-Z1vKkmuOrT",
        "colab": {
          "base_uri": "https://localhost:8080/"
        },
        "outputId": "43c8e6c0-e095-4d89-8e70-0b7737c75655"
      },
      "source": [
        "marko = Osoba(\"Marko\", \"vatrogasac\")\n",
        "marko.predstavi_se()\n",
        "\n",
        "igor = Osoba(\"Igor\", \"postar\", 50)\n",
        "igor.predstavi_se()"
      ],
      "execution_count": 5,
      "outputs": [
        {
          "output_type": "stream",
          "text": [
            "139800104484112\n",
            "Ja sam Marko, imam 20 godine i po struci sam vatrogasac\n",
            "139800104484304\n",
            "Ja sam Igor, imam 50 godine i po struci sam postar\n"
          ],
          "name": "stdout"
        }
      ]
    },
    {
      "cell_type": "code",
      "metadata": {
        "id": "jwEPnG1GuWAX",
        "colab": {
          "base_uri": "https://localhost:8080/"
        },
        "outputId": "2cbfa37b-c04e-4063-d1c4-df494a4b94c7"
      },
      "source": [
        "print(type(marko))"
      ],
      "execution_count": 3,
      "outputs": [
        {
          "output_type": "stream",
          "text": [
            "<class '__main__.Osoba'>\n"
          ],
          "name": "stdout"
        }
      ]
    },
    {
      "cell_type": "markdown",
      "metadata": {
        "id": "IFWwqYNkupX2"
      },
      "source": [
        "- Instancirali smo dva objekta klase **Osoba** koji podrzavaju sve funkcionalnosti koje smo implementirali u toj klasi\n",
        "\n",
        "- **ime**, **godine** i **profesija** nazivaju se **atributima** klase, a **predstavi_se** **metodom** klase"
      ]
    },
    {
      "cell_type": "markdown",
      "metadata": {
        "id": "FyEHP_0au8ra"
      },
      "source": [
        "## 15.3 Zadatak\n",
        "\n",
        "- Napisati klasu **Krug** koja ima atribute **pi** i **r** (poluprecnik) i koja implementira dve metode: **povrsina**, koja daje povrsinu tog kruga, i **obim** koja daje obim tog kruga"
      ]
    },
    {
      "cell_type": "code",
      "metadata": {
        "id": "PD18jpFXu7us",
        "colab": {
          "base_uri": "https://localhost:8080/"
        },
        "outputId": "07c16fdf-1322-4647-9d06-17796bfb9964"
      },
      "source": [
        "# Resenje\n",
        "class Krug:\n",
        "    def __init__(self, polupr=1, centar=[0, 0]):\n",
        "        self.pi = 3.14\n",
        "        self.r = polupr\n",
        "        self.c = centar\n",
        "\n",
        "    def povrsina(self):\n",
        "        return self.r**2 * self.pi\n",
        "\n",
        "    def obim(self):\n",
        "        return 2*self.r * self.pi\n",
        "\n",
        "    def pomeri(self, x_koor, y_koor):\n",
        "        self.c[0] = x_koor\n",
        "        self.c[1] = y_koor\n",
        "\n",
        "    def __repr__(self):\n",
        "        return f\"Ja sam krug poluprecnika {self.r} i nalazim se na ({self.c[0]}, {self.c[1]})\"\n",
        "\n",
        "k1 = Krug(1)\n",
        "print(k1.povrsina(), k1.obim())\n",
        "\n",
        "k2 = Krug(4)\n",
        "print(k2.povrsina(), k2.obim())\n",
        "\n",
        "print(k2)\n",
        "k2.pomeri(5, 10)\n",
        "print(k2)"
      ],
      "execution_count": 19,
      "outputs": [
        {
          "output_type": "stream",
          "text": [
            "3.14 6.28\n",
            "50.24 25.12\n",
            "Ja sam krug poluprecnika 4 i nalazim se na (0, 0)\n",
            "Ja sam krug poluprecnika 4 i nalazim se na (5, 10)\n"
          ],
          "name": "stdout"
        }
      ]
    },
    {
      "cell_type": "markdown",
      "metadata": {
        "id": "N0jZqw9uvdEh"
      },
      "source": [
        "## 15.4 self\n",
        "\n",
        "- Rezervisana rec **self** predstavlja referencu na objekat koji je instanciran\n",
        "\n",
        "- Posto se klasa moze instancirati proizvoljno mnogo puta u vidu razlicitih objekata, kako bi se vodilo racuna za koji od instanciranih objekata se poziva neki metod ili atribut, u **self** se pamti referenca na taj objekat u memoriji"
      ]
    },
    {
      "cell_type": "code",
      "metadata": {
        "id": "KlODp5PrwI7J"
      },
      "source": [
        "# Formiramo nacrt jedne tipicne osobe\n",
        "class Osoba:\n",
        "    def __init__(self, ime, godine, profesija):\n",
        "        self.ime = ime  # Kada ovde dodje marko, self ce pokazivati na objekat marko\n",
        "                        # a kada dodje igor, self ce pokazivati na objekat igor\n",
        "                        # zbog toga se nikad nece desiti da je igor-ovo ime \"Marko\" i obrnuto\n",
        "        self.godine = godine\n",
        "        self.profesija = profesija\n",
        "        self.jmbg = \"123456\"\n",
        "\n",
        "    def JMBG(self):\n",
        "        print(self.jmbg)\n",
        "\n",
        "    def predstavi_se(self):\n",
        "        print(f\"Ja sam {self.ime}, imam {self.godine} godine i po struci sam {self.profesija}\")"
      ],
      "execution_count": 15,
      "outputs": []
    },
    {
      "cell_type": "code",
      "metadata": {
        "id": "hSetqFp-wMnU",
        "colab": {
          "base_uri": "https://localhost:8080/"
        },
        "outputId": "5df16fcb-d10f-4ef4-a2b2-b2eebc3c8368"
      },
      "source": [
        "marko = Osoba(\"Marko\", 23, \"vatrogasac\")\n",
        "marko.predstavi_se()\n",
        "print(hex(id(marko)), \"marko-va adresa u memoriji\")\n",
        "print(hex(id(marko.predstavi_se)), \"adresa marko-ve metode predstavi_se\")\n",
        "\n",
        "print()\n",
        "\n",
        "igor = Osoba(\"Igor\", 50, \"postar\")\n",
        "igor.predstavi_se()\n",
        "print(hex(id(igor)), \"igor-ova adresa u memoriji\")\n",
        "print(hex(id(igor.predstavi_se)), \"adresa igor-ove metode predstavi_se\")"
      ],
      "execution_count": 13,
      "outputs": [
        {
          "output_type": "stream",
          "text": [
            "Ja sam Marko, imam 23 godine i po struci sam vatrogasac\n",
            "0x7f25bb818c10 marko-va adresa u memoriji\n",
            "0x7f25bb8b5d70 adresa marko-ve metode predstavi_se\n",
            "\n",
            "Ja sam Igor, imam 50 godine i po struci sam postar\n",
            "0x7f25bb818c90 igor-ova adresa u memoriji\n",
            "0x7f25bb8b5d70 adresa igor-ove metode predstavi_se\n"
          ],
          "name": "stdout"
        }
      ]
    },
    {
      "cell_type": "markdown",
      "metadata": {
        "id": "rawxT5oQwcuN"
      },
      "source": [
        "- Trenutno za sve sto mi radimo sa klasama, **self** se mora navesti kao prvi parametar svake metode"
      ]
    },
    {
      "cell_type": "markdown",
      "metadata": {
        "id": "u9iocT80xYw5"
      },
      "source": [
        "## 15.5 Dunder metodi\n",
        "\n",
        "- **Dunder** (double underscore) metodi su specijalni metodi u Python-u cije ime pocinje i zavrsava se duplim donjim crtama \n",
        "\n",
        "- Ovi metodi se koriste za neke tipicne operacije koje se izvode sa objektima u Python-u, i programer ih moze implementirati onako kako njemu odgovara\n",
        "\n",
        "- **\\_\\_init\\_\\_** metod je specijalan metod koji se naziva **konstruktor** i koji se poziva pri instanciranju objekata implicitno u pozadini\n",
        "\n",
        "- Obicno se koristi da se objektima setapuju atributi\n",
        "\n",
        "- Cesto se koriste i **\\_\\_repr\\_\\_**, **\\_\\_add\\_\\_**, **\\_\\_len\\_\\_**..."
      ]
    },
    {
      "cell_type": "code",
      "metadata": {
        "id": "ma55ZNP5x1qx"
      },
      "source": [
        "class Tekst:\n",
        "    def __init__(self, tekst):\n",
        "        self.txt = tekst\n",
        "\n",
        "    def __repr__(self):\n",
        "        return self.txt\n",
        "\n",
        "    def __add__(self, txt2):\n",
        "        return (self.txt + txt2.txt)\n",
        "\n",
        "    def __len__(self):\n",
        "        return len(self.txt)"
      ],
      "execution_count": 14,
      "outputs": []
    },
    {
      "cell_type": "code",
      "metadata": {
        "colab": {
          "base_uri": "https://localhost:8080/"
        },
        "id": "gWJlnKJwypug",
        "outputId": "3015e55a-c03c-4dac-cc5e-f241d10d609b"
      },
      "source": [
        "t1 = Tekst(\"ovo je neki tekst\")\n",
        "t2 = Tekst(\"ovo neki drugi tekst\")\n",
        "\n",
        "print(len(t1))\n",
        "\n",
        "print(t1)\n",
        "print(t2)\n",
        "\n",
        "print(t1+t2)"
      ],
      "execution_count": null,
      "outputs": [
        {
          "output_type": "stream",
          "text": [
            "17\n",
            "ovo je neki tekst\n",
            "ovo neki drugi tekst\n",
            "ovo je neki tekstovo neki drugi tekst\n"
          ],
          "name": "stdout"
        }
      ]
    },
    {
      "cell_type": "markdown",
      "metadata": {
        "id": "c6Ub_zo2zNhQ"
      },
      "source": [
        "- **\\_\\_init\\_\\_** moramo imati uvek, a **\\_\\_repr\\_\\_** kada hocemo da funkcija **print** radi nad nasim objektima ono sto mi hocemo (ako ne definisemo **\\_\\_repr\\_\\_** uopste nece raditi)"
      ]
    },
    {
      "cell_type": "markdown",
      "metadata": {
        "id": "3e4b8aBN1hec"
      },
      "source": [
        "## 15.6 Private, public, protected\n",
        "\n",
        "- **Enkapsulacija** - termin koji sluzi da u OOP-u oznaci organizaciju funkcionalnosti koristeci klase tako da su jasno definisane operacije koje se mogu izvoditi sa objektima ovih klasa. Takodje, ovaj termin znaci da je od spoljasnjeg sveta sakriven unutrasnji nacin funkcionisanja klasa, vec je prema njemu definisan **interfejs** preko koga ostatak koda komunicira sa objektima klase\n",
        "\n",
        "- Zbog enkapsulacije, u mnogim jezicima definisana su tri tipa (kvalifikatora) atributa i metoda koji obezbedjuju zasticenost unutrasnji funkcionalnosti klase:\n",
        "    - **private** - dostupni samo metodima unutar klase, uopste se ne mogu dohvatiti iz glavnog progama niti im objekti drugih klasa mogu pristupiti\n",
        "\n",
        "    - **protected** - dostupni su samoj klasi kao i klasama izvedenim iz ove klase (radicemo nasledjivanje)\n",
        "\n",
        "    - **public** - dostupni su svima\n",
        "\n",
        "- Ti jezici ovo su uradili jer smatraju da su programeri cesto nesmotreni i da je bolje zastititi se od nenamernog (ili namernog) ceprkanja po unutrasnjim funkcionalnostima\n",
        "\n",
        "- Python filozofija polazi do toga da su programeri sposobni za dobro rasudjivanje, te stoga nema ovako striktne kvalifikatore"
      ]
    },
    {
      "cell_type": "code",
      "metadata": {
        "id": "YVxaSDx6y-P4",
        "colab": {
          "base_uri": "https://localhost:8080/"
        },
        "outputId": "753a6346-fe17-45c7-c27f-8a950129600a"
      },
      "source": [
        "class Klasa:\n",
        "    def __init__(self):\n",
        "        self.a = 123    # public, dostupan svima\n",
        "        self._a = 456   # jedan underscore kaze: pazi, programer klase ovim\n",
        "                        # daje indikaciju da moze biti opasno igrati se sa ovim\n",
        "                        # atrubutom jer mu ne bi trebalo pristupati spolja\n",
        "        self.__a = 789  # privatni atribut, ne moze mu se nikako pristupiti spolja\n",
        "\n",
        "    def f(self):        # metod klase moze pristupiti svim atributima klase\n",
        "        print(self.a)\n",
        "        print(self._a)\n",
        "        print(self.__a)\n",
        "\n",
        "    def __privatni(self):   # ovome se moze pristupiti samo iz drugih metoda\n",
        "        print(\"Pozvan private metod\")\n",
        "\n",
        "    def pozovi_privatni(self):\n",
        "        self.__privatni()\n",
        "\n",
        "c = Klasa()\n",
        "print(c.a)\n",
        "print(c._a)\n",
        "#print(c.__a)\n",
        "print()\n",
        "\n",
        "c.f()\n",
        "print()\n",
        "\n",
        "#c.__privatni()\n",
        "print()\n",
        "\n",
        "c.pozovi_privatni()"
      ],
      "execution_count": 27,
      "outputs": [
        {
          "output_type": "stream",
          "text": [
            "123\n",
            "456\n",
            "\n",
            "123\n",
            "456\n",
            "789\n",
            "\n",
            "\n",
            "Pozvan private metod\n"
          ],
          "name": "stdout"
        }
      ]
    },
    {
      "cell_type": "markdown",
      "metadata": {
        "id": "HlvoTzkmBzZN"
      },
      "source": [
        "## 15.7 Geteri i seteri\n",
        "\n",
        "- Grupno ime za metode koje se koriste kao **interfejs** prema spoljasnjem kodu\n",
        "\n",
        "- Geteri iz klase vracaju neke njene atribute od interesa, posto su ti atributi najcesce private da se ne bi po njima direktno ceprkalo\n",
        "\n",
        "- Seteri postavljaju neke atribute iz istog razloga\n"
      ]
    },
    {
      "cell_type": "code",
      "metadata": {
        "id": "86gB-5zQCdxF",
        "colab": {
          "base_uri": "https://localhost:8080/"
        },
        "outputId": "baf0a248-b3c1-4644-84bb-0e320959b898"
      },
      "source": [
        "class Covek:\n",
        "    def __init__(self, ime, g):\n",
        "        self.__ime = ime\n",
        "        self.__godine = g\n",
        "\n",
        "    def get_godine(self):\n",
        "        return self.__godine\n",
        "\n",
        "    def set_godine(self, g):\n",
        "        if g > 1 and g < 100:\n",
        "            self.__godine = g\n",
        "\n",
        "    def __repr__(self):\n",
        "        return f\"{self.__ime}, {self.__godine}\\n\"\n",
        "\n",
        "ja = Covek(\"Kris\", 24)\n",
        "print(ja)\n",
        "\n",
        "print(ja.get_godine())\n",
        "print()\n",
        "\n",
        "ja.set_godine(25)   # pozivom setera koji je namenjen za ovo garantuje se da necu\n",
        "                    # nista zeznuti\n",
        "print(ja)\n",
        "\n",
        "# medjutim, ako direktno ceprkam gde ne treba, mogu da napravim glupost\n",
        "ja._Covek__godine = \"a\"\n",
        "print(ja)\n",
        "\n",
        "# zbog ovoga, godine postavim na private i samo koristim seter"
      ],
      "execution_count": 28,
      "outputs": [
        {
          "output_type": "stream",
          "text": [
            "Kris, 24\n",
            "\n",
            "24\n",
            "\n",
            "Kris, 25\n",
            "\n",
            "Kris, a\n",
            "\n"
          ],
          "name": "stdout"
        }
      ]
    },
    {
      "cell_type": "markdown",
      "metadata": {
        "id": "6FU3pQ9FCMWK"
      },
      "source": [
        "- Zasto se uopste koriste?\n",
        "\n",
        "- Ovo je elegantan nacin da korisniku klase dozvolimo pristup samo odredjenim delovima klase, bez bojazni da ce nesto pogresno da uradi\n",
        "\n",
        "- Na ovaj nacin odvajamo (decouple-ujemo) implementaciju klase od spoljasnjeg sveta prema kome obezbedjujemo interfejs kakav zelimo"
      ]
    },
    {
      "cell_type": "markdown",
      "metadata": {
        "id": "2Ws6ceTHDhBQ"
      },
      "source": [
        "## 15.8 Domaci\n",
        "\n",
        "1. Napraviti klasu Student koja sadrži privatna polja: ime, prezime, indeks, prosek. Napisati getere i setere za svaki od pomenutih privatnih atributa. Pri štampanju objekata ove klase, ispisati ih u sledećem obliku:\n",
        "Ime, prezime, indeks, prosek\n",
        "\n",
        "2. Napraviti klasu Autor koja opisuje autora neke knjige. Od privatnih polja klasa sadrži ime, prezime, godinu rođenja. Implementirati getere i setere za pomenutu klasu. Pri štampanju objekata klase, želimo da ispis bude u sledećem formatu:\\\n",
        "Autor: Steven King\\\n",
        "Godina rođenja: 1947 \n",
        "\n",
        "3. Napraviti klasu Knjiga koja opisuje knjigu. Od javnih polja klasa sadrži: naslov, autor (klase Autor, iz prethodnog zadatka), od privatnih polja sadrži ocenu\n",
        "(prosečna ocena knjige, 0-10). Implementirati getere i setere za private atribute.\n",
        "Obezbediti ispis knjige u sledećem formatu:\n",
        "> Knjiga: Zenica Sveta\\\n",
        "> Ocena 9.7\\\n",
        "> Autor: Robert Dzordan\\\n",
        "> Godina rodjenja: 1948\n",
        "\n",
        "Napisati main funkciju u kojoj je potrebno napraviti sledeće knjige:\n",
        "Robert Džordan, Zenica Sveta, 9,7; Daniel Suarez, Demon, 9.5; Daniel Suarez, Sloboda, 9.1 "
      ]
    },
    {
      "cell_type": "markdown",
      "metadata": {
        "id": "DgZMIa8td0x0"
      },
      "source": [
        "---\n",
        "1. Napraviti klasu Student koja sadrži privatna polja: ime, prezime, indeks, prosek. Napisati getere i setere za svaki od pomenutih privatnih atributa. Pri štampanju objekata ove klase, ispisati ih u sledećem obliku: Ime, prezime, indeks, prosek"
      ]
    },
    {
      "cell_type": "code",
      "metadata": {
        "colab": {
          "base_uri": "https://localhost:8080/"
        },
        "id": "YWpj-XuLd0Yj",
        "outputId": "94cba6ce-fa58-4e92-c931-d739564fe147"
      },
      "source": [
        "class Student:\n",
        "    def __init__(self, ime, prezime, indeks, prosek):\n",
        "        self.__ime = ime\n",
        "        self.__prezime = prezime\n",
        "        self.__indeks = indeks\n",
        "        self.__prosek = prosek\n",
        "\n",
        "    def get_ime(self):\n",
        "        return self.__ime\n",
        "\n",
        "    def get_prezime(self):\n",
        "        return self.__prezime\n",
        "\n",
        "    # geteri za ostala polja\n",
        "\n",
        "    def set_indeks(self, i):\n",
        "        self.__indeks = i\n",
        "\n",
        "    def set_prosek(self, p):\n",
        "        self.__prosek = p\n",
        "\n",
        "    def __repr__(self):\n",
        "        return f\"{self.__ime}, {self.__prezime}, {self.__indeks}, {self.__prosek}\"\n",
        "\n",
        "\n",
        "marko = Student(\"Marko\", \"Jovanovic\", \"123/19\", 9.5)\n",
        "print(marko)\n",
        "\n",
        "# prodje semestar\n",
        "marko.set_prosek(9)\n",
        "print(marko)"
      ],
      "execution_count": 30,
      "outputs": [
        {
          "output_type": "stream",
          "text": [
            "Marko, Jovanovic, 123/19, 9.5\n",
            "Marko, Jovanovic, 123/19, 9\n"
          ],
          "name": "stdout"
        }
      ]
    },
    {
      "cell_type": "markdown",
      "metadata": {
        "id": "RUFjofQffi9A"
      },
      "source": [
        "---\n",
        "2. Napraviti klasu Autor koja opisuje autora neke knjige. Od privatnih polja klasa sadrži ime, prezime, godinu rođenja. Implementirati getere i setere za pomenutu klasu. Pri štampanju objekata klase, želimo da ispis bude u sledećem formatu:\\\n",
        "Autor: Steven King\\\n",
        "Godina rođenja: 1947 \n"
      ]
    },
    {
      "cell_type": "code",
      "metadata": {
        "id": "LXwffEiZ11Ai"
      },
      "source": [
        "class Autor:\n",
        "    def __init__(self, ime, prezime, godina):\n",
        "        self.__ime = ime\n",
        "        self.__prezime = prezime\n",
        "        self.__godina = godina\n",
        "\n",
        "    def get_ime(self):\n",
        "        return self.__ime\n",
        "\n",
        "    def get_prezime(self):\n",
        "        return self.__prezime\n",
        "\n",
        "    def get_godina(self):\n",
        "        return self.__godina\n",
        "\n",
        "    def __repr__(self):\n",
        "        #return f\"Autor: {self.get_ime()} {self.get_prezime()}\\nGodina rodjenja: {self.get_godina()}\"\n",
        "        return f\"Autor: {self.__ime} {self.__prezime}\\nGodina rodjenja: {self.__godina}\""
      ],
      "execution_count": 33,
      "outputs": []
    },
    {
      "cell_type": "code",
      "metadata": {
        "colab": {
          "base_uri": "https://localhost:8080/"
        },
        "id": "_8Yp0syPgifg",
        "outputId": "33bd07be-f726-44a5-f394-0a1032edd1f4"
      },
      "source": [
        "king = Autor(\"Stiven\", \"King\", 1947)\n",
        "print(king)"
      ],
      "execution_count": 34,
      "outputs": [
        {
          "output_type": "stream",
          "text": [
            "Autor: Stiven King\n",
            "Godina rodjenja: 1947\n"
          ],
          "name": "stdout"
        }
      ]
    },
    {
      "cell_type": "markdown",
      "metadata": {
        "id": "V-qgGYnHhIph"
      },
      "source": [
        "---\n",
        "3. Napraviti klasu Knjiga koja opisuje knjigu. Od javnih polja klasa sadrži: naslov, autora (klase Autor, iz prethodnog zadatka), od privatnih polja sadrži ocenu\n",
        "(prosečna ocena knjige, 0-10). Implementirati getere i setere za private atribute.\n",
        "Obezbediti ispis knjige u sledećem formatu:\n",
        "> Knjiga: Zenica Sveta\\\n",
        "> Ocena 9.7\\\n",
        "> Autor: Robert Dzordan\\\n",
        "> Godina rodjenja: 1948\n",
        "\n",
        "Napisati main funkciju u kojoj je potrebno napraviti sledeće knjige:\n",
        "Robert Džordan, Zenica Sveta, 9,7; Daniel Suarez, Demon, 9.5; Daniel Suarez, Sloboda, 9.1 "
      ]
    },
    {
      "cell_type": "code",
      "metadata": {
        "id": "vV4H68_CgrZs"
      },
      "source": [
        "class Knjiga:\n",
        "    def __init__(self, naslov, autor, ocena):\n",
        "        self.__ocena = ocena\n",
        "        self.naslov = naslov\n",
        "        self.autor = autor\n",
        "\n",
        "    def get_ocena(self):\n",
        "        return self.__ocena\n",
        "\n",
        "    def __repr__(self):\n",
        "        #return f\"Knjiga: {self.naslov}\\nOcena: {self.__ocena}\\n{self.autor.__repr__()}\"\n",
        "        return f\"Knjiga: {self.naslov}\\nOcena: {self.__ocena}\\n{print(self.autor)}\""
      ],
      "execution_count": 54,
      "outputs": []
    },
    {
      "cell_type": "code",
      "metadata": {
        "id": "2ZMHTXWuimvM",
        "colab": {
          "base_uri": "https://localhost:8080/"
        },
        "outputId": "3c358951-2da4-4cbf-adb3-c2264a4fe1e4"
      },
      "source": [
        "k = Knjiga(\"Zenica sveta\", Autor(\"Robert\", \"Dzordan\", 1945), 9.7)\n",
        "\n",
        "print(k)"
      ],
      "execution_count": 55,
      "outputs": [
        {
          "output_type": "stream",
          "text": [
            "Autor: Robert Dzordan\n",
            "Godina rodjenja: 1945\n",
            "Knjiga: Zenica sveta\n",
            "Ocena: 9.7\n",
            "None\n"
          ],
          "name": "stdout"
        }
      ]
    },
    {
      "cell_type": "code",
      "metadata": {
        "id": "vw-SJKPI5z_d"
      },
      "source": [
        ""
      ],
      "execution_count": null,
      "outputs": []
    }
  ]
}