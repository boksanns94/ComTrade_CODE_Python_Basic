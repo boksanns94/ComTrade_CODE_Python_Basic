{
  "nbformat": 4,
  "nbformat_minor": 0,
  "metadata": {
    "colab": {
      "name": "16_OOP_MOJNOTEBOOK.ipynb",
      "provenance": [],
      "collapsed_sections": []
    },
    "kernelspec": {
      "name": "python3",
      "display_name": "Python 3"
    },
    "language_info": {
      "name": "python"
    }
  },
  "cells": [
    {
      "cell_type": "code",
      "metadata": {
        "colab": {
          "base_uri": "https://localhost:8080/"
        },
        "id": "imlMX12ZEnfi",
        "outputId": "7e09f88a-eb37-4b58-ca07-76bcf86fe1f7"
      },
      "source": [
        "class Krug:\n",
        "  def __init__(self, poluprecnik, centar = [0, 0]):\n",
        "    self.r = poluprecnik\n",
        "    self.pi = 3.14159\n",
        "    self.c = centar\n",
        "\n",
        "  def povrsina(self):\n",
        "    return self.r**2 * self.pi\n",
        "\n",
        "  def obim(self):\n",
        "    return 2*self.r*self.pi\n",
        "\n",
        "  def pomeri(self, x, y):\n",
        "    self.c[0] = x\n",
        "    self.c[1] = y\n",
        "  \n",
        "  def __repr__(self):\n",
        "    return f\"Ja sam krug sa poluprecnikom {self.r}, i nalazim se na X:{self.c[0]} Y:{self.c[1]}.\"\n",
        "\n",
        "k1 = Krug(5)\n",
        "print(k1.povrsina(), k1.obim())\n",
        "k2 = Krug(2)\n",
        "print(k2.povrsina(), k2.obim()) \n",
        "print(k1)\n",
        "k1.pomeri(2,5)\n",
        "print(k1)"
      ],
      "execution_count": null,
      "outputs": [
        {
          "output_type": "stream",
          "text": [
            "78.53975 31.4159\n",
            "12.56636 12.56636\n",
            "Ja sam krug sa poluprecnikom 5, i nalazim se na X:0 Y:0.\n",
            "Ja sam krug sa poluprecnikom 5, i nalazim se na X:2 Y:5.\n"
          ],
          "name": "stdout"
        }
      ]
    },
    {
      "cell_type": "code",
      "metadata": {
        "colab": {
          "base_uri": "https://localhost:8080/"
        },
        "id": "lbKBpAaGT2la",
        "outputId": "6396cc6c-328a-4d33-9f8b-cb596c0dcd78"
      },
      "source": [
        "class Osoba:\n",
        "  def __init__(self, ime, prezime, godine):\n",
        "    self.ime = ime\n",
        "    self.prezime = prezime\n",
        "    self.godine = godine\n",
        "\n",
        "  def predstaviSe(self):\n",
        "    print(f\"Ja sam {self.ime} {self.prezime}. Imam {self.godine} godina.\")\n",
        "\n",
        "marko = Osoba(\"marko\", \"markovic\", 30)\n",
        "print(marko)"
      ],
      "execution_count": null,
      "outputs": [
        {
          "output_type": "stream",
          "text": [
            "<__main__.Osoba object at 0x7fbe10c51790>\n"
          ],
          "name": "stdout"
        }
      ]
    },
    {
      "cell_type": "markdown",
      "metadata": {
        "id": "tprrZISPQawB"
      },
      "source": [
        "Domaci 1: Napraviti klasu Student koja sadrži privatna polja: ime, prezime, indeks, prosek. Napisati getere i setere za svaki od pomenutih privatnih atributa. Pri štampanju objekata ove klase, ispisati ih u sledećem obliku:\n",
        "Ime, prezime, indeks, prosek"
      ]
    },
    {
      "cell_type": "code",
      "metadata": {
        "colab": {
          "base_uri": "https://localhost:8080/"
        },
        "id": "xtP5deboQdci",
        "outputId": "e69092de-4a7c-4b45-f054-ba6efc549019"
      },
      "source": [
        "class Student:\n",
        "  def __init__(self, ime, prezime, indeks, prosek):\n",
        "    self.__ime = ime\n",
        "    self.__prezime = prezime\n",
        "    self.__indeks = indeks\n",
        "    self.__prosek = prosek\n",
        "\n",
        "  def set_ime(self, ime):\n",
        "    self.__ime = ime\n",
        "  \n",
        "  def set_prezime(self, prezime):\n",
        "    self.__prezime = prezime\n",
        "  \n",
        "  def set_indeks(self, indeks):\n",
        "    self.__indeks = indeks\n",
        "  \n",
        "  def set_prosek(self, prosek):\n",
        "    self.__prosek = prosek\n",
        "  \n",
        "  def get_ime(self):\n",
        "    return self.__ime\n",
        "  \n",
        "  def get_prezime(self):\n",
        "    return self.__prezime\n",
        "  \n",
        "  def get_indeks(self):\n",
        "    return self.__indeks\n",
        "\n",
        "  def get_prosek(self):\n",
        "    return self.__prosek\n",
        "  \n",
        "  def __repr__(self):\n",
        "    return f\"Student: {marko.get_ime()}, {marko.get_prezime()}, {marko.get_indeks()}, {marko.get_prosek()}\"\n",
        "\n",
        "\n",
        "\n",
        "marko = Student(\"Marko\", \"Markovic\", \"E3/124/19\", 9)\n",
        "print(marko)"
      ],
      "execution_count": 6,
      "outputs": [
        {
          "output_type": "stream",
          "text": [
            "Student: Marko, Markovic, E3/124/19, 9\n"
          ],
          "name": "stdout"
        }
      ]
    },
    {
      "cell_type": "markdown",
      "metadata": {
        "id": "XXWLCsDzR4T9"
      },
      "source": [
        "Domaci 2: Napraviti klasu Autor koja opisuje autora neke knjige. Od privatnih polja klasa sadrži ime, prezime, godinu rođenja. Implementirati getere i setere za pomenutu klasu. Pri štampanju objekata klase, želimo da ispis bude u sledećem formatu:\\\n",
        "Autor: Stephen King\\\n",
        " Godina rođenja: 1947 "
      ]
    },
    {
      "cell_type": "code",
      "metadata": {
        "colab": {
          "base_uri": "https://localhost:8080/"
        },
        "id": "cs8_iYPdSBDV",
        "outputId": "4295b04e-e792-4689-c539-18e15b500f21"
      },
      "source": [
        "class Autor:\n",
        "  def __init__(self, ime, prezime, godine):\n",
        "    self.__ime = ime\n",
        "    self.__prezime = prezime\n",
        "    self.__godina_rodjenja = godine\n",
        "  \n",
        "  def set_ime(self, ime):\n",
        "    self.__ime = ime\n",
        "  \n",
        "  def set_prezime(self, prezime):\n",
        "    self.__prezime = prezime\n",
        "  \n",
        "  def set_godine(self, godine):\n",
        "    self.__godina_rodjenja = godine\n",
        "  \n",
        "  def get_ime(self):\n",
        "    return self.__ime\n",
        "  \n",
        "  def get_prezime(self):\n",
        "    return self.__prezime\n",
        "  \n",
        "  def get_godine(self):\n",
        "    return self.__godina_rodjenja\n",
        "\n",
        "  def __repr__(self):\n",
        "    return f\"Autor: {self.get_ime()} {self.get_prezime()}\\nGodina rodjenja: {self.get_godine()}\"\n",
        "\n",
        "\n",
        "\n",
        "king = Autor(\"Stephen\", \"King\", 1947)\n",
        "print(king)"
      ],
      "execution_count": 18,
      "outputs": [
        {
          "output_type": "stream",
          "text": [
            "Autor: Stephen King\n",
            "Godina rodjenja: 1947\n"
          ],
          "name": "stdout"
        }
      ]
    },
    {
      "cell_type": "markdown",
      "metadata": {
        "id": "xZxqFVwJTyip"
      },
      "source": [
        "Domaci 3: Napraviti klasu Knjiga koja opisuje knjigu. Od javnih polja klasa sadrži: naslov, autor (klase Autor, iz prethodnog zadatka), od privatnih polja sadrži ocenu\n",
        "(prosečna ocena knjige, 0-10). Implementirati getere i setere za private atribute.\n",
        "Obezbediti ispis knjige u sledećem formatu:\n",
        "> Knjiga: Zenica Sveta\\\n",
        "> Ocena 9.7\\\n",
        "> Autor: Robert Dzordan\\\n",
        "> Godina rodjenja: 1948\n",
        "\n",
        "Napisati main funkciju u kojoj je potrebno napraviti sledeće knjige:\n",
        "Robert Džordan, Zenica Sveta, 9,7; Daniel Suarez, Demon, 9.5; Daniel Suarez, Sloboda, 9.1 "
      ]
    },
    {
      "cell_type": "code",
      "metadata": {
        "colab": {
          "base_uri": "https://localhost:8080/"
        },
        "id": "RyJIN5PxW8i5",
        "outputId": "08ab5b4d-7227-47f7-af84-90f974b6e5d4"
      },
      "source": [
        "class Knjiga:\n",
        "  def __init__(self, naslov, autor, ocena):\n",
        "    self.__ocena = ocena\n",
        "    self.naslov = naslov\n",
        "    self.autor = autor\n",
        "  \n",
        "  def set_ocena(self, ocena):\n",
        "    self.__ocena = ocena\n",
        "  \n",
        "  def get_ocena(self, ocena):\n",
        "    return self.__ocena\n",
        "  \n",
        "  def __repr__(self):\n",
        "    return f\"Knjiga: {self.naslov}\\nOcena: {self.__ocena}\\n{self.autor}\"\n",
        "\n",
        "robert_dzordan = Autor(\"Robert\", \"Dzordan\", 1948)\n",
        "daniel_suarez = Autor(\"Daniel\",  \"Suarez\", 1964)\n",
        "book1 = Knjiga(\"Zenica Sveta\", robert_dzordan, 9.7)\n",
        "book2 = Knjiga(\"Demon\", daniel_suarez, 9.5)\n",
        "book3 = Knjiga(\"Sloboda\", daniel_suarez, 9.1)\n",
        "\n",
        "print(book1, \"\\n\")\n",
        "print(book2, \"\\n\")\n",
        "print(book3, \"\\n\")"
      ],
      "execution_count": 27,
      "outputs": [
        {
          "output_type": "stream",
          "text": [
            "Knjiga: Zenica Sveta\n",
            "Ocena: 9.7\n",
            "Autor: Robert Dzordan\n",
            "Godina rodjenja: 1948 \n",
            "\n",
            "Knjiga: Demon\n",
            "Ocena: 9.5\n",
            "Autor: Daniel Suarez\n",
            "Godina rodjenja: 1964 \n",
            "\n",
            "Knjiga: Sloboda\n",
            "Ocena: 9.1\n",
            "Autor: Daniel Suarez\n",
            "Godina rodjenja: 1964 \n",
            "\n"
          ],
          "name": "stdout"
        }
      ]
    }
  ]
}