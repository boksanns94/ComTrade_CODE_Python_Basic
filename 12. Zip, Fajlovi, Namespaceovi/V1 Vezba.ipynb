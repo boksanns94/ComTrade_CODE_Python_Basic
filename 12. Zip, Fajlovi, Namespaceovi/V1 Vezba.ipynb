{
  "nbformat": 4,
  "nbformat_minor": 0,
  "metadata": {
    "colab": {
      "name": "Cas12.ipynb",
      "provenance": [],
      "collapsed_sections": []
    },
    "kernelspec": {
      "name": "python3",
      "display_name": "Python 3"
    },
    "language_info": {
      "name": "python"
    }
  },
  "cells": [
    {
      "cell_type": "code",
      "metadata": {
        "id": "4qCfKvpNzij9"
      },
      "source": [
        "for i in range(100):\n",
        "  if (i+1) % 3 == 0:\n",
        "    print(\"Fizz\", end = \"\")\n",
        "    fb_flag = 1\n",
        "  if (i+1) % 5 == 0:\n",
        "    print(\"Buzz\", end = \"\")\n",
        "    fb_flag = 1\n",
        "  if fb_flag:\n",
        "    print()\n",
        "    fb_flag = 0\n",
        "  else:\n",
        "    print(i+1)"
      ],
      "execution_count": null,
      "outputs": []
    },
    {
      "cell_type": "code",
      "metadata": {
        "colab": {
          "base_uri": "https://localhost:8080/"
        },
        "id": "eBc41BqqSmyK",
        "outputId": "d9e64843-16e2-4f76-e96f-22bba80a36a9"
      },
      "source": [
        "mesto = [1, 2, 3]\n",
        "ime = [\"Pera\", \"Zika\", \"Mika\"]\n",
        "godine = [20, 30, 50]\n",
        "\n",
        "z = zip(mesto, ime, godine)\n",
        "print(list(z))"
      ],
      "execution_count": null,
      "outputs": [
        {
          "output_type": "stream",
          "text": [
            "[(1, 'Pera', 20), (2, 'Zika', 30), (3, 'Mika', 50)]\n"
          ],
          "name": "stdout"
        }
      ]
    },
    {
      "cell_type": "markdown",
      "metadata": {
        "id": "MocKs-9DFTXs"
      },
      "source": [
        "Napisati program koji se sastoji od dve funkcije: ucitaj(ime) i prepisi(ime). Program treba da prepise sadržaj datoteke čije se ime prosleđuje kao argument fje ucitaj u datoteku čije se ime prosledjuje kao argument fje prepisi. U slučaju greške, na standardni izlaz za greške ispisati odgovarajuću poruku. Voditi racuna o pravilnom hendlovanju fajlova."
      ]
    },
    {
      "cell_type": "code",
      "metadata": {
        "colab": {
          "base_uri": "https://localhost:8080/"
        },
        "id": "Gkn9Gg1WFWMw",
        "outputId": "437876b9-5f97-4849-c4a8-785771a9a7ca"
      },
      "source": [
        "def ucitaj(ime):\n",
        "  imena = open(ime, \"r\")\n",
        "  sadrzaj = imena.read()\n",
        "  imena.close()\n",
        "  return sadrzaj\n",
        "\n",
        "def prepisi(ime, sadrzaj):\n",
        "  kopija = open(ime, \"w\")\n",
        "  kopija.write(sadrzaj)\n",
        "  kopija.close\n",
        "  print(\"Prepiska gotova.\")\n",
        "\n",
        "sadrzaj = ucitaj(\"podaci.txt\")\n",
        "prepisi(\"kopija.txt\", sadrzaj)"
      ],
      "execution_count": null,
      "outputs": [
        {
          "output_type": "stream",
          "text": [
            "Prepiska gotova.\n"
          ],
          "name": "stdout"
        }
      ]
    },
    {
      "cell_type": "markdown",
      "metadata": {
        "id": "22s-5FWIGjl3"
      },
      "source": [
        "Napisati program koji se sastoji iz iste funkcije ucitaj() kao u prethodnom zadatku, i funkcije prepisi_svaki_treci() koja prepisuje svaki treći karakter fajla u drugi fajl. Imena fajlova se prosledjuju kao argumenti funkcija, kao u prethodnom zadatku. U slučaju greške, na standardni izlaz ispisati odgovarajuću poruku."
      ]
    },
    {
      "cell_type": "code",
      "metadata": {
        "id": "xTB2sGhGGkkK"
      },
      "source": [
        "def ucitaj(ime):\n",
        "  fajl = open(ime, \"r\")\n",
        "  sadrzaj = fajl.read()\n",
        "  fajl.close()\n",
        "  return sadrzaj\n",
        "\n",
        "def prepisi_svaki_treci(ime,sadrzaj):\n",
        "  svaki_treci = sadrzaj[::3]\n",
        "  with open(ime, \"w\") as f:\n",
        "    f.write(svaki_treci)\n",
        "\n",
        "sadrzaj = ucitaj(\"podaci.txt\")\n",
        "prepisi_svaki_treci(\"kopija_svaki_treci.txt\", sadrzaj)\n"
      ],
      "execution_count": null,
      "outputs": []
    },
    {
      "cell_type": "markdown",
      "metadata": {
        "id": "3HnayH7rCeTc"
      },
      "source": [
        "Napisati program koji šifruje sadržaj fajla podaci.txt tako što svako slovo ciklično zamenjuje njegovim prethodnikom iz ASCII tabele suprotne veličine i upisuje u fajl sifra.txt. Na primer, slovo b se zamenjuje slovom A, slovo B slovom a, slovo a slovom `, slovo A slovom z itd. Ostali karakteri ostaju nepromenjeni. U slučaju greške na standardni izlaz za greške ispisati odgovarajuću poruku.\n",
        "Podsetiti se kako izgleda ASCII tabela i kako se barata ASCII karakterima u Pythonu guglanjem i citanjem 8_advanced_liste_i_petlje_rekurzija.ipynb"
      ]
    },
    {
      "cell_type": "code",
      "metadata": {
        "id": "MCyQCqfvCg54"
      },
      "source": [
        "def otvori(ime_fajla):\n",
        "  fajl = open(ime_fajla,\"r\")\n",
        "  sadrzaj = fajl.read()\n",
        "  fajl.close()\n",
        "  return sadrzaj\n",
        "\n",
        "def sifruj(ime_fajla, sadrzaj):\n",
        "  fajl = open(ime_fajla, \"w\")\n",
        "  for red in sadrzaj:\n",
        "    for znak in red:\n",
        "      if znak.isalpha():\n",
        "        sifrovan_znak = chr(ord(znak.swapcase())-1)\n",
        "      else:\n",
        "        sifrovan_znak = znak\n",
        "      fajl.write(sifrovan_znak)\n",
        "  fajl.close()\n",
        "  print(\"Sifrovanje zavrseno!\")\n",
        "\n",
        "sadrzaj = open(\"podaci.txt\")\n",
        "sifruj(\"sifrovana_poruka.txt\", sadrzaj)"
      ],
      "execution_count": null,
      "outputs": []
    },
    {
      "cell_type": "markdown",
      "metadata": {
        "id": "fBFseORVRGFj"
      },
      "source": [
        "Napisati program koji za dve datoteke ulaz.txt i izlaz.txt radi sledeće:\n",
        "Za svaku cifru u prvoj datoteci, u drugu upisuje 0\n",
        "Za svako slovo u prvoj datoteci, u drugu upisuje 1\n",
        "Za sve ostale karaktere u prvoj datoteci, u drugu upisuje 2"
      ]
    },
    {
      "cell_type": "code",
      "metadata": {
        "colab": {
          "base_uri": "https://localhost:8080/"
        },
        "id": "a21aILXNRGzK",
        "outputId": "83819986-3774-4512-d124-fc9ca482fc70"
      },
      "source": [
        "def otvori(ime):\n",
        "  fajl = open(ime, \"r\")\n",
        "  sadrzaj = fajl.read()\n",
        "  fajl.close()\n",
        "  return sadrzaj\n",
        "\n",
        "def cifruj(ime, sadrzaj):\n",
        "  izlazni_fajl = open(ime, \"w\")\n",
        "  for red in sadrzaj:\n",
        "    for znak in red:\n",
        "      if znak.isnumeric():\n",
        "        izlazni_fajl.write(\"0\")\n",
        "      elif znak.isalpha():\n",
        "        izlazni_fajl.write(\"1\")\n",
        "      else:\n",
        "        izlazni_fajl.write(\"2\")\n",
        "  izlazni_fajl.close()\n",
        "  print(\"Gotovo cifranje.\")\n",
        "\n",
        "\n",
        "sadrzaj = otvori(\"podaci.txt\")\n",
        "cifruj(\"cifrovanje.txt\", sadrzaj)"
      ],
      "execution_count": null,
      "outputs": [
        {
          "output_type": "stream",
          "text": [
            "Gotovo cifranje.\n"
          ],
          "name": "stdout"
        }
      ]
    },
    {
      "cell_type": "markdown",
      "metadata": {
        "id": "XCeMxq8DTJ_C"
      },
      "source": [
        "Napisati program koji prebrojava mala slova u datoteci “podaci.txt” i dobijeni rezultat ispisuje na standardni izlaz. U slučaju greške na standardni izlaz za greške ispisati odgovarajuću poruku."
      ]
    },
    {
      "cell_type": "code",
      "metadata": {
        "colab": {
          "base_uri": "https://localhost:8080/"
        },
        "id": "_T9BkcJaTMml",
        "outputId": "21d873b0-8e91-491a-cb9d-8a8e339cdd6b"
      },
      "source": [
        "def otvori(ime_datoteke):\n",
        "  datoteka = open(ime_datoteke, \"r\")\n",
        "  sadrzaj = datoteka.read()\n",
        "  datoteka.close()\n",
        "  return sadrzaj\n",
        "\n",
        "def prebrojavanje_cifara(ime_datoteke, sadrzaj):\n",
        "  broj_malih_slova = 0\n",
        "  for red in sadrzaj:\n",
        "    for znak in red:\n",
        "      if znak.islower():\n",
        "        broj_malih_slova += 1\n",
        "  print(f\"Broj malih slova u datoteci {ime_datoteke} je {broj_malih_slova}.\")\n",
        "\n",
        "ime_datoteke = \"podaci.txt\"\n",
        "prebrojavanje_cifara(ime_datoteke, otvori(ime_datoteke))"
      ],
      "execution_count": null,
      "outputs": [
        {
          "output_type": "stream",
          "text": [
            "Broj malih slova u datoteci podaci.txt je 32.\n"
          ],
          "name": "stdout"
        }
      ]
    }
  ]
}