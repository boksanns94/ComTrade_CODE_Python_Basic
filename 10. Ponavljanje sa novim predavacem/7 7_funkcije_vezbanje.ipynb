{
  "nbformat": 4,
  "nbformat_minor": 0,
  "metadata": {
    "colab": {
      "name": "6_funkcije_vezbanje.ipynb",
      "provenance": [],
      "collapsed_sections": []
    },
    "kernelspec": {
      "name": "python3",
      "display_name": "Python 3"
    }
  },
  "cells": [
    {
      "cell_type": "markdown",
      "metadata": {
        "id": "qDsgnacAM6td"
      },
      "source": [
        "# 6 Funkcije - vezbanje"
      ]
    },
    {
      "cell_type": "markdown",
      "metadata": {
        "id": "J5Oz6o0oNCaT"
      },
      "source": [
        "## 6.1 Podsetnik\n",
        "* Problemi sa domacim?\n",
        "\n",
        "* Pogledati **5_funkcije.ipynb**\n",
        "\n",
        "* Sledeci cas test"
      ]
    },
    {
      "cell_type": "markdown",
      "metadata": {
        "id": "Th4DcSugNRlL"
      },
      "source": [
        "## 6.2 Zadaci\n",
        "\n",
        "1. Napisati funkciju min(x, y, z) koja izračunava minimum tri broja. Funkciju napisati na dva načina, jednom korišćenjem listi, drugi put bez korišćenja listi.\n",
        "Napisati program koji učitava tri cela broja i ispisuje njihov minimum.\n",
        "\n",
        "2. Napisati program koji testira ove funkcije:\n",
        "- Napisatu funkciju koja računa kvadrat unetog broja\n",
        "- Napisati funkciju koja računa apsolutnu vrednost unetog broja\n",
        "- Napisati funkciju koja računa kub unetog broja\n",
        "- Napisati funkciju koja računa x^n gde su x i n argumenti funkcije\n",
        "- Napisati funkciju koja računa fibonačijev niz, fibonaci(n)\n",
        "\n",
        "3. Napisati funkciju zapis(x, y) koja proverava da li se brojevi x i y zapisuju pomoću istih cifara. Funkcija treba da vrati jedinicu ako je uslov ispunjen, a nulu inače.\n",
        "Napisati program koji učitava dva cela broja i ispisuje da li je za njih pomenuti uslov ispunjen ili ne.\n",
        "\n",
        "4. Napisati funkciju par_nepar(n) koja ispituje da li su cifre datog celog broja naizmenično parne i neparne.\n",
        "Napisati program koji učitava ceo broj i ispisuje da li on ispunjava pomenuti uslov ili ne.\n",
        "\n",
        "5. Napisati funkciju romb(n) koja iscrtava romb čija je stranica dužine n. Napisati program koji učitava pozitivan broj i iscrtava odgovarajuću sliku. U slučaju neispravnog unosa, ispisati odgovarajuću poruku o grešci.\n",
        "\n",
        "```\n",
        "# Primer\n",
        "\n",
        "n = 5\n",
        "==========\n",
        "    *****\n",
        "   *****\n",
        "  *****\n",
        " *****\n",
        "*****\n",
        "\n",
        "=========\n",
        "n = 2\n",
        " **\n",
        "**\n",
        "```"
      ]
    },
    {
      "cell_type": "markdown",
      "metadata": {
        "id": "lsLywF2Wti4j"
      },
      "source": [
        "---\r\n",
        "1. Napisati funkciju ukloni(n, p) koja menja broj n tako što iz njegovog zapisa uklanja cifru na poziciji p. Pozicije se broje sa desna na levo. Cifra jedinica ima poziciju 1. Napisati program koji učitava redni broj pozicije a zatim cele brojeve koji se unose sve do unosa broja nula, ispisuje brojeve kojima je uklonjena cifra na poziciji p. U slučaju neispravnog unosa, ispisati odgovarajuću poruku o grešci.\r\n"
      ]
    },
    {
      "cell_type": "code",
      "metadata": {
        "id": "j2rsi3A_MvqK",
        "colab": {
          "base_uri": "https://localhost:8080/"
        },
        "outputId": "67d5716a-2ded-49ad-8a17-f838d520a573"
      },
      "source": [
        "def ukloni(n, p):\r\n",
        "    s = str(n).replace(str(n)[-p], \"\")\r\n",
        "    return s\r\n",
        "\r\n",
        "n = 123456\r\n",
        "p = 3\r\n",
        "\r\n",
        "string = str(n)\r\n",
        "print(string)\r\n",
        "string = string.replace(\"4\", \"\")\r\n",
        "print(string.replace(\"4\", \"\"))\r\n",
        "\r\n",
        "l = list(str(n))\r\n",
        "l.remove(l[-p])\r\n",
        "print(l)"
      ],
      "execution_count": 9,
      "outputs": [
        {
          "output_type": "stream",
          "text": [
            "123456\n",
            "12356\n",
            "['1', '2', '3', '5', '6']\n"
          ],
          "name": "stdout"
        }
      ]
    },
    {
      "cell_type": "markdown",
      "metadata": {
        "id": "nqFWBC5Rxt7r"
      },
      "source": [
        "---\r\n",
        "2. Napisati funkciju sadrzi(x, c) koja ispituje da li se cifra c nalazi u zapisu celog broja x. Funkcija treba da vrati True ako se cifra nalazi u broju, a False inace. Napisati program koji ucitava jedan ceo broj i jednu cifru i u zavisnosti od toga da li se uneta cifra nalazi u zapisu unetog broja, ispisuje odgovarajuću poruku. U slučaju neispravnog unosa, ispisati odgovarajuću poruku o grešci."
      ]
    },
    {
      "cell_type": "code",
      "metadata": {
        "colab": {
          "base_uri": "https://localhost:8080/"
        },
        "id": "SMik4j-_uIat",
        "outputId": "8e7ed252-fc76-425a-e458-37d6fb1b31a5"
      },
      "source": [
        "def sadrzi(x, c):\r\n",
        "    # x = 12345 -> str -> '12345' -> list -> ['1', '2', '3', '4', '5']\r\n",
        "    # c = 6\r\n",
        "    x_lista = list(str(x))\r\n",
        "    c_str = str(c)\r\n",
        "\r\n",
        "    nalazi_se = False\r\n",
        "\r\n",
        "    for element in x_lista:\r\n",
        "        if element == c_str:\r\n",
        "            nalazi_se = True\r\n",
        "            break\r\n",
        "\r\n",
        "    return nalazi_se\r\n",
        "\r\n",
        "     \r\n",
        "\r\n",
        "x_input = int(input(\"Unesi broj x: \"))\r\n",
        "c_input = int(input(\"Unesi cifru c: \"))\r\n",
        "\r\n",
        "if sadrzi(x_input, c_input) == True:\r\n",
        "    print(\"Sadrzi\")\r\n",
        "else:\r\n",
        "    print(\"Ne sadrzi\")"
      ],
      "execution_count": 11,
      "outputs": [
        {
          "output_type": "stream",
          "text": [
            "Unesi broj x: 1234\n",
            "Unesi cifru c: 7\n",
            "Ne sadrzi\n"
          ],
          "name": "stdout"
        }
      ]
    },
    {
      "cell_type": "markdown",
      "metadata": {
        "id": "4TdVPa643oH3"
      },
      "source": [
        "---\r\n",
        "3. Napisati funkciju broj_neparnih_cifara(x) koja odredjuje broj neparnih cifara u zapisu datog celog broja. Napisati program koji učitava cele brojeve sve do unosa broja nula i ispisuje broj neparnih cifara svakog unetog broja."
      ]
    },
    {
      "cell_type": "code",
      "metadata": {
        "colab": {
          "base_uri": "https://localhost:8080/"
        },
        "id": "4jnfBtaM2-B4",
        "outputId": "c2c6b4c7-117c-460b-afd6-0ffc61b209d2"
      },
      "source": [
        "def broj_neparnih_cifara(x):\r\n",
        "    # x = 1234532489\r\n",
        "    broj_neparnih = 0\r\n",
        "    lista = list(str(x))    # ['1', '2'...]\r\n",
        "    for element in lista:\r\n",
        "        # element = '1'\r\n",
        "        if int(element) % 2 != 0:\r\n",
        "            broj_neparnih += 1\r\n",
        "    return broj_neparnih\r\n",
        "\r\n",
        "n = [] # [3, 1234, 231321, 213]\r\n",
        "\r\n",
        "while True:\r\n",
        "    broj = int(input(\"Unesi broj u listu: \"))\r\n",
        "    if broj != 0:\r\n",
        "        n.append(broj)\r\n",
        "    else:\r\n",
        "        break\r\n",
        "\r\n",
        "for broj in n:\r\n",
        "    print(broj_neparnih_cifara(broj))"
      ],
      "execution_count": 12,
      "outputs": [
        {
          "output_type": "stream",
          "text": [
            "Unesi broj u listu: 123\n",
            "Unesi broj u listu: 1\n",
            "Unesi broj u listu: 3217\n",
            "Unesi broj u listu: 3213\n",
            "Unesi broj u listu: 0\n",
            "2\n",
            "1\n",
            "3\n",
            "3\n"
          ],
          "name": "stdout"
        }
      ]
    },
    {
      "cell_type": "markdown",
      "metadata": {
        "id": "V-F7McZaBwuX"
      },
      "source": [
        "---\r\n",
        "4. Napisati funkciju min(x, y, z) koja izračunava minimum tri broja. Funkciju napisati na dva načina, jednom korišćenjem listi, drugi put bez korišćenja listi. Napisati program koji učitava tri cela broja i ispisuje njihov minimum."
      ]
    },
    {
      "cell_type": "code",
      "metadata": {
        "colab": {
          "base_uri": "https://localhost:8080/"
        },
        "id": "-1if40mj4zgw",
        "outputId": "8697be17-27d0-4456-c1e8-d3ae7afcbee4"
      },
      "source": [
        "def min1(x, y, z):\r\n",
        "    najmanji = 0\r\n",
        "    if x < y and x < z:\r\n",
        "        najmanji = x\r\n",
        "    elif y < x and y < z:\r\n",
        "        najmanji = y\r\n",
        "    elif z < x and z < y:\r\n",
        "        najmanji = z\r\n",
        "    \r\n",
        "    return najmanji\r\n",
        "\r\n",
        "def min2(x, y, z):\r\n",
        "    lista = [x, y, z]\r\n",
        "    min = lista[0]\r\n",
        "    \"\"\"\r\n",
        "    [1 -3 0 -5 6]\r\n",
        "    min = 1\r\n",
        "    1. iter: el=1 <? 1 nije\r\n",
        "    2. iter el=-3 <? 1 jeste -> min=-3\r\n",
        "    3. iter el=0 <? -3 nije\r\n",
        "    4. iter el=-5 <? -3 jeste -> min=-5\r\n",
        "    5. iter el=6 <? -5 nije \r\n",
        "    -> min=-5\r\n",
        "    for indeks in range(lista):\r\n",
        "        el = lista[indeks]\r\n",
        "    \"\"\"\r\n",
        "    for el in lista:\r\n",
        "        if el < min:\r\n",
        "            min = el\r\n",
        "\r\n",
        "    return min\r\n",
        "\r\n",
        "\r\n",
        "x_input = int(input(\"Unesi prvi broj: \"))\r\n",
        "y_input = int(input(\"Unesi drugi broj: \"))\r\n",
        "z_input = int(input(\"Unesi treci broj: \"))\r\n",
        "\r\n",
        "print(min(x_input, y_input, z_input))"
      ],
      "execution_count": 14,
      "outputs": [
        {
          "output_type": "stream",
          "text": [
            "Unesi prvi broj: 4\n",
            "Unesi drugi broj: -11\n",
            "Unesi treci broj: 2\n",
            "-11\n"
          ],
          "name": "stdout"
        }
      ]
    },
    {
      "cell_type": "markdown",
      "metadata": {
        "id": "9UIEay2uGF4u"
      },
      "source": [
        "---\r\n",
        "4. Napisati program koji implementira ove funkcije:\r\n",
        "\r\n",
        "- Napisatu funkciju koja računa kvadrat unetog broja\r\n",
        "- Napisati funkciju koja računa apsolutnu vrednost unetog broja\r\n",
        "- Napisati funkciju koja računa kub unetog broja\r\n",
        "- Napisati funkciju koja računa x^n gde su x i n argumenti funkcije"
      ]
    },
    {
      "cell_type": "code",
      "metadata": {
        "id": "Wcg73s6uDu99"
      },
      "source": [
        "def kvadrat(n):\r\n",
        "    kvad = n*n\r\n",
        "    return kvad\r\n",
        "\r\n",
        "def apsolutna(n):\r\n",
        "    # abs(x) = x ako je x >= 0, ili = (-1)*x ako je x < 0\r\n",
        "    # ako je x = 3 => abs(x) = 3\r\n",
        "    # ako je x = -3 => abs(x) = 3\r\n",
        "    if n >= 0:\r\n",
        "        return n\r\n",
        "    else:\r\n",
        "        return (-1)*n\r\n",
        "\r\n",
        "def kub(n):\r\n",
        "    k = n*n*n\r\n",
        "    return k\r\n",
        "\r\n",
        "def stepen(x, n):\r\n",
        "    s = x**n\r\n",
        "    return s"
      ],
      "execution_count": 15,
      "outputs": []
    },
    {
      "cell_type": "markdown",
      "metadata": {
        "id": "DfnJTVRsH8eK"
      },
      "source": [
        "---\r\n",
        "5. Napisati funkciju zapis(x, y) koja proverava da li se brojevi x i y zapisuju pomoću istih cifara. Funkcija treba da vrati jedinicu ako je uslov ispunjen, a nulu inače. Napisati program koji učitava dva cela broja i ispisuje da li je za njih pomenuti uslov ispunjen ili ne."
      ]
    },
    {
      "cell_type": "code",
      "metadata": {
        "colab": {
          "base_uri": "https://localhost:8080/"
        },
        "id": "gmmK7pmtIEAC",
        "outputId": "8cb4f428-169c-4bee-8093-464321e865a3"
      },
      "source": [
        "# 553 355 535 ok\r\n",
        "def zapis(x, y):\r\n",
        "    x_cifre = list(str(x))\r\n",
        "    y_cifre = list(str(y))\r\n",
        "    if len(x_cifre) != len(y_cifre):\r\n",
        "        return 0\r\n",
        "    # x = 4 5 3\r\n",
        "    # y = 3 5 3\r\n",
        "    broj_cifara = len(x_cifre)\r\n",
        "\r\n",
        "    for cx in x_cifre:\r\n",
        "        if cx in y_cifre:\r\n",
        "            y_cifre.remove(cx)\r\n",
        "        else:\r\n",
        "            return 0\r\n",
        "\r\n",
        "    if len(y_cifre) == 0:\r\n",
        "        return 1\r\n",
        "    else:\r\n",
        "        return 0\r\n",
        "\r\n",
        "print(zapis(553, 4553))\r\n"
      ],
      "execution_count": 21,
      "outputs": [
        {
          "output_type": "stream",
          "text": [
            "0\n"
          ],
          "name": "stdout"
        }
      ]
    },
    {
      "cell_type": "markdown",
      "metadata": {
        "id": "qXD8splCQtlH"
      },
      "source": [
        "---\r\n",
        "6. Napisati funkciju par_nepar(n) koja ispituje da li su cifre datog celog broja naizmenično parne i neparne. Napisati program koji učitava ceo broj i ispisuje da li on ispunjava pomenuti uslov ili ne."
      ]
    },
    {
      "cell_type": "code",
      "metadata": {
        "colab": {
          "base_uri": "https://localhost:8080/"
        },
        "id": "iGMntpkNKQ1g",
        "outputId": "6d7923c0-fc0e-4d7a-d32c-4428694043d9"
      },
      "source": [
        "# 1 2 3 4 5 7\r\n",
        "def paran_je(x):\r\n",
        "    if x % 2 == 0:\r\n",
        "        return True\r\n",
        "    else:\r\n",
        "        return False\r\n",
        "\r\n",
        "def par_nepar(n):\r\n",
        "    n_lista = list(str(n))\r\n",
        "    # '1' '2' '3' '4' '5' '6' \r\n",
        "    # parnost = True ako je broj paran, = False ako je neparan\r\n",
        "    parnost_prethodne_cifre = paran_je(int(n_lista[0]))\r\n",
        "\r\n",
        "    for cifra in n_lista[1:]:\r\n",
        "        parnost_trenutne_cifre = paran_je(int(cifra))\r\n",
        "        if parnost_trenutne_cifre == parnost_prethodne_cifre:\r\n",
        "            return False\r\n",
        "        else:\r\n",
        "            parnost_prethodne_cifre = parnost_trenutne_cifre\r\n",
        "\r\n",
        "    return True\r\n",
        "\r\n",
        "print(par_nepar(23456))"
      ],
      "execution_count": 26,
      "outputs": [
        {
          "output_type": "stream",
          "text": [
            "True\n"
          ],
          "name": "stdout"
        }
      ]
    },
    {
      "cell_type": "markdown",
      "metadata": {
        "id": "OiPqZsa3WqlC"
      },
      "source": [
        "---\r\n",
        "Napisati funkciju romb(n) koja iscrtava romb čija je stranica dužine n. Napisati program koji učitava pozitivan broj i iscrtava odgovarajuću sliku. U slučaju neispravnog unosa, ispisati odgovarajuću poruku o grešci."
      ]
    },
    {
      "cell_type": "code",
      "metadata": {
        "colab": {
          "base_uri": "https://localhost:8080/"
        },
        "id": "IRXf-kwrWXGD",
        "outputId": "fc0cd713-ab53-4e6d-e1ea-3c9d93619511"
      },
      "source": [
        "def romb(n):\r\n",
        "    zvezdice = n*\"*\"\r\n",
        "    razmak = (n-1)\r\n",
        "    for i in range(n):\r\n",
        "        print(razmak*\" \", zvezdice)\r\n",
        "        razmak -= 1\r\n",
        "\r\n",
        "romb(5)"
      ],
      "execution_count": 30,
      "outputs": [
        {
          "output_type": "stream",
          "text": [
            "     *****\n",
            "    *****\n",
            "   *****\n",
            "  *****\n",
            " *****\n"
          ],
          "name": "stdout"
        }
      ]
    },
    {
      "cell_type": "code",
      "metadata": {
        "id": "E56-NdVUW-xk"
      },
      "source": [
        ""
      ],
      "execution_count": null,
      "outputs": []
    }
  ]
}