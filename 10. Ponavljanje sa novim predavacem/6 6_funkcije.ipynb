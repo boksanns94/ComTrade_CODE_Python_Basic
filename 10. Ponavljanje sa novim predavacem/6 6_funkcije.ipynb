{
  "nbformat": 4,
  "nbformat_minor": 0,
  "metadata": {
    "colab": {
      "name": "5_funkcije.ipynb",
      "provenance": [],
      "collapsed_sections": []
    },
    "kernelspec": {
      "name": "python3",
      "display_name": "Python 3"
    }
  },
  "cells": [
    {
      "cell_type": "markdown",
      "metadata": {
        "id": "QADEtsIbq6hM"
      },
      "source": [
        "# 5 Funkcije\n",
        "\n"
      ]
    },
    {
      "cell_type": "markdown",
      "metadata": {
        "id": "zp6IWHudvPXL"
      },
      "source": [
        "## 5.1 Sta je funkcija?\n",
        "\n",
        "* Funkcija predstavlja blok naredbi koji sa jedne strane ima neke ulazne podatke, a sa druge daje neki izlaz\n",
        "\n",
        "* Funkcija se moze posmatrati sa ulazno-izlaznog stanovista kao crna kutija: na ulazu dobija nesto, a na izlazu daje po nekom algoritmu obradjene ulazne podatke"
      ]
    },
    {
      "cell_type": "markdown",
      "metadata": {
        "id": "1z6i8Xh9sDsn"
      },
      "source": [
        "![Screenshot 2020-11-16 211205.png](data:image/png;base64,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)"
      ]
    },
    {
      "cell_type": "markdown",
      "metadata": {
        "id": "Vwk1ay0wsN2g"
      },
      "source": [
        "* Cesto se koriste da se kod grupise u neke logicke celine obrade, kao i da se isti kod ne bi vise puta pisao\n",
        "\n",
        "* Recimo, ukoliko se radi backend web programiranje, cesto dohvatanje podataka iz baze ima smisla spakovati u funkciju, i na svakom mestu gde je potrebno procitati podatke iz baze, pozvati ovu funkciju\n",
        "\n",
        "* Do sad smo videli ugradjene funkcije: **len** vraca broj elemenata u nizu, **type** vraca tip prosledjene promenljive, itd.\n",
        "\n"
      ]
    },
    {
      "cell_type": "markdown",
      "metadata": {
        "id": "udj6u7WqvJwD"
      },
      "source": [
        "## 5.2 Parametri i argumenti\n",
        "\n",
        "* Ulazi u funkciju nazivaju se _parametrima_ funkcije\n",
        "\n",
        "* U Python-u se funkcija kreira koriscenjem kljucne reci **def** (define), za kojom sledi ime funkcije, te u zagradama navedeni parametri, nakon cega slede dve tacke\n",
        "\n",
        "* Sve sto je ispod te linije i indentovano je, smatra se telom funkcije "
      ]
    },
    {
      "cell_type": "code",
      "metadata": {
        "id": "JTjG7P0HnfOd"
      },
      "source": [
        "def funkcija(prvi_parametar, drugi_parametar):\n",
        "    # Ovde ide neka obrada\n",
        "    print(f\"Pozvana je funkcija sa argumentima {prvi_parametar} i {drugi_parametar}\")"
      ],
      "execution_count": 2,
      "outputs": []
    },
    {
      "cell_type": "markdown",
      "metadata": {
        "id": "aJKBGnoetaEB"
      },
      "source": [
        "* **Napomena**: celiju u kojoj je funkcija definisana potrebno je pokrenuti pre poziva funkcije, kako bi interpreter znao sta treba da pozove\n",
        "\n",
        "* Funkcija se poziva koriscenjem imena funkcije i prosledjivanjem _argumenata_"
      ]
    },
    {
      "cell_type": "code",
      "metadata": {
        "id": "QqGSYS3WtY72",
        "colab": {
          "base_uri": "https://localhost:8080/",
          "height": 233
        },
        "outputId": "a7d051ab-6f0a-47ce-ef7b-e8aa05e62f44"
      },
      "source": [
        "# Ovde pozivamo gornju funkciju\n",
        "funkcija(1, 2)  # Ako se ovako pozove, 1 ce se mapirati u prvi_parametar, 2 u drugi_parametar\n",
        "\n",
        "# Medjutim, moguce je i ovako nesto uraditi, sto je zgodno kada funkcija ima mnogo parametara\n",
        "funkcija(drugi_parametar = 5, prvi_parametar = 10)\n",
        "\n",
        "# Poziv funkcije koja nije definisana\n",
        "ovu_funkciju_nismo_definisali()"
      ],
      "execution_count": 3,
      "outputs": [
        {
          "output_type": "stream",
          "text": [
            "Pozvana je funkcija sa argumentima 1 i 2\n",
            "Pozvana je funkcija sa argumentima 10 i 5\n"
          ],
          "name": "stdout"
        },
        {
          "output_type": "error",
          "ename": "NameError",
          "evalue": "ignored",
          "traceback": [
            "\u001b[0;31m---------------------------------------------------------------------------\u001b[0m",
            "\u001b[0;31mNameError\u001b[0m                                 Traceback (most recent call last)",
            "\u001b[0;32m<ipython-input-3-955ed0d212f2>\u001b[0m in \u001b[0;36m<module>\u001b[0;34m()\u001b[0m\n\u001b[1;32m      6\u001b[0m \u001b[0;34m\u001b[0m\u001b[0m\n\u001b[1;32m      7\u001b[0m \u001b[0;31m# Poziv funkcije koja nije definisana\u001b[0m\u001b[0;34m\u001b[0m\u001b[0;34m\u001b[0m\u001b[0;34m\u001b[0m\u001b[0m\n\u001b[0;32m----> 8\u001b[0;31m \u001b[0movu_funkciju_nismo_definisali\u001b[0m\u001b[0;34m(\u001b[0m\u001b[0;34m)\u001b[0m\u001b[0;34m\u001b[0m\u001b[0;34m\u001b[0m\u001b[0m\n\u001b[0m",
            "\u001b[0;31mNameError\u001b[0m: name 'ovu_funkciju_nismo_definisali' is not defined"
          ]
        }
      ]
    },
    {
      "cell_type": "markdown",
      "metadata": {
        "id": "pL4xcCM5t51n"
      },
      "source": [
        "* _Default parametri_ funkcije su parametri kojima je pri definisanju funkcije data neka default vrednost\n",
        "\n",
        "* Pri pozivu funkcije ovi parametri se mogu po potrebi izmeniti, a ukoliko se ne izmene, koristi se default vrednost\n",
        "\n",
        "* Default parametri moraju ici na kraj liste parametara"
      ]
    },
    {
      "cell_type": "code",
      "metadata": {
        "id": "L45jtHEEtriy"
      },
      "source": [
        "def fja(nedefault_parametar, default_parametar = 5):\n",
        "    print(f\"Pozvana je fja sa argumentima {nedefault_parametar} i {default_parametar}\")"
      ],
      "execution_count": 4,
      "outputs": []
    },
    {
      "cell_type": "code",
      "metadata": {
        "id": "9oGF8_e1uPRG",
        "colab": {
          "base_uri": "https://localhost:8080/"
        },
        "outputId": "a1e4aed1-1f6f-48e1-8960-cd0177a862c6"
      },
      "source": [
        "# Sada fju mozemo pozvati ovako\n",
        "fja(10)\n",
        "\n",
        "# Ali i ovako\n",
        "fja(1, 2)"
      ],
      "execution_count": 5,
      "outputs": [
        {
          "output_type": "stream",
          "text": [
            "Pozvana je fja sa argumentima 10 i 5\n",
            "Pozvana je fja sa argumentima 1 i 2\n"
          ],
          "name": "stdout"
        }
      ]
    },
    {
      "cell_type": "markdown",
      "metadata": {
        "id": "DBYOjHbKwUxs"
      },
      "source": [
        "* Posto Python nije _jako tipiziran_ jezik (https://en.wikipedia.org/wiki/Strong_and_weak_typing), gledajuci samo parametre funkcije, mi nemamo predstavu o tome sta su oni zapravo\n",
        "\n",
        "* Neophodno je u svakom trenutku znati kog tipa je koji parametar i sta treba sa njim da se radi (sto, naravno, znamo ako smo mi pisali funkciju)\n",
        "\n",
        "* Recimo, nema vidne razlike izmedju prosledjivanja int-a i liste funkciji"
      ]
    },
    {
      "cell_type": "code",
      "metadata": {
        "id": "9iSgrTm_u832"
      },
      "source": [
        "def fja2(ne_znam_sta_je_ovo, ni_ovo):\n",
        "    print(f\"ne_znam_sta_je_ovo je {ne_znam_sta_je_ovo}\")\n",
        "    print(f\"ni_ovo je {ni_ovo}\")\n",
        "\n",
        "# Mozemo proslediti bilo sta\n",
        "fja2(1, [1, 2, 3, 4])"
      ],
      "execution_count": null,
      "outputs": []
    },
    {
      "cell_type": "markdown",
      "metadata": {
        "id": "r0DgEPhwxkO4"
      },
      "source": [
        "* Ovo moze biti problem kada koristimo tudje funkcije (ili ugradjene)\n",
        "\n",
        "* Zbog toga je svaku funkciju neophodno lepo dokumentovati (kao sto cemo videti) kako bismo znali kako se ona pravilno koristi, sta ocekuje na ulazu i sta vraca na izlazu"
      ]
    },
    {
      "cell_type": "markdown",
      "metadata": {
        "id": "mkn_wrai0nbZ"
      },
      "source": [
        "## 5.3 \\*args, \\**kwargs\n",
        "\n",
        "* U Python-u, funkcijama mozemo proslediti promenljiv broj argumenata koristeci specijalnu sintaksu\n",
        "\n",
        "* \\*args - non-keyword argumenti\n",
        "\n",
        "* \\*\\*kwargs - keyword argumenti\n",
        "\n",
        "* \\*args je specijalna sintaksa, tj. specijalan parametar funkcije koji omogucuje da se funkciji prosledi promenljiv broj non-keyworded argumenata\n",
        "\n",
        "* \\*args u telu funkcije postaje iterabla - lista kroz koju mozemo da iteriramo element po element i tako uzmemo sve prosledjene argumente"
      ]
    },
    {
      "cell_type": "code",
      "metadata": {
        "id": "9fqmqgaX2k62",
        "colab": {
          "base_uri": "https://localhost:8080/"
        },
        "outputId": "b4f115fa-5498-4355-95f6-dfeda4a31c22"
      },
      "source": [
        "def funkcija(*args):\n",
        "    for argument in args:\n",
        "        print(argument)\n",
        "\n",
        "funkcija(1, \"bla\", 3.5, [1, 2, 3], 4, 1, 2, 1)  # Nema kljucnih reci, samo prosledjujemo argumente"
      ],
      "execution_count": 7,
      "outputs": [
        {
          "output_type": "stream",
          "text": [
            "1\n",
            "bla\n",
            "3.5\n",
            "[1, 2, 3]\n",
            "4\n",
            "1\n",
            "2\n",
            "1\n"
          ],
          "name": "stdout"
        }
      ]
    },
    {
      "cell_type": "markdown",
      "metadata": {
        "id": "UoJ4_BEM2z9p"
      },
      "source": [
        "* Specijalan parametar \\*\\*kwargs sluzi za prosledjivanje promenljivog broja keyworded argumenata\n",
        "\n",
        "* Keyworded argument je argument kod kog je zajedno sa vrednoscu prosledjeno i ime argumenta\n",
        "\n",
        "* Takodje mozemo iterirati kroz \\*\\*kwargs"
      ]
    },
    {
      "cell_type": "code",
      "metadata": {
        "id": "cW-k9Pyc3UA4",
        "colab": {
          "base_uri": "https://localhost:8080/"
        },
        "outputId": "935ee27d-b2c4-4838-a251-74b3950609e2"
      },
      "source": [
        "def funkcija(**kwargs):\n",
        "    for key, value in kwargs.items():\n",
        "        print(f\"{key}: {value}\")\n",
        "\n",
        "funkcija(first = \"Python\", mid = \"basic\", last = \"kurs\",)"
      ],
      "execution_count": 15,
      "outputs": [
        {
          "output_type": "stream",
          "text": [
            "Python\n"
          ],
          "name": "stdout"
        }
      ]
    },
    {
      "cell_type": "markdown",
      "metadata": {
        "id": "AnYCuOu8xv0e"
      },
      "source": [
        "## 5.4 Povratna vrednost funkcije\n",
        "\n",
        "* Do sada nase funkcije nisu vracale nista - samo su ispisivale nesto na ekran\n",
        "\n",
        "* Obicno, funkcija se zove kako bi izvrsila neku obradu i dala neki rezultat (tek eventualno ispisala nesto na ekran)\n",
        "\n",
        "* Ovo se postize koriscenjem **return** naredbe"
      ]
    },
    {
      "cell_type": "code",
      "metadata": {
        "id": "HU0eFGv_xhLm",
        "colab": {
          "base_uri": "https://localhost:8080/"
        },
        "outputId": "434eef1b-68ce-41b3-c6ba-db92a747840e"
      },
      "source": [
        "def add(a, b):\n",
        "    return a + b\n",
        "\n",
        "def sub(a, b):\n",
        "    return a - b\n",
        "\n",
        "def mul(a, b):\n",
        "    return a*b\n",
        "\n",
        "x = 5\n",
        "y = 3\n",
        "\n",
        "print(\"Zbir je\", add(x, y))\n",
        "print(\"Razlika je\", sub(x, y))\n",
        "print(\"Proizvod je\", mul(x, y))"
      ],
      "execution_count": null,
      "outputs": [
        {
          "output_type": "stream",
          "text": [
            "Zbir je 8\n",
            "Razlika je 2\n",
            "Proizvod je 15\n"
          ],
          "name": "stdout"
        }
      ]
    },
    {
      "cell_type": "markdown",
      "metadata": {
        "id": "_sQHIYJ1ya0L"
      },
      "source": [
        "* U Python-u funkcija moze vratiti proizvoljan broj elemenata (sto nije slucaj u mnogim jezicima, a vrlo je zgodna stvar)"
      ]
    },
    {
      "cell_type": "code",
      "metadata": {
        "id": "HiUMlb0oyT3x",
        "colab": {
          "base_uri": "https://localhost:8080/"
        },
        "outputId": "d4cddece-d4b7-43d7-fbd7-f7f94191922c"
      },
      "source": [
        "def add_sub_mul(a, b):\n",
        "    zbir = a + b\n",
        "    razlika = a - b\n",
        "    proizvod = a * b\n",
        "\n",
        "    return zbir, razlika, proizvod\n",
        "\n",
        "z, r, p = add_sub_mul(1, 2)     # Funkcija zapravo povratne vrednosti vraca unutar strukture koja se \n",
        "                                # zove tuple (kasnije vise o tome), tako da, u sustini, ima samo\n",
        "                                # jednu povratnu vrednost\n",
        "\n",
        "print(z, r, p)"
      ],
      "execution_count": 21,
      "outputs": [
        {
          "output_type": "stream",
          "text": [
            "3 -1 2\n"
          ],
          "name": "stdout"
        }
      ]
    },
    {
      "cell_type": "markdown",
      "metadata": {
        "id": "hY8dhCmA1R7Z"
      },
      "source": [
        "## 5.5 Pass\n",
        "\n",
        "* **pass** je jos jedna kljucna rec koja se moze koristiti pri implemenataciji funkcija, a koja obezbedjuje da funkcija - ne radi nista\n",
        "\n",
        "* Ovo je korisno kada na brzinu izdefinisemo sve funkcije koje ce nam biti potrebne, a tek potom krenemo da ih implementiramo"
      ]
    },
    {
      "cell_type": "code",
      "metadata": {
        "id": "lI3KUNU91oPY",
        "colab": {
          "base_uri": "https://localhost:8080/"
        },
        "outputId": "adb5543c-74ad-4fa6-827f-32a4c1f19095"
      },
      "source": [
        "def add(x, y):  # Stigao sam da implementiram sabiranje\n",
        "    return x + y\n",
        "\n",
        "def sub(x, y):  # Imao sam na umu da mi treba i oduzimanje, ali ga jos nisam implementirao\n",
        "    pass\n",
        "\n",
        "def sqr(x):     # Kao ni kvadriranje\n",
        "    pass\n",
        "\n",
        "print(add(1, 2))\n",
        "print(sub(1, 2))\n",
        "print(sqr(2))"
      ],
      "execution_count": 24,
      "outputs": [
        {
          "output_type": "stream",
          "text": [
            "3\n",
            "None\n",
            "None\n"
          ],
          "name": "stdout"
        }
      ]
    },
    {
      "cell_type": "markdown",
      "metadata": {
        "id": "XIWPnTo44ObO"
      },
      "source": [
        "## 5.6 Dokumentovanje funkcija\n",
        "\n",
        "* Iz razloga koje smo pomenuli, svaka iole kompleksnija funkcija mora biti dobro dokumentovana - imati pratece komentare uz sebe\n",
        "\n",
        "* Postoje smernice kako ovo treba da se radi, i najbolje je drzati se njih"
      ]
    },
    {
      "cell_type": "code",
      "metadata": {
        "id": "Lz9getIiyx99"
      },
      "source": [
        "def funkcija(arg1, arg2):\n",
        "    \"\"\" Ukratko opis toga sta je funkcija\n",
        "\n",
        "    Ovaj viselinijski komentar naziva se __docstring__ i jedan\n",
        "    je od atributa ove funkcije. \n",
        "    Ovde u ovoj sekciji treba da postoji detaljan opis kako\n",
        "    funkcija radi.\n",
        "    Ispod toga idu dve sekcije koje objasnjavaju ulazne parametre\n",
        "    i izlazne vrednosti.\n",
        "\n",
        "    Parameters\n",
        "    ----------\n",
        "    arg1 - opis ovog argumenta\n",
        "    arg2 - opis ovog\n",
        "\n",
        "    Returns\n",
        "    -------\n",
        "    sta funkcija vraca\n",
        "    \"\"\"\n",
        "    pass"
      ],
      "execution_count": 25,
      "outputs": []
    },
    {
      "cell_type": "code",
      "metadata": {
        "id": "OC47ELbo5lk_"
      },
      "source": [
        "def add(x, y):\n",
        "    \"\"\" Funkcija sabira prosledjene brojeve\n",
        "\n",
        "    Nema potrebe za detaljnim opisom, jer je fja jednostavna\n",
        "\n",
        "    Parameters\n",
        "    ----------\n",
        "    x - float ili int - prvi sabirak\n",
        "    y - float ili int - drugi sabirak\n",
        "\n",
        "    Returns\n",
        "    -------\n",
        "    zbir prosledjenih brojeva\n",
        "    \"\"\"\n",
        "    return x + y"
      ],
      "execution_count": 26,
      "outputs": []
    },
    {
      "cell_type": "code",
      "metadata": {
        "id": "36yLhF3T53la",
        "colab": {
          "base_uri": "https://localhost:8080/"
        },
        "outputId": "b9ac9da9-6473-47c4-b6d2-8bc5d02f6964"
      },
      "source": [
        "# Kliknite na ime funkcije ispod i hover-ujte misem\n",
        "funkcija(1, 2)\n",
        "add(1, 2)"
      ],
      "execution_count": null,
      "outputs": [
        {
          "output_type": "execute_result",
          "data": {
            "text/plain": [
              "3"
            ]
          },
          "metadata": {
            "tags": []
          },
          "execution_count": 26
        }
      ]
    },
    {
      "cell_type": "markdown",
      "metadata": {
        "id": "fHk1Sn4T6afp"
      },
      "source": [
        "## 5.7 Domaci\n",
        "\n",
        "1. Napisati funkciju razlomljeni_deo() koja izracunava razlomljeni (decimalni) deo broja x. Napisati program koji ucitava jedan realan broj i ispisuje njegov razlomljeni\n",
        "deo na sest decimala.\n",
        "\n",
        "```\n",
        "# Primer\n",
        "\n",
        "8.235\n",
        "========\n",
        "# Rezultat\n",
        "0.235000\n",
        "```\n",
        "\n",
        "2. Napisati funkciju je_stepen() koja za dva broja x i n utvrđuje da li je x neki ceo pozitivan stepen broja n. Ukoliko jeste, funkcija vraća izložilac stepena, a u suprotnom vraća -1. Napisati program koji učitava dva broja i ispisuje da li vrednost prvog odgovara vrednosti nekog stepena drugog broja (i kog).\n",
        "> **Napomena**: treba naci ceo pozitivan broj **a** tkd. je n^a = x => a = log_n(x). Trebace vam logaritam iz math biblioteke koja se ucitava sa **import math**. Izguglajte malo.  \n",
        "\n",
        "```\n",
        "# Primer\n",
        "\n",
        "81 3\n",
        "========\n",
        "# Rezultat\n",
        "Jeste: 81 = 3^4\n",
        "```\n",
        "\n",
        "3. Napisati funkciju prebrojavanje(x) koja prebrojava koliko se puta broj x pojavljuje u nizu brojeva koji se unose sa standardnog ulaza sve dok se ne unese nula. Napisati program koji učitava vrednost broja x i ispisuje koliko se puta njegova vrednost pojavila u unetom nizu.\n",
        "\n",
        "```\n",
        "# Primer\n",
        "\n",
        "Unesite broj x: 2.84\n",
        "Unesite brojeve:\n",
        "8.13 5 2.84 21.6 666 11.5 2.84 0\n",
        "================================\n",
        "# Rezultat\n",
        "Broj ponavljanja broja 2.84 je 2\n",
        "```\n",
        "\n",
        "4. Broj je prost ako je deljiv samo sa 1 i sa samim sobom.\n",
        "- Napisati funkciju prost(x) koja ispituje da li je dati ceo broj prost. Funkcija\n",
        "treba da vrati Bool vrednost.\n",
        "- Napisati funkciju prvih_n_prostih(n) koja ispisuje prvih n prostih brojeva\n",
        "- Napisati funkciju prosti_brojevi_manji_od_n(n) koja ispisuje sve proste\n",
        "brojeve manje od broja n\n",
        "\\\n",
        "\\\n",
        "Napisati program koji učitava pozitivan ceo broj n i ispisuje prvih n prostih brojeva, kao i sve proste brojeve manje od n. U slučaju neispravnog unosa, ispisati odgovarajuću poruku o grešci.\n",
        "\n",
        "5. Napisati funkciju sadrzi(x, c) koja ispituje da li se cifra c nalazi u zapisu celog broja x. Funkcija treba da vrati True ako se cifra nalazi u broju, a False inace. Napisati program koji ucitava jedan ceo broj i jednu cifru i u zavisnosti od toga da li se uneta cifra nalazi u zapisu unetog broja, ispisuje odgovarajuću poruku. U slučaju\n",
        "neispravnog unosa, ispisati odgovarajuću poruku o grešci.\n",
        "\n",
        "6. Napisati funkciju broj_neparnih_cifara(x) koja odredjuje broj neparnih cifara u zapisu datog celog broja. Napisati program koji učitava cele brojeve sve do unosa broja nula i ispisuje broj neparnih cifara svakog unetog broja.\n",
        "\n",
        "7. Napisati program za ispitivanje svojstava cifara datog celog broja.\n",
        "* Napisati funkciju sve_parne_cifre(x) koja ispituje da li se dati ceo broj sastoji\n",
        "isključivo iz parnih cifara.\n",
        "* Napisati funkciju sve_cifre_jednake(x) koja ispituje da li su sve cifre datog celog broja jednake.\n",
        "\\\n",
        "\\\n",
        "Program učitava ceo broj i u zavisnosti od toga da li su navedena svojstva ispunjena ili ne, ispisuje odgovarajuću poruku.\n",
        "\n",
        "8. Napisati funkciju ukloni(n, p) koja menja broj n tako što iz njegovog zapisa uklanja cifru na poziciji p. Pozicije se broje sa desna na levo. Cifra jedinica ima poziciju 1.\n",
        "Napisati program koji učitava redni broj pozicije a zatim cele brojeve koji se unose sve do unosa broja nula, ispisuje brojeve kojima je uklonjena cifra na poziciji p. U slučaju neispravnog unosa, ispisati odgovarajuću poruku o grešci.\n",
        "\n",
        "9. Napisati funkciju neopadajuce(n) koja ispituje da li su cifre datog celog broja u neopadajućem poretku. Funkcija treba da vrati jedinicu ako cifre ispunjavaju uslov,\n",
        "a nulu inače. Napisati program koji učitava ceo broj i ispisuje poruku da li su cifre unetog celog broja u neopadajućem poretku.\n",
        "\n",
        "10. Napisati funkciju rotacija(n) koja rotira cifre zadatog celog broja za jednu poziciju ulevo. Napisati program koji za brojeve koji se unose sve do unosa broja nula ispisuje odgovarajuće rotirane brojeve.\n",
        "\n",
        "```\n",
        "# Primer\n",
        "Unesite broj:\n",
        "14215\n",
        "==============\n",
        "# Rezultat\n",
        "42151\n",
        "```\n",
        "\n",
        "11. Prirodan broj a je Armstrongov ako je jednak sumi n-tih stepena svojih cifara, pri čemu je n broj cifara broja a. Napisati program koji za učitani pozitivan ceo broj\n",
        "proverava da li je Armstrongov. U slučaju neispravnog unosa, ispisati odgovarajuću poruku o grešci.\n",
        "\n",
        "```\n",
        "# Primer\n",
        "\n",
        "Unesite broj: 1634\n",
        "==================\n",
        "Broj je Armstrongov (jer je 1^4 + 6^4 + 3^4 + 4^4 = 1634)\n",
        "```\n",
        "\n",
        "12. Napisati program koji učitava tri cela broja koja predstavljaju dan, mesec i godinu i ispisuje datum sledećeg dana. Zadatak rešiti korišćenjem narednih funkcija.\n",
        "\n",
        "* prestupna(godina) koja za zadatu godinu proverava da li je prestupna.\n",
        "\n",
        "* broj_dana(mesec, godina) koja za dati mesec i godinu vraća broj dana u datom mesecu.\n",
        "\n",
        "* ispravan(dan, mesec, godina) koja za dati datum proverava da li je ispravan.\n",
        "\n",
        "* void - sledeci_dan(dan, mesec, godina) koja za dati datum ispisuje datum sledećeg dana.\n",
        "\\\n",
        "\\\n",
        "U slučaju neispravnog unosa, ispisati odgovarajuću poruku o grešci."
      ]
    },
    {
      "cell_type": "markdown",
      "metadata": {
        "id": "IrZJ8J3yvqXz"
      },
      "source": [
        "---\r\n",
        "1. Napisati funkciju razlomljeni_deo() koja izracunava razlomljeni (decimalni) deo broja x. Napisati program koji ucitava jedan realan broj i ispisuje njegov razlomljeni deo na sest decimala."
      ]
    },
    {
      "cell_type": "code",
      "metadata": {
        "id": "XCVrbmgOFYvI",
        "colab": {
          "base_uri": "https://localhost:8080/"
        },
        "outputId": "f64f3716-c7b2-46b9-fee2-f5fa2c0aea2b"
      },
      "source": [
        "def razlomljeni_deo(x):\r\n",
        "    return x - x//1\r\n",
        "\r\n",
        "print(\"{:.6f}\".format(razlomljeni_deo(2.3)))"
      ],
      "execution_count": 37,
      "outputs": [
        {
          "output_type": "stream",
          "text": [
            "0.300000\n"
          ],
          "name": "stdout"
        }
      ]
    },
    {
      "cell_type": "markdown",
      "metadata": {
        "id": "Lvr88Oz-yZap"
      },
      "source": [
        "---\r\n",
        "2. Napisati funkciju prebrojavanje(x) koja prebrojava koliko se puta broj x pojavljuje u nizu brojeva koji se unose sa standardnog ulaza sve dok se ne unese nula. Napisati program koji učitava vrednost broja x i ispisuje koliko se puta njegova vrednost pojavila u unetom nizu."
      ]
    },
    {
      "cell_type": "code",
      "metadata": {
        "colab": {
          "base_uri": "https://localhost:8080/"
        },
        "id": "a8Vk72XGwL6f",
        "outputId": "dfce4ce0-c56e-488b-ec4b-e6881cbb8428"
      },
      "source": [
        "def prebrojavanje(niz, x):\r\n",
        "    count = 0\r\n",
        "    for e in niz:\r\n",
        "        if x == e:\r\n",
        "            count += 1\r\n",
        "\r\n",
        "    return count\r\n",
        "\r\n",
        "def ucitaj_niz():\r\n",
        "    niz = []\r\n",
        "    while True:\r\n",
        "        element = int(input(\"Unesi element: \"))\r\n",
        "        if element == 0:\r\n",
        "            break\r\n",
        "        else:\r\n",
        "            niz.append(element)\r\n",
        "\r\n",
        "    return niz\r\n",
        "\r\n",
        "a = ucitaj_niz()\r\n",
        "prebrojavanje(a, 3)"
      ],
      "execution_count": 39,
      "outputs": [
        {
          "output_type": "stream",
          "text": [
            "Unesi element: 1\n",
            "Unesi element: 2\n",
            "Unesi element: 3\n",
            "Unesi element: 4\n",
            "Unesi element: 5\n",
            "Unesi element: 3\n",
            "Unesi element: 3\n",
            "Unesi element: 3\n",
            "Unesi element: 6\n",
            "Unesi element: 0\n"
          ],
          "name": "stdout"
        },
        {
          "output_type": "execute_result",
          "data": {
            "text/plain": [
              "4"
            ]
          },
          "metadata": {
            "tags": []
          },
          "execution_count": 39
        }
      ]
    },
    {
      "cell_type": "markdown",
      "metadata": {
        "id": "8tnZ-MuU0pdV"
      },
      "source": [
        "---\r\n",
        "3. Broj je prost ako je deljiv samo sa 1 i sa samim sobom.\r\n",
        "Napisati funkciju prost(x) koja ispituje da li je dati ceo broj prost. Funkcija treba da vrati Bool vrednost.\r\n",
        "Napisati funkciju prvih_n_prostih(n) koja ispisuje prvih n prostih brojeva\r\n",
        "Napisati funkciju prosti_brojevi_manji_od_n(n) koja ispisuje sve proste brojeve manje od broja n"
      ]
    },
    {
      "cell_type": "code",
      "metadata": {
        "colab": {
          "base_uri": "https://localhost:8080/"
        },
        "id": "JSoxH9st0cXu",
        "outputId": "821bcf3e-f035-4d68-ee0c-2100fb4fe327"
      },
      "source": [
        "def paran(x):\r\n",
        "    paran_je = True\r\n",
        "\r\n",
        "    if x % 2 != 0:\r\n",
        "        paran_je = False\r\n",
        "\r\n",
        "    return paran_je\r\n",
        "\r\n",
        "def prost(x):\r\n",
        "    prost_je = True\r\n",
        "# 11=1*11  2 3 4 5 6 7 8 9 10\r\n",
        "    for i in range(2, x):\r\n",
        "        if x % i == 0:\r\n",
        "            prost_je = False\r\n",
        "            break\r\n",
        "\r\n",
        "    return prost_je\r\n",
        "\r\n",
        "def prvih_n_prostih(n):\r\n",
        "    count = 0\r\n",
        "    i = 1\r\n",
        "    while count < 10:\r\n",
        "        if prost(i):\r\n",
        "            count += 1\r\n",
        "            print(i)\r\n",
        "\r\n",
        "        i += 1\r\n",
        "\r\n",
        "def prosti_brojevi_manji_od_n(n):\r\n",
        "    for i in range(1, n+1):\r\n",
        "        if prost(i):\r\n",
        "            print(i)\r\n",
        "    \r\n",
        "\r\n",
        "#prosti_brojevi_manji_od_n(10)\r\n",
        "prvih_n_prostih(10)"
      ],
      "execution_count": 57,
      "outputs": [
        {
          "output_type": "stream",
          "text": [
            "1\n",
            "2\n",
            "3\n",
            "5\n",
            "7\n",
            "11\n",
            "13\n",
            "17\n",
            "19\n",
            "23\n"
          ],
          "name": "stdout"
        }
      ]
    },
    {
      "cell_type": "code",
      "metadata": {
        "id": "vhVgOe4L2hi9"
      },
      "source": [
        ""
      ],
      "execution_count": null,
      "outputs": []
    }
  ]
}