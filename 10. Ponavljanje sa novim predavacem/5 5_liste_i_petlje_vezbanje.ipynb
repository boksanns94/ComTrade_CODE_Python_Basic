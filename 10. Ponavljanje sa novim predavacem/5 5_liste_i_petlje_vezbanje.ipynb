{
  "nbformat": 4,
  "nbformat_minor": 0,
  "metadata": {
    "colab": {
      "name": "4_liste_i_petlje_vezbanje.ipynb",
      "provenance": [],
      "collapsed_sections": []
    },
    "kernelspec": {
      "name": "python3",
      "display_name": "Python 3"
    }
  },
  "cells": [
    {
      "cell_type": "markdown",
      "metadata": {
        "id": "ExXKiq8dBsnl"
      },
      "source": [
        "#  4 Liste i petlje - vezbanje"
      ]
    },
    {
      "cell_type": "markdown",
      "metadata": {
        "id": "geg4x59ZByeO"
      },
      "source": [
        "## 4.1 Podsetnik\n",
        "\n",
        "* Problemi sa domacim?\n",
        "\n",
        "* Pogledati **3_liste_i_petlje.ipynb**"
      ]
    },
    {
      "cell_type": "markdown",
      "metadata": {
        "id": "uj_bZ_xxCAzt"
      },
      "source": [
        "## 4.2 Zadaci\n",
        "\n",
        "1. U prodavnici se nalaze artikli cije su cene pozitivni realni brojevi. Napisati program koji ucitava cene artikala sve do unosa broja nula i izracunava i ispisuje prosecnu\n",
        "vrednost cena u radnji. U slucaju neispravnog unosa, ispisati odgovarajucu poruku o gresci.\n",
        "\n",
        "2. Napisati program koji ucitava pozitivan ceo broj n, a potom i n realnih brojeva. Program ispisuje koliko puta je prilikom unosa doslo do promene znaka. Do promene znaka dolazi kada se nakon pozitivnog broja unese negativan broj ili kada se nakon negativnog broja unese pozitivan broj. U slucaju neispravnog unosa, ispisati odgovarajucu poruku o gresci.\n",
        "\n",
        "3. U prodavnici se nalazi n artikala cije su cene pozitivni realni brojevi. Napisati program koji ucitava n, a potom i cenu svakog pojedinacnog od n artikala i odredjuje i ispisuje najmanju cenu. U slucaju neispravnog unosa, ispisati odgovarajucu poruku o gresci.\n",
        "\n",
        "4. Napisati program koji uneti pozitivan ceo broj  transformise tako sto svaku parnu cifru u zapisu broja uveca za jedan. Ispisati dobijeni broj. U slucaju neispravnog unosa ispisati odgovarajucu poruku o gresci.\n",
        "\n",
        "5. Napisati program koji ucitava ceo broj n, a zatim i n karaktera. Program treba da proverava da li se od unetih karaktera moze napisati rec \"korona\". U slucaju neispravnog unosa, ispisati odgovarajucu poruku o gresci.\n",
        "\n",
        "6. Napisati program koji za uneti pozitivan ceo broj n, iscrtava mrezu od n*n zvezdica.\n",
        "\n",
        "```\n",
        "Unesite broj n:\n",
        "===============\n",
        "3\n",
        "===============\n",
        "# Rezultat\n",
        "* * *\n",
        "* * *\n",
        "* * *\n",
        "```\n",
        "\n",
        "7. Napisati program koji za uneti neparan pozitivan ceo broj n, ispisuje veliko plus dimenzije n\n",
        "\n",
        "```\n",
        "Unesite n:\n",
        "==========\n",
        "5\n",
        "==========\n",
        "    +\n",
        "    +\n",
        "+ + + + +\n",
        "    +\n",
        "    +\n",
        "```\n",
        "\n",
        "8. Napisati program koji za uneti pozitivan ceo broj n > 2, ispisuje zvezdice i tako iscrtava odgovarajucu sliku. Slika predstavlja pravougli trougao sastavljen od zvezdica. Kateta trougla je duzine n, a prav ugao nalazi se u gornjem levom uglu slike. \n",
        "\n",
        "```\n",
        "# n = 3\n",
        "* * *\n",
        "* *\n",
        "*\n",
        "=========\n",
        "# n = 4\n",
        "* * * *\n",
        "* * *\n",
        "* *\n",
        "*\n",
        "```\n",
        "\n",
        "9. Napisati program koji za uneti pozitivan ceo broj n, ispisuje zvezdice i tako iscrtava odgovarajucu sliku. Slika predstavlja pravougli trougao sastavljen od zvezdica. Kateta trougla je duzine n, a prav ugao nalazi se u gornjem desnom uglu slike. \n",
        "\n",
        "```\n",
        "# n = 3\n",
        "* * *\n",
        "  * *\n",
        "    *\n",
        "\n",
        "==========\n",
        "\n",
        "# n = 4\n",
        "* * * *\n",
        "  * * *\n",
        "    * *\n",
        "      *\n",
        "```\n"
      ]
    },
    {
      "cell_type": "markdown",
      "metadata": {
        "id": "5uQLs_IiKKy4"
      },
      "source": [
        "---\r\n",
        "1. U prodavnici se nalaze artikli cije su cene pozitivni realni brojevi. Napisati program koji ucitava cene artikala sve do unosa broja nula i izracunava i ispisuje prosecnu vrednost cena u radnji. U slucaju neispravnog unosa, ispisati odgovarajucu poruku o gresci."
      ]
    },
    {
      "cell_type": "code",
      "metadata": {
        "id": "RMlcg4FD9sup",
        "colab": {
          "base_uri": "https://localhost:8080/"
        },
        "outputId": "987bb5b3-3c5f-4c51-bbc4-fc2d23925fa8"
      },
      "source": [
        "lista_cena = []\r\n",
        "zbir = 0\r\n",
        "\r\n",
        "while True:\r\n",
        "    cena = float(input(\"Unesi cenu artikla: \"))\r\n",
        "    if cena < 0:\r\n",
        "        print(\"Cena ne sme biti manja od nule!\")\r\n",
        "        break\r\n",
        "    elif cena == 0:\r\n",
        "        print(\"Unos je zavrsen\")\r\n",
        "        break\r\n",
        "    else:\r\n",
        "        lista_cena.append(cena)\r\n",
        "\r\n",
        "for element in lista_cena:\r\n",
        "    zbir = zbir + element\r\n",
        "\r\n",
        "print(f\"Ovo je prosecna cena: {zbir / len(lista_cena)}\")"
      ],
      "execution_count": 4,
      "outputs": [
        {
          "output_type": "stream",
          "text": [
            "Unesi cenu artikla: 100\n",
            "Unesi cenu artikla: 200\n",
            "Unesi cenu artikla: 300\n",
            "Unesi cenu artikla: 0\n",
            "Unos je zavrsen\n",
            "Ovo je prosecna cena: 200.0\n"
          ],
          "name": "stdout"
        }
      ]
    },
    {
      "cell_type": "markdown",
      "metadata": {
        "id": "xX4bJY5oONOR"
      },
      "source": [
        "---\r\n",
        "2. Napisati program koji ucitava pozitivan ceo broj n, a potom i n realnih brojeva. Program ispisuje koliko puta je prilikom unosa doslo do promene znaka. Do promene znaka dolazi kada se nakon pozitivnog broja unese negativan broj ili kada se nakon negativnog broja unese pozitivan broj. U slucaju neispravnog unosa, ispisati odgovarajucu poruku o gresci."
      ]
    },
    {
      "cell_type": "code",
      "metadata": {
        "colab": {
          "base_uri": "https://localhost:8080/"
        },
        "id": "SumCXKn-McD7",
        "outputId": "6768b498-23ba-4a4e-b24f-6ffa0dccc31d"
      },
      "source": [
        "n = int(input(\"Unesite n: \"))\r\n",
        "promena_znaka = 0\r\n",
        "prethodni_znak = 1\r\n",
        "trenutni_znak = 1\r\n",
        "# int(broj / abs(broj)); abs(x) = x, za x>0 ili -x za x<0\r\n",
        "for i in range(n):\r\n",
        "    broj = float(input(f\"Unesi {i+1}. broj: \"))\r\n",
        "    trenutni_znak = int(broj/abs(broj))\r\n",
        "\r\n",
        "    # Prvi unos je specijalan slucaj jer nema prethodnika\r\n",
        "    if i == 0:\r\n",
        "        prethodni_znak = trenutni_znak\r\n",
        "        continue\r\n",
        "    else:\r\n",
        "        if trenutni_znak != prethodni_znak:\r\n",
        "            promena_znaka += 1\r\n",
        "\r\n",
        "print(promena_znaka)"
      ],
      "execution_count": 10,
      "outputs": [
        {
          "output_type": "stream",
          "text": [
            "Unesite n: 5\n",
            "Unesi 1.ti broj: 1\n",
            "Unesi 2.ti broj: -2\n",
            "Unesi 3.ti broj: -3\n",
            "Unesi 4.ti broj: 4\n",
            "Unesi 5.ti broj: 5\n",
            "2\n"
          ],
          "name": "stdout"
        }
      ]
    },
    {
      "cell_type": "markdown",
      "metadata": {
        "id": "I4B3JZP9SNdX"
      },
      "source": [
        "---\r\n",
        "3. U prodavnici se nalazi n artikala cije su cene pozitivni realni brojevi. Napisati program koji ucitava n, a potom i cenu svakog pojedinacnog od n artikala i odredjuje i ispisuje najmanju cenu. U slucaju neispravnog unosa, ispisati odgovarajucu poruku o gresci."
      ]
    },
    {
      "cell_type": "code",
      "metadata": {
        "id": "pst7jab4QF9Z"
      },
      "source": [
        "n = int(input(\"n? \"))\r\n",
        "lista_cena = []\r\n",
        "\r\n",
        "for i in range(n):\r\n",
        "    cena = float(input(\"Cena artikla: \"))\r\n",
        "    lista_cena.append(cena)\r\n",
        "\r\n",
        "# [100, 50, 100, 300]\r\n",
        "min = lista_cena[0]\r\n",
        "for cena in lista_cena:\r\n",
        "    if cena < min:\r\n",
        "        min = cena\r\n",
        "\r\n",
        "print(min)\r\n",
        "\r\n",
        "# ---------------------------\r\n",
        "n = int(input(\"n? \"))\r\n",
        "min = 1000000\r\n",
        "for i in range(n):\r\n",
        "    cena = float(input(\"Cena artikla: \"))\r\n",
        "    if cena < min:\r\n",
        "        min = cena\r\n",
        "\r\n",
        "print(min)"
      ],
      "execution_count": null,
      "outputs": []
    },
    {
      "cell_type": "markdown",
      "metadata": {
        "id": "5Eo2TwDwVcvJ"
      },
      "source": [
        "---\r\n",
        "4. Napisati program koji uneti pozitivan ceo broj transformise tako sto svaku parnu cifru u zapisu broja uveca za jedan. Ispisati dobijeni broj. U slucaju neispravnog unosa ispisati odgovarajucu poruku o gresci."
      ]
    },
    {
      "cell_type": "code",
      "metadata": {
        "colab": {
          "base_uri": "https://localhost:8080/"
        },
        "id": "Sz1jba3pW9_X",
        "outputId": "b22befe6-7638-4eef-c675-d9f392a837a5"
      },
      "source": [
        "n = int(input(\"n? \"))\r\n",
        "\r\n",
        "string_n = str(n)\r\n",
        "konacno = \"\"\r\n",
        "for e in string_n:\r\n",
        "    e = int(e)\r\n",
        "    if e % 2 == 0:\r\n",
        "        e += 1\r\n",
        "\r\n",
        "    konacno += str(e)\r\n",
        "\r\n",
        "print(int(konacno))"
      ],
      "execution_count": 18,
      "outputs": [
        {
          "output_type": "stream",
          "text": [
            "n? 12345\n",
            "13355\n"
          ],
          "name": "stdout"
        }
      ]
    },
    {
      "cell_type": "markdown",
      "metadata": {
        "id": "PETS12eIi2Rw"
      },
      "source": [
        "---\r\n",
        "5. Napisati program koji ucitava ceo broj n, a zatim i n karaktera. Program treba da proverava da li se od unetih karaktera moze napisati rec \"korona\". U slucaju neispravnog unosa, ispisati odgovarajucu poruku o gresci."
      ]
    },
    {
      "cell_type": "code",
      "metadata": {
        "colab": {
          "base_uri": "https://localhost:8080/"
        },
        "id": "pMZDGcXGVn6f",
        "outputId": "f5de7922-d470-4e95-8cc4-6ca23ad3f783"
      },
      "source": [
        "kljucna_rec = \"korona\"  # korna !!! ne sme da radi\r\n",
        "\r\n",
        "s = input(\"Unesi slova \") # kpadsordasonfasa\r\n",
        "lista = list(s) \r\n",
        "\r\n",
        "sadrzi_se = True\r\n",
        "\r\n",
        "for slovo in kljucna_rec:\r\n",
        "    if slovo in lista:\r\n",
        "        lista.remove(slovo)\r\n",
        "    else:\r\n",
        "        sadrzi_se = False   # neko od slova iz kljucne reci se ne nalazi medju\r\n",
        "                            # unetim slovima, tj. klj rec se ne moze sastaviti\r\n",
        "                            # od unetih slova\r\n",
        "        break\r\n",
        "\r\n",
        "if sadrzi_se:\r\n",
        "    print(\"Moze da se napise\")\r\n",
        "else:\r\n",
        "    print(\"Ne moze da se napise\")\r\n",
        "\r\n"
      ],
      "execution_count": 42,
      "outputs": [
        {
          "output_type": "stream",
          "text": [
            "Unesi slova korna\n",
            "Moze da se napise\n"
          ],
          "name": "stdout"
        }
      ]
    },
    {
      "cell_type": "markdown",
      "metadata": {
        "id": "yWMwr49Yq0t7"
      },
      "source": [
        "---\r\n",
        "Napisati funkciju remove_all(lista, x) koja iz liste izbacuje sva ponavljanja elementa x"
      ]
    },
    {
      "cell_type": "code",
      "metadata": {
        "colab": {
          "base_uri": "https://localhost:8080/"
        },
        "id": "Q11sCwdXqz_-",
        "outputId": "4408c503-2326-4887-8c08-4b146fd552da"
      },
      "source": [
        "from copy import deepcopy\r\n",
        "\r\n",
        "def remove_all(orig_lista, x): # orig_lista [1, 2, 3, 1, 1, 2] \r\n",
        "    pom_lista = deepcopy(orig_lista)      # pom_lista [2, 3, 2] \r\n",
        "    for simbol in orig_lista:   \r\n",
        "        if simbol == x:\r\n",
        "            pom_lista.remove(simbol)\r\n",
        "\r\n",
        "    print(pom_lista)\r\n",
        "\r\n",
        "# =================================\r\n",
        "lista = [1, 2, 3, 1, 1, 2]\r\n",
        "\r\n",
        "remove_all(lista, 1)"
      ],
      "execution_count": 59,
      "outputs": [
        {
          "output_type": "stream",
          "text": [
            "3\n",
            "[2, 3, 2]\n"
          ],
          "name": "stdout"
        }
      ]
    },
    {
      "cell_type": "markdown",
      "metadata": {
        "id": "k_2lDxnlwPQr"
      },
      "source": [
        "---\r\n",
        "6. Napisati program koji za uneti pozitivan ceo broj n, iscrtava mrezu od n*n zvezdica"
      ]
    },
    {
      "cell_type": "code",
      "metadata": {
        "colab": {
          "base_uri": "https://localhost:8080/"
        },
        "id": "YvLlKWlJjr5i",
        "outputId": "232674db-a509-481c-bd22-9017f97f47a5"
      },
      "source": [
        "n = int(input(\"n? \"))\r\n",
        "\r\n",
        "s = n*\"*\\t\" \r\n",
        "\r\n",
        "for i in range(n):\r\n",
        "    print(s)"
      ],
      "execution_count": 66,
      "outputs": [
        {
          "output_type": "stream",
          "text": [
            "n? 5\n",
            "*\t*\t*\t*\t*\t\n",
            "*\t*\t*\t*\t*\t\n",
            "*\t*\t*\t*\t*\t\n",
            "*\t*\t*\t*\t*\t\n",
            "*\t*\t*\t*\t*\t\n"
          ],
          "name": "stdout"
        }
      ]
    },
    {
      "cell_type": "markdown",
      "metadata": {
        "id": "LPhpCO__0jHH"
      },
      "source": [
        "---\r\n",
        "Napisati program koji za uneti pozitivan ceo broj n > 2, ispisuje zvezdice i tako iscrtava odgovarajucu sliku. Slika predstavlja pravougli trougao sastavljen od zvezdica. Kateta trougla je duzine n, a prav ugao nalazi se u gornjem levom uglu slike."
      ]
    },
    {
      "cell_type": "code",
      "metadata": {
        "colab": {
          "base_uri": "https://localhost:8080/"
        },
        "id": "cauQQkKFzwKC",
        "outputId": "c5c57473-c6e8-47b3-8ed8-e27cf382107e"
      },
      "source": [
        "n = int(input(\"n? \"))\r\n",
        "\"\"\"\r\n",
        "* * * *\r\n",
        "* * *\r\n",
        "* *\r\n",
        "*\r\n",
        "\"\"\"\r\n",
        "\r\n",
        "for i in range(n):\r\n",
        "    linija = (n-i)*\"*\\t\"\r\n",
        "    print(linija)"
      ],
      "execution_count": 68,
      "outputs": [
        {
          "output_type": "stream",
          "text": [
            "n? 4\n",
            "*\t*\t*\t*\t\n",
            "*\t*\t*\t\n",
            "*\t*\t\n",
            "*\t\n"
          ],
          "name": "stdout"
        }
      ]
    },
    {
      "cell_type": "code",
      "metadata": {
        "id": "MFSIR0wj1F-7"
      },
      "source": [
        ""
      ],
      "execution_count": null,
      "outputs": []
    }
  ]
}