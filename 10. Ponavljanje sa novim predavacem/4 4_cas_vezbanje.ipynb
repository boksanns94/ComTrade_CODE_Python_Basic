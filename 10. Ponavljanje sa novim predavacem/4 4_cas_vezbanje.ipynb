{
  "nbformat": 4,
  "nbformat_minor": 0,
  "metadata": {
    "colab": {
      "name": "4_cas_vezbanje.ipynb",
      "provenance": [],
      "collapsed_sections": []
    },
    "kernelspec": {
      "name": "python3",
      "display_name": "Python 3"
    }
  },
  "cells": [
    {
      "cell_type": "code",
      "metadata": {
        "colab": {
          "base_uri": "https://localhost:8080/"
        },
        "id": "S2_eRmDGvfk6",
        "outputId": "461f51b0-f937-4c7c-f9ed-4773d2b12507"
      },
      "source": [
        "# hocu 5 puta da ispisem hello world\r\n",
        "# pitanje je samo da li preko for ili while\r\n",
        "izbor = input(\"While ili for? \")\r\n",
        "\r\n",
        "if izbor == \"while\":\r\n",
        "    i = 1\r\n",
        "    while i <= 5:\r\n",
        "        print(\"Hello world\")\r\n",
        "        i += 1\r\n",
        "elif izbor == \"for\":\r\n",
        "    for i in range(5):\r\n",
        "        print(\"Hello world\")\r\n",
        "else:\r\n",
        "    print(\"Nevalidan izbor\")\r\n"
      ],
      "execution_count": 2,
      "outputs": [
        {
          "output_type": "stream",
          "text": [
            "While ili for? while\n",
            "Hello world\n",
            "Hello world\n",
            "Hello world\n",
            "Hello world\n",
            "Hello world\n"
          ],
          "name": "stdout"
        }
      ]
    },
    {
      "cell_type": "code",
      "metadata": {
        "colab": {
          "base_uri": "https://localhost:8080/"
        },
        "id": "psqkwDMhwTwU",
        "outputId": "50e4eeef-e119-4ae8-f444-64b40eea886f"
      },
      "source": [
        "s = \"ovo,je neka recenica\"\r\n",
        "print(list(s))\r\n",
        "print(s.split(\"j\"))\r\n",
        "print(s[::3])\r\n",
        "n = 3\r\n",
        "l = [s[i:i+n] for i in range(0, len(s), n)]\r\n",
        "print(l)"
      ],
      "execution_count": 11,
      "outputs": [
        {
          "output_type": "stream",
          "text": [
            "['o', 'v', 'o', ',', 'j', 'e', ' ', 'n', 'e', 'k', 'a', ' ', 'r', 'e', 'c', 'e', 'n', 'i', 'c', 'a']\n",
            "['ovo,', 'e neka recenica']\n",
            "o, krec\n",
            "['ovo', ',je', ' ne', 'ka ', 'rec', 'eni', 'ca']\n"
          ],
          "name": "stdout"
        }
      ]
    },
    {
      "cell_type": "code",
      "metadata": {
        "colab": {
          "base_uri": "https://localhost:8080/"
        },
        "id": "agRPU8m1w2P8",
        "outputId": "55fe6e27-f240-4b0c-df35-8be458ecb925"
      },
      "source": [
        "n = float(input(\"Unesite broj \"))\r\n",
        "i = 0\r\n",
        "if n >= 0 and n % 1 == 0:\r\n",
        "    while i < n:\r\n",
        "        i += 1\r\n",
        "        print(\"hello world\")\r\n",
        "else:\r\n",
        "    print(\"Nije validan unos\")\r\n"
      ],
      "execution_count": 14,
      "outputs": [
        {
          "output_type": "stream",
          "text": [
            "unesite broj3.5\n",
            "3.5\n",
            "\n"
          ],
          "name": "stdout"
        }
      ]
    },
    {
      "cell_type": "code",
      "metadata": {
        "colab": {
          "base_uri": "https://localhost:8080/"
        },
        "id": "ekfYoMp80R7m",
        "outputId": "b85cebfc-359a-4c4b-9d6b-2af510103fab"
      },
      "source": [
        "\"\"\"\r\n",
        "Napisati program koji ucitava nenegativan ceo broj n, a potom ispisuje sve cele \r\n",
        "brojeve od 0 do n. U slucaju neispravnog unosa prijaviti info o gresci\r\n",
        "\"\"\"\r\n",
        "n = int(input(\"Unesi n: \"))\r\n",
        "\r\n",
        "if n < 0:\r\n",
        "    print(\"n mora biti >= 0\")\r\n",
        "else:\r\n",
        "    for i in range(0, n+1):\r\n",
        "        print(i)"
      ],
      "execution_count": 16,
      "outputs": [
        {
          "output_type": "stream",
          "text": [
            "Unesi n: -1\n",
            "n mora biti >= 0\n"
          ],
          "name": "stdout"
        }
      ]
    },
    {
      "cell_type": "code",
      "metadata": {
        "colab": {
          "base_uri": "https://localhost:8080/"
        },
        "id": "V2Z78sDFx0o6",
        "outputId": "82541a30-caab-41c5-dc24-ec39df228020"
      },
      "source": [
        "\"\"\"\r\n",
        "Napisati program koji ucitava dva cela broja n i m (n <= m) i ispisuje sve cele \r\n",
        "brojeve iz intervala [n, m]. U slucaju neispravnog unosa prijaviti info o gresci.\r\n",
        "Zadatak resiti koriscenjem\r\n",
        "\r\n",
        "For petlje\r\n",
        "While petlje\r\n",
        "\"\"\"\r\n",
        "n = int(input(\"Unesi n: \"))\r\n",
        "m = int(input(\"Unesi m: \"))\r\n",
        "\r\n",
        "if n <= m:\r\n",
        "    i = n\r\n",
        "    while i <= m:\r\n",
        "        print(i)\r\n",
        "        i += 1\r\n",
        "else:\r\n",
        "    print(\"greska u unosu\")\r\n",
        "\r\n",
        "if n <= m:\r\n",
        "    for i in range(n, m+1):\r\n",
        "        print(i)\r\n",
        "else:\r\n",
        "    print(\"greska u unosu\")"
      ],
      "execution_count": 17,
      "outputs": [
        {
          "output_type": "stream",
          "text": [
            "Unesi n: 3\n",
            "Unesi m: 10\n",
            "3\n",
            "4\n",
            "5\n",
            "6\n",
            "7\n",
            "8\n",
            "9\n",
            "10\n"
          ],
          "name": "stdout"
        }
      ]
    },
    {
      "cell_type": "code",
      "metadata": {
        "colab": {
          "base_uri": "https://localhost:8080/"
        },
        "id": "tSe0aw9O80E6",
        "outputId": "d1e87f95-8b38-4821-d486-3e6a940f7fd8"
      },
      "source": [
        "for i in range(0, 10):\r\n",
        "    print(i)\r\n",
        "\r\n",
        "\"\"\"\r\n",
        "for (int i=0; i<10; i++)\r\n",
        "{\r\n",
        "    print(i)\r\n",
        "}\r\n",
        "\"\"\"\r\n",
        "#\r\n",
        "i = 0\r\n",
        "while i < 10:\r\n",
        "    print(i)\r\n",
        "    i += 1\r\n",
        "#"
      ],
      "execution_count": 18,
      "outputs": [
        {
          "output_type": "stream",
          "text": [
            "0\n",
            "1\n",
            "2\n",
            "3\n",
            "4\n",
            "5\n",
            "6\n",
            "7\n",
            "8\n",
            "9\n",
            "0\n",
            "1\n",
            "2\n",
            "3\n",
            "4\n",
            "5\n",
            "6\n",
            "7\n",
            "8\n",
            "9\n"
          ],
          "name": "stdout"
        }
      ]
    },
    {
      "cell_type": "code",
      "metadata": {
        "colab": {
          "base_uri": "https://localhost:8080/"
        },
        "id": "gKs1YlAr7CIq",
        "outputId": "445a4685-4c18-48ca-a54d-0b5ee0a26466"
      },
      "source": [
        "\"\"\"\r\n",
        "Napisati program koji za ucitan nenegativan ceo broj n racuna i ispisuje\r\n",
        "njegov faktorjel.\r\n",
        "\r\n",
        "n! = 1*2*3*...*(n-1)*n\r\n",
        "\"\"\"\r\n",
        "n = int(input(\"Unesi n: \"))\r\n",
        "\r\n",
        "fakt = 1\r\n",
        "\r\n",
        "for i in range(1, n+1, 1):\r\n",
        "    fakt = fakt*i\r\n",
        "\r\n",
        "print(fakt)"
      ],
      "execution_count": 20,
      "outputs": [
        {
          "output_type": "stream",
          "text": [
            "Unesi n: 5\n",
            "120\n"
          ],
          "name": "stdout"
        }
      ]
    },
    {
      "cell_type": "code",
      "metadata": {
        "colab": {
          "base_uri": "https://localhost:8080/"
        },
        "id": "9fmEhw6d_TGs",
        "outputId": "79e7d1c8-671d-440d-dcc3-d8b28170e5bb"
      },
      "source": [
        "\"\"\"\r\n",
        "Napisati program koji za ucitan nenegativan ceo broj n racuna i ispisuje njegov \r\n",
        "dvostruki faktorjel\r\n",
        "n!! = 1*3*5*...*(n-2)*n\r\n",
        "n!! = 2*4*6*...*(n-2)*n\r\n",
        "\"\"\"\r\n",
        "\r\n",
        "n = int(input(\"Unesi n: \"))\r\n",
        "\r\n",
        "fakt = 1\r\n",
        "if n % 2 == 0:\r\n",
        "    for i in range(2, n+1, 2):\r\n",
        "        fakt = fakt*i\r\n",
        "else:\r\n",
        "    for i in range(1, n+1, 2):\r\n",
        "        fakt = fakt*i\r\n",
        "\r\n",
        "print(fakt)\r\n",
        "\r\n",
        "# n! = n*(n-1)*(n-2)*...*2*1\r\n",
        "# n!! = n*(n-2)*(n-4)*...*1\r\n",
        "fakt = 1\r\n",
        "while n > 1:\r\n",
        "    fakt = fakt*n\r\n",
        "    n = n-2\r\n",
        "\r\n",
        "fakt = 1\r\n",
        "for i in range(n, 1, -2):\r\n",
        "    fakt = fakt*i"
      ],
      "execution_count": 26,
      "outputs": [
        {
          "output_type": "stream",
          "text": [
            "Unesi n: 6\n",
            "48\n"
          ],
          "name": "stdout"
        }
      ]
    },
    {
      "cell_type": "code",
      "metadata": {
        "colab": {
          "base_uri": "https://localhost:8080/"
        },
        "id": "t6lJCaJADA9P",
        "outputId": "f39bf3c2-9b88-45fd-d855-5e6ef49425b4"
      },
      "source": [
        "\"\"\"\r\n",
        "Pravi delioci celog broja su svi delioci osim jedinice i samog tog broja.\r\n",
        "Napisati program koji za uneti pozitivan ceo broj n ispisuje sve njegove prave\r\n",
        "delioce. U slucaju neispravnog unosa ispisati odgovarajucu poruku o gresci.\r\n",
        "\"\"\"\r\n",
        "n = int(input(\"Unesi n: \"))\r\n",
        "\r\n",
        "for i in range(2, n):\r\n",
        "    if n % i == 0:\r\n",
        "        print(i)\r\n",
        "    "
      ],
      "execution_count": 27,
      "outputs": [
        {
          "output_type": "stream",
          "text": [
            "Unesi n: 10\n",
            "2\n",
            "5\n"
          ],
          "name": "stdout"
        }
      ]
    },
    {
      "cell_type": "code",
      "metadata": {
        "colab": {
          "base_uri": "https://localhost:8080/"
        },
        "id": "-dwbR9-sADyZ",
        "outputId": "c2b5f1a2-cfed-48b4-f5ec-15404775fa56"
      },
      "source": [
        "\"\"\"\r\n",
        "Napisati program koji za uneti ceo broj ispisuje broj dobijen uklanjanjem svih\r\n",
        "zavrsnih nula unetog broja\r\n",
        "\r\n",
        "1234 // 10 = 123\r\n",
        "1234 % 10 = 4\r\n",
        "1234 // 100 = 12\r\n",
        "1234 % 100 = 34\r\n",
        "\"\"\"\r\n",
        "\r\n",
        "n = int(input(\"n? \"))\r\n",
        "\r\n",
        "while n%10 == 0:\r\n",
        "    n = n//10\r\n",
        "\r\n",
        "print(n)"
      ],
      "execution_count": 32,
      "outputs": [
        {
          "output_type": "stream",
          "text": [
            "n? 1200213210000\n",
            "120021321\n"
          ],
          "name": "stdout"
        }
      ]
    },
    {
      "cell_type": "code",
      "metadata": {
        "id": "7E1ySNN6Fag6"
      },
      "source": [
        "\"\"\"\r\n",
        "Napisati program koji ucitava ceo broj i ispisuje njegove cifre u obrnutom\r\n",
        "poretku, i to prvo parne, pa zatim neparne\r\n",
        "\"\"\"\r\n",
        "\r\n",
        "n = int(input(\"n? \"))\r\n",
        "parne = []\r\n",
        "neparne = []\r\n",
        "\r\n",
        "# 12345 6\r\n",
        "while n//10 != 0:\r\n",
        "    poslednja_cifra = n%10\r\n",
        "    if poslednja_cifra%2 == 0:\r\n",
        "        parne.append(poslednja_cifra)\r\n",
        "    else:\r\n",
        "        neparne.append(poslednja_cifra)\r\n",
        "    n = n//10\r\n",
        "\r\n",
        "if n%2 == 0:\r\n",
        "    parne.append(n)\r\n",
        "else:\r\n",
        "    neparne.append(n)\r\n",
        "\r\n",
        "print(parne)\r\n",
        "print(neparne)\r\n",
        "\r\n",
        "# drugi nacin\r\n",
        "n = int(input(\"n? \"))\r\n",
        "\r\n",
        "n_lista = list(str(n))\r\n",
        "\r\n",
        "print(n_lista)\r\n",
        "obrnuto = []\r\n",
        "for i in range(0, len(n_lista)):\r\n",
        "    obrnuto.append(n_lista[len(n_lista)-1-i])\r\n",
        "\r\n",
        "print(obrnuto)"
      ],
      "execution_count": null,
      "outputs": []
    },
    {
      "cell_type": "code",
      "metadata": {
        "colab": {
          "base_uri": "https://localhost:8080/"
        },
        "id": "-h2mvrV0JeEp",
        "outputId": "5195ae1d-85af-4792-ac45-073e011ed631"
      },
      "source": [
        "n = int(input(\"Unesite ceo broj: \"))\r\n",
        "n = str(n)\r\n",
        "\r\n",
        "lista = list(n)\r\n",
        "parni = []\r\n",
        "neparni = []\r\n",
        "\r\n",
        "for element in lista:\r\n",
        "    if int(element) % 2 == 0:\r\n",
        "        parni.append(element)\r\n",
        "    else:\r\n",
        "        neparni.append(element)\r\n",
        "\r\n",
        "print(parni[::-1])\r\n",
        "print(neparni[::-1])\r\n"
      ],
      "execution_count": 50,
      "outputs": [
        {
          "output_type": "stream",
          "text": [
            "Unesite ceo broj: 12345\n",
            "['4', '2']\n",
            "['5', '3', '1']\n"
          ],
          "name": "stdout"
        }
      ]
    },
    {
      "cell_type": "code",
      "metadata": {
        "colab": {
          "base_uri": "https://localhost:8080/"
        },
        "id": "-2be5vzpJ3Sr",
        "outputId": "d11c77df-4574-438c-d288-941b5cdb26f3"
      },
      "source": [
        "\"\"\"\r\n",
        "Napisati program koji za uneti pozitivan ceo broj ispisuje da li \r\n",
        "je on deljiv sumom svojih cifara. U slucaju neispravnog unosa, \r\n",
        "ispisati odgovarajucu poruku o gresci.\r\n",
        "\"\"\"\r\n",
        "n = int(input(\"n: \"))\r\n",
        "broj = n\r\n",
        "suma = 0\r\n",
        "while broj > 0:\r\n",
        "    cifra = broj % 10\r\n",
        "    suma += cifra\r\n",
        "    broj = broj // 10\r\n",
        "\r\n",
        "print(n%suma == 0)\r\n"
      ],
      "execution_count": 57,
      "outputs": [
        {
          "output_type": "stream",
          "text": [
            "n: 81\n",
            "True\n"
          ],
          "name": "stdout"
        }
      ]
    },
    {
      "cell_type": "code",
      "metadata": {
        "colab": {
          "base_uri": "https://localhost:8080/"
        },
        "id": "F21S6tUNE9i8",
        "outputId": "26fbc516-f30e-4c7c-cad4-61df7c6749f8"
      },
      "source": [
        "\"\"\"\r\n",
        "Napisati program koji ucitava pozitivan ceo broj n, a potom i n celih brojeva. \r\n",
        "Izracunati i ispisati zbir onih brojeva koji su istovremeno neparni i \r\n",
        "negativni. U slucaju neispravnog unosa ispisati odgovarajucu poruku o gresci\r\n",
        "\"\"\"\r\n",
        "n = int(input(\"n? \"))\r\n",
        "\r\n",
        "brojevi = []\r\n",
        "for i in range(n):\r\n",
        "    br = int(input(f\"Unesi {i+1}. broj \"))\r\n",
        "    brojevi.append(br)\r\n",
        "\r\n",
        "zbir = 0\r\n",
        "for broj in brojevi:\r\n",
        "    if broj < 0 and broj % 2 != 0:\r\n",
        "        zbir += broj"
      ],
      "execution_count": 58,
      "outputs": [
        {
          "output_type": "stream",
          "text": [
            "n? 4\n",
            "Unesi 1. broj 1\n",
            "Unesi 2. broj 2\n",
            "Unesi 3. broj 3\n",
            "Unesi 4. broj 4\n",
            "[1, 2, 3, 4]\n"
          ],
          "name": "stdout"
        }
      ]
    },
    {
      "cell_type": "code",
      "metadata": {
        "colab": {
          "base_uri": "https://localhost:8080/"
        },
        "id": "hxtm-aAIMeIA",
        "outputId": "d94cebd5-7f61-4687-dac5-b15c9db5c656"
      },
      "source": [
        "\"\"\"\r\n",
        "Napisati program koji ucitava cele brojeve sve dok se ne unese broj 0 i\r\n",
        "ispisuje proizvod onih unetih brojeva koji su pozitivni.\r\n",
        "\"\"\"\r\n",
        "\r\n",
        "brojevi = []\r\n",
        "while True:\r\n",
        "    broj = int(input(\"Unesi broj: \"))\r\n",
        "    if broj != 0:\r\n",
        "        brojevi.append(broj)\r\n",
        "    else:\r\n",
        "        break\r\n",
        "\r\n",
        "proizvod = 1\r\n",
        "for broj in brojevi: # for i in range(0, len(brojevi)): broj -> brojevi[i]\r\n",
        "    if broj > 0:\r\n",
        "        proizvod *= broj\r\n",
        "print(proizvod)\r\n",
        "\r\n",
        "elementi = [1, 2, 3, 4, 5]\r\n",
        "for e in elementi:\r\n",
        "    print(e)\r\n",
        "\r\n",
        "for i in range(0, len(elementi)):\r\n",
        "    print(elementi[i])"
      ],
      "execution_count": 61,
      "outputs": [
        {
          "output_type": "stream",
          "text": [
            "Unesi broj: 1\n",
            "Unesi broj: -2\n",
            "Unesi broj: 3\n",
            "Unesi broj: 0\n",
            "3\n"
          ],
          "name": "stdout"
        }
      ]
    },
    {
      "cell_type": "code",
      "metadata": {
        "colab": {
          "base_uri": "https://localhost:8080/"
        },
        "id": "YHux-JNUN5M7",
        "outputId": "5fad80d0-4ab2-4ce4-d10a-9263fa7aa75a"
      },
      "source": [
        "\"\"\"\r\n",
        "Napisati program koji za uneti ceo broj proverava i ispisuje da li se cifra 5\r\n",
        " nalazi u njegovom zapisu\r\n",
        "\"\"\"\r\n",
        "\r\n",
        "n = int(input(\"n? \"))\r\n",
        "\r\n",
        "s = str(n)\r\n",
        "\r\n",
        "if \"5\" in s:\r\n",
        "    print(\"Da\")\r\n",
        "else:\r\n",
        "    print(\"Ne\")"
      ],
      "execution_count": 63,
      "outputs": [
        {
          "output_type": "stream",
          "text": [
            "n? 555\n",
            "Da\n"
          ],
          "name": "stdout"
        }
      ]
    },
    {
      "cell_type": "code",
      "metadata": {
        "colab": {
          "base_uri": "https://localhost:8080/"
        },
        "id": "z8KcF0X3MILd",
        "outputId": "3700bef1-fee2-4221-8f19-af9d10d63740"
      },
      "source": [
        "broj = int(input(\"Unesi broj: \"))\r\n",
        "lista_brojeva = []\r\n",
        "ar_sr = 0\r\n",
        "geometrijska_sredina = 1\r\n",
        "\r\n",
        "while broj != 0:\r\n",
        "    lista_brojeva.append(broj)\r\n",
        "    broj = int(input(\"Unesi broj: \"))\r\n",
        "\r\n",
        "for i in lista_brojeva:\r\n",
        "    ar_sr = ar_sr + i\r\n",
        "\r\n",
        "aritmeticka_sredina = (ar_sr / (len(lista_brojeva)))\r\n",
        "\r\n",
        "print(round(aritmeticka_sredina, 4))\r\n",
        "\r\n",
        "for n in lista_brojeva:\r\n",
        "    geometrijska_sredina = geometrijska_sredina * n\r\n",
        "\r\n",
        "geometrijska_sredina = geometrijska_sredina ** (1 / (len(lista_brojeva)))\r\n",
        "print(round(geometrijska_sredina, 4))\r\n"
      ],
      "execution_count": 71,
      "outputs": [
        {
          "output_type": "stream",
          "text": [
            "Unesi broj: 123\n",
            "Unesi broj: 123\n",
            "Unesi broj: 321\n",
            "Unesi broj: 121\n",
            "Unesi broj: 0\n",
            "172.0\n",
            "155.6952\n"
          ],
          "name": "stdout"
        }
      ]
    },
    {
      "cell_type": "code",
      "metadata": {
        "id": "Klg_IyoAO5qI"
      },
      "source": [
        ""
      ],
      "execution_count": null,
      "outputs": []
    }
  ]
}