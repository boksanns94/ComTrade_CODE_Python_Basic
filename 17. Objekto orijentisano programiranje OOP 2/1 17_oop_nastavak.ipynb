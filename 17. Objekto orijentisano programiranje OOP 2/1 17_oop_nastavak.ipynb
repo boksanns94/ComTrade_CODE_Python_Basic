{
  "nbformat": 4,
  "nbformat_minor": 0,
  "metadata": {
    "colab": {
      "name": "17_oop_nastavak.ipynb",
      "provenance": [],
      "collapsed_sections": [],
      "toc_visible": true
    },
    "kernelspec": {
      "name": "python3",
      "display_name": "Python 3"
    }
  },
  "cells": [
    {
      "cell_type": "markdown",
      "metadata": {
        "id": "eudGUon1hEh1"
      },
      "source": [
        "# 16 OOP - nastavak"
      ]
    },
    {
      "cell_type": "markdown",
      "metadata": {
        "id": "1vU7FoF9hLzw"
      },
      "source": [
        "## 16.1 Podsetnik\n",
        "\n",
        "- Problemi sa domacim?\n",
        "\n",
        "- Pogledati **15_objektno_orijentisano_programiranje.ipynb**"
      ]
    },
    {
      "cell_type": "markdown",
      "metadata": {
        "id": "39KADX-EhSlY"
      },
      "source": [
        "## 16.2 \\_\\_repr\\_\\_ i \\_\\_str\\_\\_\n",
        "\n",
        "- Podsetimo se dunder metoda: \\_\\_init\\_\\_, \\_\\_len\\_\\_, \\_\\_add\\_\\_\n",
        "\n",
        "- Da bi print(objekat) radio kako ocekujemo, potrebno je da implementiramo \\_\\_str\\_\\_ metod koji objekat pakuje u vidu string\n",
        "\n",
        "- \\_\\_repr\\_\\_ koristi u pozadini \\_\\_str\\_\\_ metod, tkd je dovoljno samo \\_\\_str\\_\\_ implementirati\n"
      ]
    },
    {
      "cell_type": "code",
      "metadata": {
        "id": "Ze-dBZM3hB5Y"
      },
      "source": [
        "class Auto:\n",
        "    def __init__(self, marka, model, godiste, kw):\n",
        "        self.marka = marka\n",
        "        self.model = model\n",
        "        self.godiste = godiste\n",
        "        self.hp = kw/0.75\n",
        "\n",
        "    def __str__(self):\n",
        "        return f\"{self.marka} {self.model}, godiste {self.godiste}, snage {self.hp}hp\"   "
      ],
      "execution_count": null,
      "outputs": []
    },
    {
      "cell_type": "code",
      "metadata": {
        "id": "SZHq5K-H80yk"
      },
      "source": [
        ""
      ],
      "execution_count": null,
      "outputs": []
    },
    {
      "cell_type": "code",
      "metadata": {
        "id": "F9432Hhqin8u",
        "colab": {
          "base_uri": "https://localhost:8080/"
        },
        "outputId": "f219a24f-f638-48ea-ccbf-9e17b2173024"
      },
      "source": [
        "audi = Auto(\"Audi\", \"A3\", 2014, 75)\n",
        "print(audi)"
      ],
      "execution_count": null,
      "outputs": [
        {
          "output_type": "stream",
          "text": [
            "Audi A3, godiste 2014, snage 100.0hp\n"
          ],
          "name": "stdout"
        }
      ]
    },
    {
      "cell_type": "markdown",
      "metadata": {
        "id": "FJJywrqei8XT"
      },
      "source": [
        "## 16.3 \\_\\_del\\_\\_\n",
        "\n",
        "- Sta ako radimo na klasi koja implementira konektovanje na server, obradu nekih podataka, i diskonektovanje?\n",
        "\n",
        "- Kako ne bismo zaboravili da oslobodimo resurse (zatvorimo fajl, diskonektujemo se sa servera, ugasimo svetlo...) kada se instancirani objekat unisti, implementiramo destruktor **\\_\\_del\\_\\_**\n",
        "\n",
        "- Ovo je dunder metod koji se automatski poziva pri brisanju objekta iz memorije, i njime obezbedjujemo da smo pravilno oslobodili sve resurse"
      ]
    },
    {
      "cell_type": "code",
      "metadata": {
        "id": "tE_9JK9Kitnp"
      },
      "source": [
        "class Stek:\n",
        "    def __init__(self):\n",
        "        self.s = []\n",
        "\n",
        "    def push(self, e):\n",
        "        self.s.append(e)\n",
        "    \n",
        "    def pop(self):\n",
        "        e = self.s[-1]\n",
        "        del self.s[-1]\n",
        "        return e\n",
        "\n",
        "    def __del__(self):\n",
        "        print(\"Pozvan destruktor, praznimo stek\")\n",
        "        self.s.clear()\n",
        "        print(self.s)\n",
        "\n",
        "    def __str__(self):\n",
        "        return str(self.s)"
      ],
      "execution_count": null,
      "outputs": []
    },
    {
      "cell_type": "code",
      "metadata": {
        "id": "Y-kwNJXmj-Sv",
        "colab": {
          "base_uri": "https://localhost:8080/"
        },
        "outputId": "7092bb61-a01b-426a-b01e-f01057675aa2"
      },
      "source": [
        "stek = Stek()\n",
        "stek.push(1)\n",
        "stek.push(2)\n",
        "stek.pop()\n",
        "\n",
        "del stek"
      ],
      "execution_count": null,
      "outputs": [
        {
          "output_type": "stream",
          "text": [
            "Pozvan destruktor, praznimo stek\n",
            "[]\n"
          ],
          "name": "stdout"
        }
      ]
    },
    {
      "cell_type": "code",
      "metadata": {
        "colab": {
          "base_uri": "https://localhost:8080/"
        },
        "id": "RC3SmP_n7wEq",
        "outputId": "90a65a21-b070-4ce3-be5e-26297681c036"
      },
      "source": [
        "def f():\n",
        "    stek = Stek()\n",
        "    stek.push(1)\n",
        "    stek.push(2)\n",
        "    stek.pop()\n",
        "\n",
        "f()"
      ],
      "execution_count": null,
      "outputs": [
        {
          "output_type": "stream",
          "text": [
            "Pozvan destruktor, praznimo stek\n",
            "[]\n"
          ],
          "name": "stdout"
        }
      ]
    },
    {
      "cell_type": "markdown",
      "metadata": {
        "id": "kCic-ISikOS1"
      },
      "source": [
        "## 16.4 Jos dunder metoda\n",
        "\n",
        "- \\_\\_abs\\_\\_ - implementacija koja se zove ukoliko nad objektom pozovemo abs()\n",
        "- \\_\\_bool\\_\\_ - Implementacija koja se zove pri kastovanju u bool ili logičkim izrazima\n",
        "- \\_\\_add\\_\\_ - Implementacija koja se zove pri sabiranju objekata\n",
        "- \\_\\_sub\\_\\_ - Implementacija koja se zove pri oduzimanju objekata\n",
        "- \\_\\_mul\\_\\_ - Implementacija koja se zove pri oduzimanju objekata\n",
        "- \\_\\_getitem\\_\\_ - Onda možemo reći objekat[nešto] odnosno pristupiti mu koristeći uglaste\n",
        "zagrade\n",
        "- \\_\\_hash\\_\\_ - Ako objekat ima implementirano __hash__ onda se kaže da je hešabilan tj.\n",
        "može se koristiti kao ključ u dictionary-ima"
      ]
    },
    {
      "cell_type": "markdown",
      "metadata": {
        "id": "yjApG5EkkhbI"
      },
      "source": [
        "## 16.5 Zadatak\n",
        "\n",
        "Napraviti klasu koja predstavlja double ended queue odnosno red gde je\n",
        "- moguće dodavati i skidati elemente sa početka i sa kraja reda\n",
        "- Klasa treba da omogući pozivanje len() funkcije\n",
        "- Klasa treba da omogući stringovnu reprezentaciju red\n",
        "- Klasa treba da implementira mogućnost dohvatanja i-tog elementa sintaksom red[i] \n"
      ]
    },
    {
      "cell_type": "code",
      "metadata": {
        "id": "uRA-IqaZ-ACt"
      },
      "source": [
        "class DoubleEndedQueue:\n",
        "    def __init__(self):\n",
        "        self.q = []\n",
        "        self.front = 0\n",
        "        self.rear = 0\n",
        "    \n",
        "    def __len__(self):\n",
        "        return len(self.q)\n",
        "\n",
        "    def pushFront(self, e):\n",
        "        self.q.insert(0, e)\n",
        "        self.rear += 1\n",
        "\n",
        "    def pushBack(self, e):\n",
        "        self.q.append(e)\n",
        "        self.rear += 1\n",
        "\n",
        "    def popFront(self):\n",
        "        self.rear -= 1\n",
        "        return self.q.pop(0)\n",
        "\n",
        "    def popBack(self):\n",
        "        self.rear -= 1\n",
        "        return self.q.pop()\n",
        "\n",
        "    def __str__(self):\n",
        "        return f\"{self.q}\"\n",
        "\n",
        "    def __getitem__(self, index):\n",
        "        return self.q[index]\n"
      ],
      "execution_count": null,
      "outputs": []
    },
    {
      "cell_type": "code",
      "metadata": {
        "colab": {
          "base_uri": "https://localhost:8080/"
        },
        "id": "vP95B-g7BlDA",
        "outputId": "5a56c32f-1601-4d62-8044-ea4aebbd7331"
      },
      "source": [
        "queue = DoubleEndedQueue()\n",
        "\n",
        "print(queue)\n",
        "queue.pushBack(1)\n",
        "queue.pushBack(3)\n",
        "queue.pushFront(0)\n",
        "queue.pushFront(10)\n",
        "# 10 0 1 3\n",
        "print(queue)\n",
        "print(queue.popBack(), queue)\n",
        "\n",
        "print(queue[2])"
      ],
      "execution_count": null,
      "outputs": [
        {
          "output_type": "stream",
          "text": [
            "[]\n",
            "[10, 0, 1, 3]\n",
            "3 [10, 0, 1]\n",
            "1\n"
          ],
          "name": "stdout"
        }
      ]
    },
    {
      "cell_type": "markdown",
      "metadata": {
        "id": "nVKM20egksYl"
      },
      "source": [
        "## 16.6 Nasledjivanje\n",
        "\n",
        "- Mehanizam pravljenja klasa koristeci klase koje vec postoje\n",
        "\n",
        "- Glavna (najvisa) klasa zove se **superklasom** ili **nadklasom**, a klase koje nasledjuju ovu klasu - **izvedenim**"
      ]
    },
    {
      "cell_type": "code",
      "metadata": {
        "id": "ue-C7G8MlB5K"
      },
      "source": [
        "class Zivotinja: # opsta klasa koja deli osobine svih zivotinja\n",
        "    def __init__(self, r, k, h):\n",
        "        self.klasa = k\n",
        "        self.rod = r\n",
        "        self.hrana = h\n",
        "\n",
        "    def cime_se_hranis(self):\n",
        "        print(self.hrana)\n",
        "\n",
        "# Izvodimo klasu lav\n",
        "class Lav(Zivotinja):\n",
        "    def __init__(self, k, r, h):\n",
        "        Zivotinja.__init__(self, r, k, h)   # prosledjujemo nadklasi konstrukciju\n",
        "        self.imam_grivu = True\n",
        "\n",
        "    # implicitno nasledjena metoda cime_se_hranis\n",
        "\n",
        "    def oglasi_se(self):\n",
        "        print(\"Raaaawr!\")\n",
        "    \n",
        "class Majmun(Zivotinja):\n",
        "    def __init__(self, k, r, h):\n",
        "        Zivotinja.__init__(self, r, k, h)\n",
        "        self.imam_palac = True\n",
        "\n",
        "    def cime_se_hranis(self):\n",
        "        print(\"Nicim, postim\")\n",
        "\n",
        "    def oglasi_se(self):\n",
        "        print(\"OoOoOOOnJoa!\")"
      ],
      "execution_count": null,
      "outputs": []
    },
    {
      "cell_type": "code",
      "metadata": {
        "id": "5qsmCcFbmNSL",
        "colab": {
          "base_uri": "https://localhost:8080/"
        },
        "outputId": "30c39ec1-0619-4ae5-d3e0-816320c93e50"
      },
      "source": [
        "lav = Lav(k=\"mammalia\", r=\"panthera\", h=\"meso\")\n",
        "\n",
        "lav.cime_se_hranis()\n",
        "lav.oglasi_se()\n",
        "\n",
        "majmun = Majmun(k=\"mammalia\", r=\"primates\", h=\"voce\")\n",
        "majmun.cime_se_hranis()"
      ],
      "execution_count": null,
      "outputs": [
        {
          "output_type": "stream",
          "text": [
            "meso\n",
            "Raaaawr!\n",
            "Nicim, postim\n"
          ],
          "name": "stdout"
        }
      ]
    },
    {
      "cell_type": "markdown",
      "metadata": {
        "id": "rGLR4Q0YmlAI"
      },
      "source": [
        "- Primer zivotinje iako jednostavan\n",
        "ilustruje važne koncepte nasleđivanja:\n",
        "    - Pri konstrukciji izvedene klase zove se\n",
        "konstruktor bazne klase\n",
        "    - Ukoliko nema implementiran metod,\n",
        "izvedena klasa zove metod bazne klase"
      ]
    },
    {
      "cell_type": "markdown",
      "metadata": {
        "id": "BZU70cTWmulP"
      },
      "source": [
        "## 16.7 Polimorfizam\n",
        "\n",
        "- Termin u OOP-u koji se koristi da oznaci da objekti izvedenih klasa rade u skladu sa svojim implementacijama\n",
        "\n",
        "- Recimo, funkcija **len()** radi i nad stringovima i nad nizovima, a i mi je mozemo definisati za nase klase\n",
        "\n",
        "- Kaze se da je **len()** polimorfna"
      ]
    },
    {
      "cell_type": "code",
      "metadata": {
        "id": "-p_g6iVCmcD7"
      },
      "source": [
        "class Zivotinja:\n",
        "    def __init__(self, sta):\n",
        "        self.sta = sta\n",
        "\n",
        "    def oglasi_se(self):\n",
        "        print(f\"Ja sam {self.sta}\")\n",
        "\n",
        "class Pas(Zivotinja):\n",
        "    def __init__(self):\n",
        "        Zivotinja.__init__(self, \"pas\")\n",
        "\n",
        "class Macka(Zivotinja):\n",
        "    def __init__(self):\n",
        "        Zivotinja.__init__(self, \"macka\")"
      ],
      "execution_count": null,
      "outputs": []
    },
    {
      "cell_type": "code",
      "metadata": {
        "id": "x1LqD0hSSCmy",
        "colab": {
          "base_uri": "https://localhost:8080/"
        },
        "outputId": "9675b354-45ca-42fc-b104-a79e530f58ad"
      },
      "source": [
        "skubi = Pas()\n",
        "garfild = Macka()\n",
        "\n",
        "# i skubi i garfild su zivotinje, ali se ponasaju\n",
        "# u skladu sa svojim tipom\n",
        "skubi.oglasi_se()\n",
        "garfild.oglasi_se()"
      ],
      "execution_count": null,
      "outputs": [
        {
          "output_type": "stream",
          "text": [
            "Ja sam pas\n",
            "Ja sam macka\n"
          ],
          "name": "stdout"
        }
      ]
    },
    {
      "cell_type": "markdown",
      "metadata": {
        "id": "joHYF8cOSZVc"
      },
      "source": [
        "## 16.8 Domaci\n",
        "\n",
        "1. Napraviti klasu koja predstavlja stek\n",
        "    - Klasa treba da sadrži metode za dodavanje i skidanje elemenata sa steka\n",
        "    - Klasa treba da omogući pozivanje len() funkcije\n",
        "    - Klasa treba da omogući stringovnu reprezentaciju steka\n",
        "    - Klasa treba da sadrži docstring-ove\n",
        "    - Napisati program koji korišćenjem klase Stek proverava da li su zagrade dobro uparene\n",
        "\n",
        "2. Napisati klasu Vektor\n",
        "    - Vektor se može predstaviti uz pomoć niza brojeva\n",
        "    - Omogućiti pozivanje len() funkcije nad vektorom\n",
        "    - Omogućiti pristupanje i-toj koordinati vektora\n",
        "    - Omogućiti stringovni ispis vektora\n",
        "    - Implementirati metod za sabiranje dva vektora\n",
        "    - Implementirati metod za množenje vektora skalarom\n",
        "    - Implementirati metod za skalarni proizvod dva vektora\n",
        "    - Implementirati metod koji računa normu vektora (rastojanje vektora od koordinatnog početka)\n",
        "\n",
        "3. Napraviti hijerarhiju klasa koja opisuje ljude na fakultetu. Implementirati sve smislene metode. Osnovne klase koje treba implementirati (sa njihovim poljima) su:\n",
        "\n",
        "- Covek: ime, prezime, godina rodjenja\n",
        "    - Student: trenutna godina studija, trenutni prosek\n",
        "        - Student osnovnih studija: nivo osnovne studije\n",
        "        - Student master studija: nivo master studije\n",
        "\n",
        "    - Zaposleni: godina zaposlenja, plata\n",
        "        - Nastavnik: omiljeni predmet, lista predmeta na kojima drzi nastavu\n",
        "            - Profesor: titula (docent, redovni, vanredni)\n",
        "            - Asistent: nivo doktorske studije\n",
        "        - Sluzbenik: odsek\n",
        "\n",
        "Za svaki od atributa svih klasa napisati getere i setere"
      ]
    },
    {
      "cell_type": "markdown",
      "metadata": {
        "id": "IcjVg9FIf0eN"
      },
      "source": [
        "---\n",
        "1. Napraviti klasu koja predstavlja stek\n",
        "    - Klasa treba da sadrži metode za dodavanje i skidanje elemenata sa steka\n",
        "    - Klasa treba da omogući pozivanje len() funkcije\n",
        "    - Klasa treba da omogući stringovnu reprezentaciju steka\n",
        "    - Klasa treba da sadrži docstring-ove\n",
        "    - Napisati program koji korišćenjem klase Stek proverava da li su zagrade dobro uparene"
      ]
    },
    {
      "cell_type": "code",
      "metadata": {
        "id": "_jGQ4a02iMIq"
      },
      "source": [
        "class Stek:\n",
        "    \"\"\" Klasa stek\n",
        "\n",
        "    Klasa stek implementirana kao prosirenje liste,\n",
        "    uz sve funkcionalnosti koje su zahtevane po definiciji\n",
        "\n",
        "    Attributes\n",
        "    ----------\n",
        "    s - lista u kojoj se pamte elementi steka\n",
        "    front - index prvog elementa\n",
        "    back - index poslednjeg elementa\n",
        "\n",
        "    Methods\n",
        "    -------\n",
        "    push - blabla\n",
        "    pop - blabla\n",
        "    ...\n",
        "    \"\"\"\n",
        "    def __init__(self):\n",
        "        self.s = []\n",
        "        self.front = 0\n",
        "        self.back = 0\n",
        "\n",
        "    def push(self, e):\n",
        "        self.s.append(e)\n",
        "        self.back += 1\n",
        "\n",
        "    def pop(self):\n",
        "        self.back -= 1\n",
        "        return self.s.pop()\n",
        "\n",
        "    def empty(self):\n",
        "        return len(self.s) == 0\n",
        "\n",
        "    def __len__(self):\n",
        "        return len(self.s)\n",
        "\n",
        "    def __del__(self):\n",
        "        self.s.clear()\n",
        "\n",
        "    def __str__(self):\n",
        "        return f\"{self.s}\""
      ],
      "execution_count": null,
      "outputs": []
    },
    {
      "cell_type": "code",
      "metadata": {
        "id": "jAFFvMMiSEs_"
      },
      "source": [
        "izraz = \"2 + [3*5] + {2 + (1 + 3)}\"\n",
        "\n",
        "def uparene(otvorena, zatvorena):\n",
        "    if otvorena == '(':\n",
        "        if zatvorena == ')':\n",
        "            return True\n",
        "        else:\n",
        "            return False\n",
        "    elif otvorena == '[':\n",
        "        if zatvorena == ']':\n",
        "            return True\n",
        "        else:\n",
        "            return False\n",
        "    elif otvorena == '{':\n",
        "        if zatvorena == '}':\n",
        "            return True\n",
        "        else:\n",
        "            return False\n",
        "\n",
        "def provera(izraz):\n",
        "    otvorene = ['(', '[', '{']\n",
        "    zatvorene = [')', ']', '}']\n",
        "    stek = Stek()\n",
        "\n",
        "    for i in izraz:\n",
        "        if i in otvorene:\n",
        "            stek.push(i)\n",
        "        elif i in zatvorene:\n",
        "            poslednji = stek.pop()\n",
        "            if uparene(poslednji, i):\n",
        "                continue\n",
        "            else:\n",
        "                print(\"Izraz nije uparen\")\n",
        "                return False\n",
        "\n",
        "    print(\"Izraz je uparen\")\n",
        "    return True\n"
      ],
      "execution_count": null,
      "outputs": []
    },
    {
      "cell_type": "code",
      "metadata": {
        "colab": {
          "base_uri": "https://localhost:8080/"
        },
        "id": "zAyS4uBeUN3b",
        "outputId": "bcda59c4-1a66-407d-a37b-0a901e532876"
      },
      "source": [
        "provera(izraz)"
      ],
      "execution_count": null,
      "outputs": [
        {
          "output_type": "stream",
          "text": [
            "Izraz je uparen\n"
          ],
          "name": "stdout"
        },
        {
          "output_type": "execute_result",
          "data": {
            "text/plain": [
              "True"
            ]
          },
          "metadata": {
            "tags": []
          },
          "execution_count": 29
        }
      ]
    },
    {
      "cell_type": "markdown",
      "metadata": {
        "id": "aSW7Pp8KUZXs"
      },
      "source": [
        "---\n",
        "Napisati klasu Vektor\n",
        "\n",
        "2. Napisati klasu Vektor\n",
        "    - Vektor se može predstaviti uz pomoć niza brojeva\n",
        "    - Omogućiti pozivanje len() funkcije nad vektorom\n",
        "    - Omogućiti pristupanje i-toj koordinati vektora\n",
        "    - Omogućiti stringovni ispis vektora\n",
        "    - Implementirati metod za sabiranje dva vektora\n",
        "    - Implementirati metod za množenje vektora skalarom\n",
        "    - Implementirati metod za skalarni proizvod dva vektora\n",
        "    - Implementirati metod koji računa normu vektora (rastojanje vektora od koordinatnog početka)"
      ]
    },
    {
      "cell_type": "code",
      "metadata": {
        "id": "Tsm9UrOKUPta"
      },
      "source": [
        "import math as m\n",
        "\n",
        "class Vektor:\n",
        "    def __init__(self, x=0, y=0):\n",
        "        self.x = x\n",
        "        self.y = y\n",
        "\n",
        "    def norm(self):\n",
        "        return float(m.sqrt(self.x**2 + self.y**2))\n",
        "\n",
        "    def __getitem__(self, index):\n",
        "        pass\n",
        "\n",
        "    def __str__(self):\n",
        "        return f\"[{self.x} {self.y}]\"\n",
        "\n",
        "    def __add__(self, v2):\n",
        "        return Vektor(self.x + v2.x, self.y + v2.y)\n",
        "\n",
        "    def __mul__(self, p):\n",
        "        return Vektor(self.x*p, self.y*p)\n",
        "\n",
        "    def dot(self, v2):\n",
        "        return self.x*v2.x + self.y*v2.y"
      ],
      "execution_count": null,
      "outputs": []
    },
    {
      "cell_type": "code",
      "metadata": {
        "colab": {
          "base_uri": "https://localhost:8080/"
        },
        "id": "z44r86FrYLjc",
        "outputId": "7e9a91b6-0bcb-4f6c-b855-e6bcaba07406"
      },
      "source": [
        "v1 = Vektor(1, 1)\n",
        "v2 = Vektor(2, 2)\n",
        "\n",
        "print(v1 + v2)\n",
        "print(v1.norm())\n",
        "print(v2.norm())\n",
        "print(v1*3)\n",
        "print(v1.dot(v2))"
      ],
      "execution_count": null,
      "outputs": [
        {
          "output_type": "stream",
          "text": [
            "[3 3]\n",
            "1.4142135623730951\n",
            "2.8284271247461903\n",
            "[3 3]\n",
            "4\n"
          ],
          "name": "stdout"
        }
      ]
    },
    {
      "cell_type": "markdown",
      "metadata": {
        "id": "Xcmcdtj_aqWA"
      },
      "source": [
        "---\n",
        "Napraviti hijerarhiju klasa koja opisuje ljude na fakultetu. Implementirati sve smislene metode. Osnovne klase koje treba implementirati (sa njihovim poljima) su:\n",
        "\n",
        "- Covek: ime, prezime, godina rodjenja\n",
        "    - Student: trenutna godina studija, trenutni prosek\n",
        "        - Student osnovnih studija: nivo osnovne studije\n",
        "        - Student master studija: nivo master studije\n",
        "\n",
        "    - Zaposleni: godina zaposlenja, plata\n",
        "        - Nastavnik: omiljeni predmet, lista predmeta na kojima drzi nastavu\n",
        "            - Profesor: titula (docent, redovni, vanredni)\n",
        "            - Asistent: nivo doktorske studije\n",
        "        - Sluzbenik: odsek\n",
        "\n",
        "Za svaki od atributa svih klasa napisati getere i setere"
      ]
    },
    {
      "cell_type": "code",
      "metadata": {
        "id": "ctH-FZ9SY_K_"
      },
      "source": [
        "class Covek:\n",
        "    def __init__(self, ime, prezime, god):\n",
        "        self.ime = ime\n",
        "        self.prezime = prezime\n",
        "        self.god = god\n",
        "\n",
        "class Student(Covek):\n",
        "    def __init__(self, ime, prezime, god, stud, prosek):\n",
        "        Covek.__init__(self, ime, prezime, god)\n",
        "        self.godina_studija = stud\n",
        "        self.prosek = prosek\n",
        "        self.index = INDEX\n",
        "\n",
        "class StudentOsnovnih(Student):\n",
        "    def __init__(self, ime, prezime, god, stud, prosek, nivo):\n",
        "        Student.__init__(ime, prezime, god, stud, prosek)\n",
        "        self.nivo = nivo\n",
        "\n",
        "class StudentMaster(Student):\n",
        "    def __init__(self, ime, prezime, god, stud, prosek, nivo):\n",
        "        Student.__init__(ime, prezime, god, stud, prosek)\n",
        "        self.nivo = nivo\n",
        "\n",
        "class Zaposleni(Covek):\n",
        "    def __init__(self, ime, prezime, god, godina_zaposlenja, plata):\n",
        "        Covek.__init__(self, ime, prezime, god)\n",
        "        self.godina_zaposlenja = godina_zaposlenja\n",
        "        self.plata = plata\n",
        "\n",
        "class Nastavnik(Zaposleni):\n",
        "    def __init__(self, ime, prezime, god, godina_zaposlenja, plata, omiljeni, lista_predmeta):\n",
        "        Zaposleni.__init__(self, ime, prezime, god, godina_zaposlenja, plata)\n",
        "        self.omiljeni = omiljeni\n",
        "        self.lista_predmeta = lista_predmeta\n",
        "\n",
        "class Sluzbenik(Zaposleni):\n",
        "    def __init__(self, ime, prezime, god, godina_zaposlenja, plata, odsek):\n",
        "        Zaposleni.__init__(self, ime, prezime, god, godina_zaposlenja, plata)\n",
        "        self.odsek = odsek\n",
        "\n",
        "class Profesor(Nastavnik):\n",
        "    def __init__(self, ime, prezime, god, godina_zaposlenja, plata, omiljeni, lista_predmeta, titula):\n",
        "        Nastavnik.__init__(self, ime, prezime, god, godina_zaposlenja, plata, omiljeni, lista_predmeta)\n",
        "        self.titula = titula\n",
        "\n",
        "    def unesi_ocenu_u_indeks(self, ocena, s):\n",
        "        s.index.upisi(ocena)\n",
        "\n",
        "class Asistent(Nastavnik):\n",
        "    def __init__(self, ime, prezime, god, godina_zaposlenja, plata, omiljeni, lista_predmeta, nivo):\n",
        "        Nastavnik.__init__(self, ime, prezime, god, godina_zaposlenja, plata, omiljeni, lista_predmeta)\n",
        "        self.nivo = nivo"
      ],
      "execution_count": null,
      "outputs": []
    }
  ]
}