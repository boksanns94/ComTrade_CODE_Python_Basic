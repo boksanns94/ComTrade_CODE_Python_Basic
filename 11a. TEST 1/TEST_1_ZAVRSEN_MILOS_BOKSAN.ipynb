{
  "nbformat": 4,
  "nbformat_minor": 0,
  "metadata": {
    "colab": {
      "name": "8_test_1.ipynb",
      "provenance": [],
      "collapsed_sections": [],
      "toc_visible": true
    },
    "kernelspec": {
      "name": "python3",
      "display_name": "Python 3"
    }
  },
  "cells": [
    {
      "cell_type": "markdown",
      "metadata": {
        "id": "wmdBKjXxIt_r"
      },
      "source": [
        "# 7 Test 1"
      ]
    },
    {
      "cell_type": "markdown",
      "metadata": {
        "id": "HUmUWHOJQN8L"
      },
      "source": [
        "## 7.1 Teorijska pitanja"
      ]
    },
    {
      "cell_type": "markdown",
      "metadata": {
        "id": "XaDcMlfhQQnl"
      },
      "source": [
        "1. Kako biste definisali programiranje?\n",
        "\n",
        "Odgovor:\n"
      ]
    },
    {
      "cell_type": "markdown",
      "metadata": {
        "id": "VcEcvlsI385S"
      },
      "source": [
        "Programiranje je veština pomoću koje korisnik stvara i izvršava algoritme koristeći određene programske jezike da bi napravio računarski program."
      ]
    },
    {
      "cell_type": "markdown",
      "metadata": {
        "id": "gLAfmmMSTduX"
      },
      "source": [
        "---"
      ]
    },
    {
      "cell_type": "markdown",
      "metadata": {
        "id": "EMHwJoy9QZut"
      },
      "source": [
        "2. Kako funkcionise procesor?\n",
        "\n",
        "Odgovor:"
      ]
    },
    {
      "cell_type": "markdown",
      "metadata": {
        "id": "JOZ9_ILU6Xr8"
      },
      "source": [
        "Memorija sadrzi podatke i instrukcije koje procesor treba da obradi i izvrsi.\n",
        "\n",
        "ALU jedinica procesora uzima info iz memorije i obradjuje jednostavne aritmeticke i logicke operacije kao sto su +, -, >, < nad podacima koji su takodje u memoriji.\n",
        "\n",
        "Kontrolna jedinica prati sta treba da se odradi u ALU jedinici u odredjenom momentu. Ona u sebi sadrzi programski brojac koji na pocetku izvrsavanja nekog skupa instrukcija pokazuje na prvu instrukciju. Kad se ona izvrsi on pokaze na narednu instrukciju i tako dok se ne dodje do kraja programa."
      ]
    },
    {
      "cell_type": "markdown",
      "metadata": {
        "id": "F1ruAOSWTf4E"
      },
      "source": [
        "---"
      ]
    },
    {
      "cell_type": "markdown",
      "metadata": {
        "id": "CSUTvemOQiNB"
      },
      "source": [
        "3. Koji su naredni slojevi apstrakcije nad harverom racunara?\n",
        "\n",
        "Odgovor:"
      ]
    },
    {
      "cell_type": "markdown",
      "metadata": {
        "id": "D11vJT0G71WW"
      },
      "source": [
        "Prvi sloj apstrakcije je bio masinski kod, nakon kojeg je usledilo razvijanje jezika Asembler, nakon kojeg su usledili slozeni programski jezici kao sto je Python."
      ]
    },
    {
      "cell_type": "markdown",
      "metadata": {
        "id": "FRuZKu_fThlv"
      },
      "source": [
        "---"
      ]
    },
    {
      "cell_type": "markdown",
      "metadata": {
        "id": "r99fsIQ8Qp96"
      },
      "source": [
        "4. Kako funkcionise kompajler, a kako interpreter?\n",
        "\n",
        "Odgovor:"
      ]
    },
    {
      "cell_type": "markdown",
      "metadata": {
        "id": "Ys3j9qfc8IsM"
      },
      "source": [
        "Kompajler radi tako sto ceo izvorni kod prevede u izvrsni kod koji je dalje jedini potreban da bi program obavljao posao za koji je napisan.\n",
        "\n",
        "Interpreter prevodi liniju koda u masinski kod, koju odmah zatim izvrsava, i tek nakon izvrsenja jedne linije koda on prelazi na drugu liniju koda sa kojom radi isto.Ovo se desava dok se ne odradi ceo program."
      ]
    },
    {
      "cell_type": "markdown",
      "metadata": {
        "id": "uczplP2HTh5R"
      },
      "source": [
        "---"
      ]
    },
    {
      "cell_type": "markdown",
      "metadata": {
        "id": "aJ1sCodgQxCF"
      },
      "source": [
        "5. Da li je Python kompajliran ili interpretiran?\n",
        "\n",
        "Odgovor:"
      ]
    },
    {
      "cell_type": "markdown",
      "metadata": {
        "id": "z_VKlBWU8vcH"
      },
      "source": [
        "Interpretiran"
      ]
    },
    {
      "cell_type": "markdown",
      "metadata": {
        "id": "GEUL_msPTibB"
      },
      "source": [
        "---"
      ]
    },
    {
      "cell_type": "markdown",
      "metadata": {
        "id": "4DdCLlskQ2a2"
      },
      "source": [
        "6. Sta je IDE (integrated development environment)?\n",
        "\n",
        "Odgovor:"
      ]
    },
    {
      "cell_type": "markdown",
      "metadata": {
        "id": "sse4CWsU8wl5"
      },
      "source": [
        "Program koji sadrzi polje za kucanje koda, kao i alate koji olaksavaju kreiranje, testiranje koda, kao i pronalazenje gresaka u njemu; tj. pomaze pri razvijanju koda."
      ]
    },
    {
      "cell_type": "markdown",
      "metadata": {
        "id": "8FqA5VskTipG"
      },
      "source": [
        "---"
      ]
    },
    {
      "cell_type": "markdown",
      "metadata": {
        "id": "ut63dV3QQ7y9"
      },
      "source": [
        "7. Sta predstavlja **tip** podatka?\n",
        "\n",
        "Odgovor:"
      ]
    },
    {
      "cell_type": "markdown",
      "metadata": {
        "id": "4ufPlX-F9D8u"
      },
      "source": [
        "Tip podataka predstavlja atribut koji stoji uz neki niz nula i jedinica u memoriji, i govori procesoru na koji nacin da radi sa tim podatkom i kako da ga tumaci."
      ]
    },
    {
      "cell_type": "markdown",
      "metadata": {
        "id": "3Qj5pld5Ti_e"
      },
      "source": [
        "---"
      ]
    },
    {
      "cell_type": "markdown",
      "metadata": {
        "id": "9iO-dVmVRCkx"
      },
      "source": [
        "8. Koji su primitivni tipovi u Python-u?\n",
        "\n",
        "Odgovor:"
      ]
    },
    {
      "cell_type": "markdown",
      "metadata": {
        "id": "OzQZny7a9R11"
      },
      "source": [
        "Integer, Float, Bool, String i NoneType"
      ]
    },
    {
      "cell_type": "markdown",
      "metadata": {
        "id": "eNlB90rZTjL4"
      },
      "source": [
        "---"
      ]
    },
    {
      "cell_type": "markdown",
      "metadata": {
        "id": "ojTcxUPxRH4Z"
      },
      "source": [
        "9. Sta su **promenljive** u programiranju? Navedite primer jedne lose i jedne dobro imenovane promenljive u Python-u.\n",
        "\n",
        "Odgovor:"
      ]
    },
    {
      "cell_type": "markdown",
      "metadata": {
        "id": "beOtbrBk9s-z"
      },
      "source": [
        "Promenljiva predstavlja imenovanu memorijsku lokaciju koja cuva neku vrednost."
      ]
    },
    {
      "cell_type": "markdown",
      "metadata": {
        "id": "IkH7HPRn9w10"
      },
      "source": [
        "Dobro imenovana promenljiva:\n",
        "promenljiva_koja_ima_ime, nekaRandomPromenljiva\n",
        "\n",
        "Lose imenovana promenljiva:\n",
        "3zvezde, ..ime.."
      ]
    },
    {
      "cell_type": "markdown",
      "metadata": {
        "id": "EuZrNkyJTjfG"
      },
      "source": [
        "---"
      ]
    },
    {
      "cell_type": "markdown",
      "metadata": {
        "id": "hqCy1qYARNTF"
      },
      "source": [
        "- 10. Sta su rezervisane reci (keywords) u nekom jeziku? Navedite primer bar tri rezervisane reci u Python-u.\n",
        "\n",
        "Odgovor:\n"
      ]
    },
    {
      "cell_type": "markdown",
      "metadata": {
        "id": "vYBLvyji9vY-"
      },
      "source": [
        "Rezervisane reci su reci koje se koriste u Python jeziku kao nazivi nekih funkcija, metoda i drugih funkcionalnosti. NE SMEJU se koristiti kao nazivi promenljivih.\n",
        "Primer: print, input, for, while..."
      ]
    },
    {
      "cell_type": "markdown",
      "metadata": {
        "id": "HUS4ex3ETjq2"
      },
      "source": [
        "---"
      ]
    },
    {
      "cell_type": "markdown",
      "metadata": {
        "id": "8f2t7jguRSLY"
      },
      "source": [
        "11. Navedite primer koriscenja f-stringa."
      ]
    },
    {
      "cell_type": "code",
      "metadata": {
        "id": "Cqnz43RqRYE9"
      },
      "source": [
        "# Odgovor:"
      ],
      "execution_count": null,
      "outputs": []
    },
    {
      "cell_type": "markdown",
      "metadata": {
        "id": "s3unzWAC-eYJ"
      },
      "source": [
        "print(f\"Rezultat sabiranja {a}+{b} je: {c}\")"
      ]
    },
    {
      "cell_type": "markdown",
      "metadata": {
        "id": "_F91uT1ITkDH"
      },
      "source": [
        "---"
      ]
    },
    {
      "cell_type": "markdown",
      "metadata": {
        "id": "AW1w6t2iRdr-"
      },
      "source": [
        "12. Navedite osnovne logicke operatore u Python-u. (hint: ima ih tri)\n",
        "\n",
        "Odgovor:"
      ]
    },
    {
      "cell_type": "markdown",
      "metadata": {
        "id": "mfDKwwYW-ln6"
      },
      "source": [
        "< > !"
      ]
    },
    {
      "cell_type": "markdown",
      "metadata": {
        "id": "gvSnB0zATkZW"
      },
      "source": [
        "---"
      ]
    },
    {
      "cell_type": "markdown",
      "metadata": {
        "id": "uFEIL_GSRnBh"
      },
      "source": [
        "13. Kako se u Python-u postize grupisanje bloka naredbi pri kontroli toka?\n",
        "\n",
        "Odgovor:"
      ]
    },
    {
      "cell_type": "markdown",
      "metadata": {
        "id": "8uwvR0-i-tD2"
      },
      "source": [
        "Uvlacenjem sa leve strane za 1 tabulator, ili najcesce za 4 razmaka."
      ]
    },
    {
      "cell_type": "markdown",
      "metadata": {
        "id": "FFdhM5WxTksB"
      },
      "source": [
        "---"
      ]
    },
    {
      "cell_type": "markdown",
      "metadata": {
        "id": "NmsknaPKRtEw"
      },
      "source": [
        "14. Kako saznati broj elemenata u listi **lista**?"
      ]
    },
    {
      "cell_type": "code",
      "metadata": {
        "id": "qxuk-_5YRuZQ"
      },
      "source": [
        "# Odgovor:"
      ],
      "execution_count": null,
      "outputs": []
    },
    {
      "cell_type": "markdown",
      "metadata": {
        "id": "03dmXQni-xig"
      },
      "source": [
        "funkcijom len()"
      ]
    },
    {
      "cell_type": "markdown",
      "metadata": {
        "id": "kCyhczbkTk_w"
      },
      "source": [
        "---"
      ]
    },
    {
      "cell_type": "markdown",
      "metadata": {
        "id": "aQ_8bnZnRyGM"
      },
      "source": [
        "15. Ako pretpostavimo da lista **lista** sadrzi sve elemente istog tipa, kako saznati taj tip?"
      ]
    },
    {
      "cell_type": "code",
      "metadata": {
        "id": "OdElBL3qR442"
      },
      "source": [
        "# Odgovor:"
      ],
      "execution_count": null,
      "outputs": []
    },
    {
      "cell_type": "markdown",
      "metadata": {
        "id": "5j3IcxKx-0oe"
      },
      "source": [
        "Ispitati tip jednog elementa funkcijom type()"
      ]
    },
    {
      "cell_type": "markdown",
      "metadata": {
        "id": "xMakepnXTlfx"
      },
      "source": [
        "---"
      ]
    },
    {
      "cell_type": "markdown",
      "metadata": {
        "id": "8Rv-jCgtR8oy"
      },
      "source": [
        "16. Na kom indeksu se nalazi element _\"Pon\"_ u listi ispod? Koji element je na indeksu -2? Koji element je na indeksu 6? Kako biste slasjovanjem izdvojili radne dane iz ove liste u drugu listu?\n",
        "\n",
        "Odgovor:"
      ]
    },
    {
      "cell_type": "code",
      "metadata": {
        "id": "hOJpLRXvR_P-"
      },
      "source": [
        "dani = [\"Pon\", \"Uto\", \"Sre\", \"Cet\", \"Pet\", \"Sub\"]\n",
        "\n",
        "# Odgovor:"
      ],
      "execution_count": null,
      "outputs": []
    },
    {
      "cell_type": "markdown",
      "metadata": {
        "id": "6g0kPNJO-7lb"
      },
      "source": [
        "- 0\n",
        "- Pet\n",
        "- Ni jedan. Najveci index je 5\n",
        "- dani[0:6]"
      ]
    },
    {
      "cell_type": "markdown",
      "metadata": {
        "id": "bnr8E-yuTmDL"
      },
      "source": [
        "---"
      ]
    },
    {
      "cell_type": "markdown",
      "metadata": {
        "id": "JmBwDZqpSTOf"
      },
      "source": [
        "17. Kako biste dodali dan _\"Ned\"_ u prethodnu listu?"
      ]
    },
    {
      "cell_type": "code",
      "metadata": {
        "id": "BVZxig5WSXR8"
      },
      "source": [
        "# Odgovor:"
      ],
      "execution_count": null,
      "outputs": []
    },
    {
      "cell_type": "markdown",
      "metadata": {
        "id": "SrpfrYhb_GDE"
      },
      "source": [
        "dani.append(\"Ned\")"
      ]
    },
    {
      "cell_type": "markdown",
      "metadata": {
        "id": "GFcirhZcTmtn"
      },
      "source": [
        "---"
      ]
    },
    {
      "cell_type": "markdown",
      "metadata": {
        "id": "sCdOLD0GShVg"
      },
      "source": [
        "18. Kako biste iterirali kroz elemente iz liste iz zadatka 16 i ispisali svaki od njih?"
      ]
    },
    {
      "cell_type": "code",
      "metadata": {
        "id": "9waTjmmTSjet"
      },
      "source": [
        "# Odgovor:"
      ],
      "execution_count": null,
      "outputs": []
    },
    {
      "cell_type": "markdown",
      "metadata": {
        "id": "TwEb5nQO_JTN"
      },
      "source": [
        "uz pomoc for petlje\n",
        "for dan in dani:\n",
        "  print(dan)"
      ]
    },
    {
      "cell_type": "markdown",
      "metadata": {
        "id": "hWWBsrQWTm7D"
      },
      "source": [
        "---"
      ]
    },
    {
      "cell_type": "markdown",
      "metadata": {
        "id": "7YMoV6dPSsLi"
      },
      "source": [
        "19. Navedite primer beskonacne while petlje."
      ]
    },
    {
      "cell_type": "code",
      "metadata": {
        "id": "14PIviVbSuqk"
      },
      "source": [
        "# Odgovor:"
      ],
      "execution_count": null,
      "outputs": []
    },
    {
      "cell_type": "markdown",
      "metadata": {
        "id": "r-ghB9NM_PX-"
      },
      "source": [
        "While True:\n",
        "  print(a)"
      ]
    },
    {
      "cell_type": "markdown",
      "metadata": {
        "id": "jYFFyTpOTnSc"
      },
      "source": [
        "---"
      ]
    },
    {
      "cell_type": "markdown",
      "metadata": {
        "id": "SewZ9YZISwlj"
      },
      "source": [
        "20. Cemu sluze naredbe **continue** i **break**? Navedite primer.\n",
        "\n",
        "Odgovor:"
      ]
    },
    {
      "cell_type": "code",
      "metadata": {
        "id": "nWdOKvNYSytK"
      },
      "source": [
        "# Odgovor:"
      ],
      "execution_count": null,
      "outputs": []
    },
    {
      "cell_type": "markdown",
      "metadata": {
        "id": "4fwOS9rh_T8p"
      },
      "source": [
        "Naredba Continue sluzi da se preskoci trenutna iteracija petlje. I da se petlja zapocne ispocetka u sledecoj iteraciji.\n",
        "for dan in dani:\n",
        "  if dan == \"Pet\"\n",
        "    Continue\n",
        "Naredba Break sluzi da se prekine izvrsavanje neke petlje na mestu gde je pozvana\n",
        "for dan in dani:\n",
        "  if dan == \"Pet\"\n",
        "    break\n"
      ]
    },
    {
      "cell_type": "markdown",
      "metadata": {
        "id": "s2wZm6luTnom"
      },
      "source": [
        "---"
      ]
    },
    {
      "cell_type": "markdown",
      "metadata": {
        "id": "DblWPb9-S2gA"
      },
      "source": [
        "\n",
        "21. Sta su funkcije u programiranju?\n",
        "\n",
        "Odgovor:"
      ]
    },
    {
      "cell_type": "markdown",
      "metadata": {
        "id": "PmGZs_wW_pAy"
      },
      "source": [
        "Funkcija je skup naredbi koja ima neki ulazni podatak, i generise neki izlazni podatak.\n",
        "Ona se moze posmatrati kao \"crna kutija\" koju samo pozivamo da odrade posao, i usput im damo alate i informacije da odrade taj posao. Nije nam od interesa na koji nacin rade taj posao."
      ]
    },
    {
      "cell_type": "markdown",
      "metadata": {
        "id": "xbdf0BHRTn_0"
      },
      "source": [
        "---"
      ]
    },
    {
      "cell_type": "markdown",
      "metadata": {
        "id": "CgHCVkjfS4hc"
      },
      "source": [
        "22. Sta su **parametri**, a sta **argumenti** funkcije?\n",
        "\n",
        "Odgovor:"
      ]
    },
    {
      "cell_type": "markdown",
      "metadata": {
        "id": "c_TTBmg7AMSh"
      },
      "source": [
        "Parametri su reci u zagradi pored imena definicije funkcije.\n",
        "Argumenti su prave vrednosti koje se prosledjuju funkciji pri njenom pozivu, kako bi nad njima odradila posao za koji je pisana."
      ]
    },
    {
      "cell_type": "markdown",
      "metadata": {
        "id": "aRX5rXArToLQ"
      },
      "source": [
        "---"
      ]
    },
    {
      "cell_type": "markdown",
      "metadata": {
        "id": "uW0SM7M_S92k"
      },
      "source": [
        "23. Definisite funkciju **add** koja vrsi sabiranje dva prosledjena argumenta i vraca rezultat.\n"
      ]
    },
    {
      "cell_type": "code",
      "metadata": {
        "id": "Od5A5sjyTCVG"
      },
      "source": [
        "# Odgovor:"
      ],
      "execution_count": null,
      "outputs": []
    },
    {
      "cell_type": "markdown",
      "metadata": {
        "id": "uMPgqUBcA8cB"
      },
      "source": [
        "def add(a,b):\n",
        "  return a+b\n",
        "\n",
        "add(1,2)"
      ]
    },
    {
      "cell_type": "markdown",
      "metadata": {
        "id": "dAimSyJ2Tohc"
      },
      "source": [
        "---"
      ]
    },
    {
      "cell_type": "markdown",
      "metadata": {
        "id": "5AsHq2u_TGOY"
      },
      "source": [
        "24. Sta su **default** parametri funkcije?\n",
        "\n",
        "Odgovor:\n"
      ]
    },
    {
      "cell_type": "markdown",
      "metadata": {
        "id": "BV9ur1PVBCZg"
      },
      "source": [
        "Default parametri funkcije su predodredjene vrednosti parametara koji mogu stojati pored parametara funkcije u njenoj deklaraciji. Oni se uzimaju kao argumenti, ako nista nije eksplicitno prosledjeno odredjenom parametru pri pozivu funkcije."
      ]
    },
    {
      "cell_type": "markdown",
      "metadata": {
        "id": "zUsQ5I0_TouZ"
      },
      "source": [
        "---"
      ]
    },
    {
      "cell_type": "markdown",
      "metadata": {
        "id": "3VMHEOrBTMX4"
      },
      "source": [
        "25. Ukratko objasnite specijalne parametre **\\*args** i **\\*\\*kwargs**.\n",
        "\n",
        "Odgovor:"
      ]
    },
    {
      "cell_type": "markdown",
      "metadata": {
        "id": "-z0Wv4mfAdjc"
      },
      "source": [
        "Nismo radili ovo. Pretpostavljam da je *args neki pokazivac na neku vrstu skupa redovnih argumenata, a **kwargs isto to samo za Keyword argumente (deluje tako jer ima slova k i w ispred, kao KeyWord)."
      ]
    },
    {
      "cell_type": "markdown",
      "metadata": {
        "id": "HCl2qrsKTpHq"
      },
      "source": [
        "---"
      ]
    },
    {
      "cell_type": "markdown",
      "metadata": {
        "id": "YT0NRSmLTSf9"
      },
      "source": [
        "26. Na funkciju iz zadatka 23 dodajte \\_\\_docstring\\_\\_ (iskomentarisite je po Python konvenciji)."
      ]
    },
    {
      "cell_type": "code",
      "metadata": {
        "id": "AZ7gppT0TZ1h"
      },
      "source": [
        "# Odgovor:"
      ],
      "execution_count": null,
      "outputs": []
    },
    {
      "cell_type": "markdown",
      "metadata": {
        "id": "p4B-r8KcBi0h"
      },
      "source": [
        "def add(a,b):\n",
        "  \"\"\"add(a, b) -> int\"\"\"\n",
        "  return a+b\n",
        "\n",
        "add(1,2)"
      ]
    },
    {
      "cell_type": "markdown",
      "metadata": {
        "id": "fAA1cr2YPkNM"
      },
      "source": [
        "\n",
        "\n",
        "---\n",
        "\n",
        "\n",
        "\n"
      ]
    },
    {
      "cell_type": "markdown",
      "metadata": {
        "id": "XbGou6-sPoNu"
      },
      "source": [
        "## 7.2 Zadaci\n",
        "\n",
        "U narednim zadacima bice jasno oznacen deo koji treba da popunite sa # START i # END. Sve ostalo sluzi za automatsku proveru resenja i treba da ga ignorisete.\n",
        "Takodje, docstringovi uz funkcije nisu potrebni - mozete eventualno dodati kratak jednolinijski komentar ako mislite da treba."
      ]
    },
    {
      "cell_type": "markdown",
      "metadata": {
        "id": "W1cS3KGKV-m4"
      },
      "source": [
        "### 1\n",
        "Napisati program koji simulira rad jednostavnog kalkulatora: od korisnika se trazi da unese dva broja, a potom se racuna rezultat sabiranja, oduzimanja, mnozenja i deljenja ova dva broja. Sve funkcionalnosti treba da budu izdvojene u funkcije."
      ]
    },
    {
      "cell_type": "code",
      "metadata": {
        "id": "910BoSN-Is92"
      },
      "source": [
        "# Ovde definisite fju 'unos' koja treba da primi unos od korisnika i da vrati dva uneta broja\n",
        "# START\n",
        "def unos(broj1, broj2):\n",
        "  broj1 = int(input(\"broj1:\"))\n",
        "  broj2 = int(input(\"broj2:\"))\n",
        "  return broj1, broj2\n",
        "# END\n",
        "\n",
        "# Ovde definisite fju 'add' koja treba da vrati zbir dva prosledjena broja\n",
        "# START\n",
        "def add(a,b):\n",
        "  return a+b\n",
        "# END\n",
        "\n",
        "# Ovde definisite fju 'sub' koja treba da vrati razliku dva prosledjena broja\n",
        "# START\n",
        "def sub(a,b):\n",
        "  if b == 0:\n",
        "    return None\n",
        "  else:\n",
        "    return a-b\n",
        "# END\n",
        "\n",
        "# Ovde definisite fju 'mul' koja treba da vrati proizvod dva prosledjena broja\n",
        "# START\n",
        "def mul(a,b):\n",
        "  return a*b\n",
        "# END\n",
        "\n",
        "# Ovde definisite fju 'div' koja treba da vrati kolicnik dva prosledjena broja\n",
        "# START\n",
        "def div(a,b):\n",
        "  if b == 0:\n",
        "    return None\n",
        "  else:\n",
        "    return a/b\n",
        "# END"
      ],
      "execution_count": 2,
      "outputs": []
    },
    {
      "cell_type": "code",
      "metadata": {
        "id": "G3D0pDRXXoXJ",
        "colab": {
          "base_uri": "https://localhost:8080/",
          "height": 52
        },
        "outputId": "3d502fa5-9b30-4170-fd26-c20f502f84be"
      },
      "source": [
        "\"\"\"\n",
        "U ovoj celiji mozete testirati rad vasih funkcija.\n",
        "Ona nece biti uzeta za razmatranje tacnosti resenja zadatka.\n",
        "\"\"\"\n",
        "# START\n",
        "\n",
        "# END"
      ],
      "execution_count": 3,
      "outputs": [
        {
          "output_type": "execute_result",
          "data": {
            "application/vnd.google.colaboratory.intrinsic+json": {
              "type": "string"
            },
            "text/plain": [
              "'\\nU ovoj celiji mozete testirati rad vasih funkcija.\\nOna nece biti uzeta za razmatranje tacnosti resenja zadatka.\\n'"
            ]
          },
          "metadata": {
            "tags": []
          },
          "execution_count": 3
        }
      ]
    },
    {
      "cell_type": "code",
      "metadata": {
        "id": "6Me4UAOyX2Rm",
        "colab": {
          "base_uri": "https://localhost:8080/"
        },
        "outputId": "a101083d-9a15-4cc2-d3e1-eaa116aa1fc6"
      },
      "source": [
        "\"\"\"\n",
        "Ovu celiju NE MODIFIKUJETE!\n",
        "Samo treba da je pokrenete i ona ce izbaciti ocenu\n",
        "ovog zadatka.\n",
        "\"\"\"\n",
        "\n",
        "from random import randint\n",
        "\n",
        "# Generisu se dva niza nasumicnih integera\n",
        "arr1 = [randint(0, 100) for _ in range(5)]\n",
        "arr2 = [randint(1, 200) for _ in range(5)]\n",
        "\n",
        "passed = 0  # Koliko fja je proslo test. unos() ce biti rucno pregledan\n",
        "total = 5   # Ukupno funkcija \n",
        "test = 0                # Koliko testova je prodjeno\n",
        "total_tests = len(arr1) # Ukupno testova koje treba proci\n",
        "\n",
        "try:\n",
        "    for e1, e2 in zip(arr1, arr2):\n",
        "        if add(e1, e2) == (e1 + e2):\n",
        "            passed += 1\n",
        "\n",
        "        if sub(e1, e2) == (e1 - e2):\n",
        "            passed += 1\n",
        "\n",
        "        if mul(e1, e2) == (e1 * e2):\n",
        "            passed += 1\n",
        "\n",
        "        if div(e1, e2) == (e1 / e2):\n",
        "            passed += 1\n",
        "\n",
        "        test += 1\n",
        "        print(f\"Test {test}/{total_tests}: {passed}/{total} (unos() se rucno pregleda, +1 ako je tacan)\")\n",
        "        passed = 0\n",
        "\n",
        "except:\n",
        "    print(\"Fatalna greska. Vrati se na kod i probaj opet.\")\n"
      ],
      "execution_count": 4,
      "outputs": [
        {
          "output_type": "stream",
          "text": [
            "Test 1/5: 4/5 (unos() se rucno pregleda, +1 ako je tacan)\n",
            "Test 2/5: 4/5 (unos() se rucno pregleda, +1 ako je tacan)\n",
            "Test 3/5: 4/5 (unos() se rucno pregleda, +1 ako je tacan)\n",
            "Test 4/5: 4/5 (unos() se rucno pregleda, +1 ako je tacan)\n",
            "Test 5/5: 4/5 (unos() se rucno pregleda, +1 ako je tacan)\n"
          ],
          "name": "stdout"
        }
      ]
    },
    {
      "cell_type": "markdown",
      "metadata": {
        "id": "1O7LEmsybchL"
      },
      "source": [
        "\n",
        "\n",
        "---\n",
        "\n",
        "\n"
      ]
    },
    {
      "cell_type": "markdown",
      "metadata": {
        "id": "_PJgXos7cR14"
      },
      "source": [
        "### 2\n",
        "Napisati program koji za pozitivan trocifren broj vraca njegove cifre jedinica, desetica i stotina. Izdvajanje cifara vrsi se po funkcijama. Obratiti paznju da se na izlazu ovih fja ocekuje int. Smatra se da je broj ispravno unesen - tj. da je zaista pozitivan i trocifren."
      ]
    },
    {
      "cell_type": "code",
      "metadata": {
        "id": "anx38uuLYiZJ"
      },
      "source": [
        "# Ovde definisite fju 'jedinice' koja prima trocifren int i vraca cifru jedinica\n",
        "# START\n",
        "def jedinice(a):\n",
        "  return a%10\n",
        "# END\n",
        "\n",
        "# Ovde definisite fju 'desetice' koja prima trocifren int i vraca cifru desetica\n",
        "# START\n",
        "def desetice(a):\n",
        "  return a//10%10\n",
        "# END\n",
        "\n",
        "# Ovde definisite fju 'stotine' koja prima trocifren int i vraca cifru stotina\n",
        "# START\n",
        "def stotine(a):\n",
        "  return a//100\n",
        "# END"
      ],
      "execution_count": 9,
      "outputs": []
    },
    {
      "cell_type": "code",
      "metadata": {
        "id": "zGO03mp5c-je"
      },
      "source": [
        "\"\"\"\n",
        "U ovoj celiji mozete testirati rad vasih funkcija.\n",
        "Ona nece biti uzeta za razmatranje tacnosti resenja zadatka.\n",
        "\"\"\"\n",
        "# START\n",
        "\n",
        "# END"
      ],
      "execution_count": null,
      "outputs": []
    },
    {
      "cell_type": "code",
      "metadata": {
        "id": "WodSOpw5dLcv",
        "colab": {
          "base_uri": "https://localhost:8080/"
        },
        "outputId": "92ba49cd-fd9c-46a2-a7fd-a2ac4c6edbea"
      },
      "source": [
        "\"\"\"\n",
        "Ovu celiju NE MODIFIKUJETE!\n",
        "Samo treba da je pokrenete i ona ce izbaciti ocenu\n",
        "ovog zadatka.\n",
        "\"\"\"\n",
        "\n",
        "from random import randint\n",
        "\n",
        "# Generise se niz test brojeva\n",
        "arr = [randint(100, 999) for _ in range(5)]\n",
        "\n",
        "passed_tests = 0        # Koliko testova je prodjeno\n",
        "total_tests = len(arr)  # Ukupno testova koje treba proci\n",
        "\n",
        "try:\n",
        "    for num in arr:\n",
        "        if (100*stotine(num)+10*desetice(num)+jedinice(num) == num):\n",
        "            passed_tests += 1\n",
        "except:\n",
        "    print(\"Fatalna greska. Vrati se na kod i probaj opet.\")\n",
        "\n",
        "print(f\"Tacno {passed_tests}/{total_tests}\")"
      ],
      "execution_count": 10,
      "outputs": [
        {
          "output_type": "stream",
          "text": [
            "Tacno 5/5\n"
          ],
          "name": "stdout"
        }
      ]
    },
    {
      "cell_type": "markdown",
      "metadata": {
        "id": "pUkWCEMeg7yq"
      },
      "source": [
        "\n",
        "\n",
        "---\n",
        "\n",
        "\n"
      ]
    },
    {
      "cell_type": "markdown",
      "metadata": {
        "id": "Po55yI-2hAkP"
      },
      "source": [
        "### 3\n",
        "Napisati Python program koji nalazi maksimalan i minimalan element u listi bez koriscenja biblioteckih funkcija za nalazenje max i min. Funkcionalnost treba da je izdvojena u funkcije.\n"
      ]
    },
    {
      "cell_type": "code",
      "metadata": {
        "id": "ot7Pz6KOd-im"
      },
      "source": [
        "# Ovde definisite fju 'f_max' koja prima listu i vraca maksimalan element\n",
        "# START\n",
        "def f_max(lista):\n",
        "  maks = lista[0]\n",
        "  for broj in lista:\n",
        "    if maks < broj:\n",
        "      maks = broj\n",
        "  return maks\n",
        "# END\n",
        "\n",
        "# Ovde definisite fju 'f_min' koja prima listu i vraca minimalan element\n",
        "# START\n",
        "def f_min(lista):\n",
        "  mini = lista[0]\n",
        "  for broj in lista:\n",
        "    if mini > broj:\n",
        "      mini = broj\n",
        "  return mini\n",
        "# END"
      ],
      "execution_count": 11,
      "outputs": []
    },
    {
      "cell_type": "code",
      "metadata": {
        "id": "SJEpflOyRd5I"
      },
      "source": [
        "\"\"\"\n",
        "U ovoj celiji mozete testirati rad vasih funkcija.\n",
        "Ona nece biti uzeta za razmatranje tacnosti resenja zadatka.\n",
        "\"\"\"\n",
        "# START\n",
        "\n",
        "# END"
      ],
      "execution_count": null,
      "outputs": []
    },
    {
      "cell_type": "code",
      "metadata": {
        "colab": {
          "base_uri": "https://localhost:8080/"
        },
        "id": "DyQ1jM2HRg-l",
        "outputId": "e1490454-b590-4a04-f829-f133f76fd3e4"
      },
      "source": [
        "\"\"\"\n",
        "Ovu celiju NE MODIFIKUJETE!\n",
        "Samo treba da je pokrenete i ona ce izbaciti ocenu\n",
        "ovog zadatka.\n",
        "\"\"\"\n",
        "\n",
        "from random import randint, random\n",
        "\n",
        "# Generise se niz test brojeva\n",
        "arr1 = [randint(-100, 100) for _ in range(10)]\n",
        "arr2 = [randint(100, 200) for _ in range(10)]\n",
        "arr3 = [random() for _ in range(10)]\n",
        "\n",
        "passed_tests = 0        # Koliko testova je prodjeno\n",
        "total_tests = 3         # Ukupno testova koje treba proci\n",
        "\n",
        "try:\n",
        "    if (f_max(arr1) == max(arr1)) and (f_min(arr1) == min(arr1)):\n",
        "        passed_tests += 1\n",
        "\n",
        "    if (f_max(arr2) == max(arr2)) and (f_min(arr2) == min(arr2)):\n",
        "        passed_tests += 1\n",
        "\n",
        "    if (f_max(arr3) == max(arr3)) and (f_min(arr3) == min(arr3)):\n",
        "        passed_tests += 1\n",
        "        \n",
        "except:\n",
        "    print(\"Fatalna greska. Vrati se na kod i probaj opet.\")\n",
        "\n",
        "print(f\"Tacno {passed_tests}/{total_tests}\")"
      ],
      "execution_count": 12,
      "outputs": [
        {
          "output_type": "stream",
          "text": [
            "Tacno 3/3\n"
          ],
          "name": "stdout"
        }
      ]
    },
    {
      "cell_type": "markdown",
      "metadata": {
        "id": "ygqfzskfToBn"
      },
      "source": [
        "\n",
        "\n",
        "---\n",
        "\n",
        "\n"
      ]
    },
    {
      "cell_type": "markdown",
      "metadata": {
        "id": "ZumMBW9hUhnV"
      },
      "source": [
        "### 4\n",
        "Napisati funkciju **fibonacci** koja prima argument **n** i racuna n-ti clan Fibonacijevog niza. Fja treba da ispise ceo generisani niz na ekran, kao i n-ti clan nakon toga.\n",
        "\n",
        "**Napomena**: Fibonacijev niz je niz kod kog je svaki element zbir prethodna dva. Za nase potrebe, prva dva elementa ce uvek biti jedinice, te ce stoga niz uvek biti isti. Potrebno je implementirati fju koja ce prvo generisati sve do n-tog clana niza, potom ga ispisati, kao i taj n-ti clan.\n",
        "\n",
        "**Primer**: 1, 1, 2, 3, 5, 8, 13, 21, 34...\n",
        "\n",
        "```\n",
        "fibonacci(5)\n",
        "============\n",
        "# Rezultat\n",
        "[1, 1, 2, 3, 5]\n",
        "5. clan je 5\n",
        "\n",
        "==================\n",
        "\n",
        "fibonacci(8)\n",
        "=============\n",
        "# Rezultat\n",
        "[1, 1, 2, 3, 5, 8, 13, 21]\n",
        "8. clan je 21\n",
        "```\n"
      ]
    },
    {
      "cell_type": "code",
      "metadata": {
        "id": "1GjuTMbgSZzY"
      },
      "source": [
        "# START\n",
        "def fibonacci(n):\n",
        "    niz_fib = [1,1]\n",
        "    for i in range(n-2):\n",
        "        e = niz_fib[i]+niz_fib[i+1]\n",
        "        niz_fib.append(e)\n",
        "    print(niz_fib)\n",
        "    print(f\"{n}. clan je {niz_fib[-1]}\")\n",
        "# END"
      ],
      "execution_count": 15,
      "outputs": []
    },
    {
      "cell_type": "code",
      "metadata": {
        "id": "CSe-tvmXVcWS"
      },
      "source": [
        "\"\"\"\n",
        "U ovoj celiji mozete testirati rad vasih funkcija.\n",
        "Ona nece biti uzeta za razmatranje tacnosti resenja zadatka.\n",
        "\"\"\"\n",
        "# START\n",
        "\n",
        "# END"
      ],
      "execution_count": null,
      "outputs": []
    },
    {
      "cell_type": "markdown",
      "metadata": {
        "id": "LxuZZVaSX_ea"
      },
      "source": [
        "---"
      ]
    },
    {
      "cell_type": "markdown",
      "metadata": {
        "id": "F35lxMZyYAsh"
      },
      "source": [
        "### 5 Bonus zadatak\n",
        "Napisati funkciju **zameni** koji dvema prosledjenim celobrojnim promenljivima **a** i **b** zamenjuje vrednosti **bez koriscenja pomocne promenljive**. Ovo je moguce postici koristeci samo **a** i **b** kao placeholder-e, tj. nema potrebe za dodatnom promenljivom da se u njoj drzi neki medjurezultat. "
      ]
    },
    {
      "cell_type": "code",
      "metadata": {
        "id": "cCdtLVBtX__p"
      },
      "source": [
        "# Ovde definisite fju 'zameni' koja prima dva cela broja i menja im vrednosti\n",
        "# START\n",
        "def zameni(a,b)\n",
        " a,b=b,a\n",
        " return a,b\n",
        "# END"
      ],
      "execution_count": null,
      "outputs": []
    },
    {
      "cell_type": "code",
      "metadata": {
        "id": "ZiCuIZ-UZrZ9"
      },
      "source": [
        "\"\"\"\n",
        "U ovoj celiji mozete testirati rad vasih funkcija.\n",
        "Ona nece biti uzeta za razmatranje tacnosti resenja zadatka.\n",
        "\"\"\"\n",
        "# START\n",
        "\n",
        "# END"
      ],
      "execution_count": null,
      "outputs": []
    }
  ]
}