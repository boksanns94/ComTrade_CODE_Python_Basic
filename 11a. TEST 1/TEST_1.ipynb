{
  "nbformat": 4,
  "nbformat_minor": 0,
  "metadata": {
    "colab": {
      "name": "7_test_1.ipynb",
      "provenance": [],
      "collapsed_sections": [],
      "toc_visible": true
    },
    "kernelspec": {
      "name": "python3",
      "display_name": "Python 3"
    }
  },
  "cells": [
    {
      "cell_type": "markdown",
      "metadata": {
        "id": "wmdBKjXxIt_r"
      },
      "source": [
        "# 7 Test 1"
      ]
    },
    {
      "cell_type": "markdown",
      "metadata": {
        "id": "HUmUWHOJQN8L"
      },
      "source": [
        "## 7.1 Teorijska pitanja"
      ]
    },
    {
      "cell_type": "markdown",
      "metadata": {
        "id": "XaDcMlfhQQnl"
      },
      "source": [
        "1. Kako biste definisali programiranje?\n",
        "\n",
        "Odgovor:\n"
      ]
    },
    {
      "cell_type": "markdown",
      "metadata": {
        "id": "gLAfmmMSTduX"
      },
      "source": [
        "---"
      ]
    },
    {
      "cell_type": "markdown",
      "metadata": {
        "id": "EMHwJoy9QZut"
      },
      "source": [
        "2. Kako funkcionise procesor?\n",
        "\n",
        "Odgovor:"
      ]
    },
    {
      "cell_type": "markdown",
      "metadata": {
        "id": "F1ruAOSWTf4E"
      },
      "source": [
        "---"
      ]
    },
    {
      "cell_type": "markdown",
      "metadata": {
        "id": "CSUTvemOQiNB"
      },
      "source": [
        "3. Koji su naredni slojevi apstrakcije nad harverom racunara?\n",
        "\n",
        "Odgovor:"
      ]
    },
    {
      "cell_type": "markdown",
      "metadata": {
        "id": "FRuZKu_fThlv"
      },
      "source": [
        "---"
      ]
    },
    {
      "cell_type": "markdown",
      "metadata": {
        "id": "r99fsIQ8Qp96"
      },
      "source": [
        "4. Kako funkcionise kompajler, a kako interpreter?\n",
        "\n",
        "Odgovor:"
      ]
    },
    {
      "cell_type": "markdown",
      "metadata": {
        "id": "uczplP2HTh5R"
      },
      "source": [
        "---"
      ]
    },
    {
      "cell_type": "markdown",
      "metadata": {
        "id": "aJ1sCodgQxCF"
      },
      "source": [
        "5. Da li je Python kompajliran ili interpretiran?\n",
        "\n",
        "Odgovor:"
      ]
    },
    {
      "cell_type": "markdown",
      "metadata": {
        "id": "GEUL_msPTibB"
      },
      "source": [
        "---"
      ]
    },
    {
      "cell_type": "markdown",
      "metadata": {
        "id": "4DdCLlskQ2a2"
      },
      "source": [
        "6. Sta je IDE (integrated development environment)?\n",
        "\n",
        "Odgovor:"
      ]
    },
    {
      "cell_type": "markdown",
      "metadata": {
        "id": "8FqA5VskTipG"
      },
      "source": [
        "---"
      ]
    },
    {
      "cell_type": "markdown",
      "metadata": {
        "id": "ut63dV3QQ7y9"
      },
      "source": [
        "7. Sta predstavlja **tip** podatka?\n",
        "\n",
        "Odgovor:"
      ]
    },
    {
      "cell_type": "markdown",
      "metadata": {
        "id": "3Qj5pld5Ti_e"
      },
      "source": [
        "---"
      ]
    },
    {
      "cell_type": "markdown",
      "metadata": {
        "id": "9iO-dVmVRCkx"
      },
      "source": [
        "8. Koji su primitivni tipovi u Python-u?\n",
        "\n",
        "Odgovor:"
      ]
    },
    {
      "cell_type": "markdown",
      "metadata": {
        "id": "eNlB90rZTjL4"
      },
      "source": [
        "---"
      ]
    },
    {
      "cell_type": "markdown",
      "metadata": {
        "id": "ojTcxUPxRH4Z"
      },
      "source": [
        "9. Sta su **promenljive** u programiranju? Navedite primer jedne lose i jedne dobro imenovane promenljive u Python-u.\n",
        "\n",
        "Odgovor:"
      ]
    },
    {
      "cell_type": "markdown",
      "metadata": {
        "id": "EuZrNkyJTjfG"
      },
      "source": [
        "---"
      ]
    },
    {
      "cell_type": "markdown",
      "metadata": {
        "id": "hqCy1qYARNTF"
      },
      "source": [
        "10. Sta su rezervisane reci (keywords) u nekom jeziku? Navedite primer bar tri rezervisane reci u Python-u.\n",
        "\n",
        "Odgovor:\n"
      ]
    },
    {
      "cell_type": "markdown",
      "metadata": {
        "id": "HUS4ex3ETjq2"
      },
      "source": [
        "---"
      ]
    },
    {
      "cell_type": "markdown",
      "metadata": {
        "id": "8f2t7jguRSLY"
      },
      "source": [
        "11. Navedite primer koriscenja f-stringa."
      ]
    },
    {
      "cell_type": "code",
      "metadata": {
        "id": "Cqnz43RqRYE9"
      },
      "source": [
        "# Odgovor:"
      ],
      "execution_count": null,
      "outputs": []
    },
    {
      "cell_type": "markdown",
      "metadata": {
        "id": "_F91uT1ITkDH"
      },
      "source": [
        "---"
      ]
    },
    {
      "cell_type": "markdown",
      "metadata": {
        "id": "AW1w6t2iRdr-"
      },
      "source": [
        "12. Navedite osnovne logicke operatore u Python-u. (hint: ima ih tri)\n",
        "\n",
        "Odgovor:"
      ]
    },
    {
      "cell_type": "markdown",
      "metadata": {
        "id": "gvSnB0zATkZW"
      },
      "source": [
        "---"
      ]
    },
    {
      "cell_type": "markdown",
      "metadata": {
        "id": "uFEIL_GSRnBh"
      },
      "source": [
        "13. Kako se u Python-u postize grupisanje bloka naredbi pri kontroli toka?\n",
        "\n",
        "Odgovor:"
      ]
    },
    {
      "cell_type": "markdown",
      "metadata": {
        "id": "FFdhM5WxTksB"
      },
      "source": [
        "---"
      ]
    },
    {
      "cell_type": "markdown",
      "metadata": {
        "id": "NmsknaPKRtEw"
      },
      "source": [
        "14. Kako saznati broj elemenata u listi **lista**?"
      ]
    },
    {
      "cell_type": "code",
      "metadata": {
        "id": "qxuk-_5YRuZQ"
      },
      "source": [
        "# Odgovor:"
      ],
      "execution_count": null,
      "outputs": []
    },
    {
      "cell_type": "markdown",
      "metadata": {
        "id": "kCyhczbkTk_w"
      },
      "source": [
        "---"
      ]
    },
    {
      "cell_type": "markdown",
      "metadata": {
        "id": "aQ_8bnZnRyGM"
      },
      "source": [
        "15. Ako pretpostavimo da lista **lista** sadrzi sve elemente istog tipa, kako saznati taj tip?"
      ]
    },
    {
      "cell_type": "code",
      "metadata": {
        "id": "OdElBL3qR442"
      },
      "source": [
        "# Odgovor:"
      ],
      "execution_count": null,
      "outputs": []
    },
    {
      "cell_type": "markdown",
      "metadata": {
        "id": "xMakepnXTlfx"
      },
      "source": [
        "---"
      ]
    },
    {
      "cell_type": "markdown",
      "metadata": {
        "id": "8Rv-jCgtR8oy"
      },
      "source": [
        "16. Na kom indeksu se nalazi element _\"Pon\"_ u listi ispod? Koji element je na indeksu -2? Koji element je na indeksu 6? Kako biste slasjovanjem izdvojili radne dane iz ove liste u drugu listu?\n",
        "\n",
        "Odgovor:"
      ]
    },
    {
      "cell_type": "code",
      "metadata": {
        "id": "hOJpLRXvR_P-"
      },
      "source": [
        "dani = [\"Pon\", \"Uto\", \"Sre\", \"Cet\", \"Pet\", \"Sub\"]\n",
        "\n",
        "# Odgovor:"
      ],
      "execution_count": null,
      "outputs": []
    },
    {
      "cell_type": "markdown",
      "metadata": {
        "id": "bnr8E-yuTmDL"
      },
      "source": [
        "---"
      ]
    },
    {
      "cell_type": "markdown",
      "metadata": {
        "id": "JmBwDZqpSTOf"
      },
      "source": [
        "17. Kako biste dodali dan _\"Ned\"_ u prethodnu listu?"
      ]
    },
    {
      "cell_type": "code",
      "metadata": {
        "id": "BVZxig5WSXR8"
      },
      "source": [
        "# Odgovor:"
      ],
      "execution_count": null,
      "outputs": []
    },
    {
      "cell_type": "markdown",
      "metadata": {
        "id": "GFcirhZcTmtn"
      },
      "source": [
        "---"
      ]
    },
    {
      "cell_type": "markdown",
      "metadata": {
        "id": "sCdOLD0GShVg"
      },
      "source": [
        "18. Kako biste iterirali kroz elemente iz liste iz zadatka 16 i ispisali svaki od njih?"
      ]
    },
    {
      "cell_type": "code",
      "metadata": {
        "id": "9waTjmmTSjet"
      },
      "source": [
        "# Odgovor:"
      ],
      "execution_count": null,
      "outputs": []
    },
    {
      "cell_type": "markdown",
      "metadata": {
        "id": "hWWBsrQWTm7D"
      },
      "source": [
        "---"
      ]
    },
    {
      "cell_type": "markdown",
      "metadata": {
        "id": "7YMoV6dPSsLi"
      },
      "source": [
        "19. Navedite primer beskonacne while petlje."
      ]
    },
    {
      "cell_type": "code",
      "metadata": {
        "id": "14PIviVbSuqk"
      },
      "source": [
        "# Odgovor:"
      ],
      "execution_count": null,
      "outputs": []
    },
    {
      "cell_type": "markdown",
      "metadata": {
        "id": "jYFFyTpOTnSc"
      },
      "source": [
        "---"
      ]
    },
    {
      "cell_type": "markdown",
      "metadata": {
        "id": "SewZ9YZISwlj"
      },
      "source": [
        "20. Cemu sluze naredbe **continue** i **break**? Navedite primer.\n",
        "\n",
        "Odgovor:"
      ]
    },
    {
      "cell_type": "code",
      "metadata": {
        "id": "nWdOKvNYSytK"
      },
      "source": [
        "# Odgovor:"
      ],
      "execution_count": null,
      "outputs": []
    },
    {
      "cell_type": "markdown",
      "metadata": {
        "id": "s2wZm6luTnom"
      },
      "source": [
        "---"
      ]
    },
    {
      "cell_type": "markdown",
      "metadata": {
        "id": "DblWPb9-S2gA"
      },
      "source": [
        "\n",
        "21. Sta su funkcije u programiranju?\n",
        "\n",
        "Odgovor:"
      ]
    },
    {
      "cell_type": "markdown",
      "metadata": {
        "id": "xbdf0BHRTn_0"
      },
      "source": [
        "---"
      ]
    },
    {
      "cell_type": "markdown",
      "metadata": {
        "id": "CgHCVkjfS4hc"
      },
      "source": [
        "22. Sta su **parametri**, a sta **argumenti** funkcije?\n",
        "\n",
        "Odgovor:"
      ]
    },
    {
      "cell_type": "markdown",
      "metadata": {
        "id": "aRX5rXArToLQ"
      },
      "source": [
        "---"
      ]
    },
    {
      "cell_type": "markdown",
      "metadata": {
        "id": "uW0SM7M_S92k"
      },
      "source": [
        "23. Definisite funkciju **add** koja vrsi sabiranje dva prosledjena argumenta i vraca rezultat.\n"
      ]
    },
    {
      "cell_type": "code",
      "metadata": {
        "id": "Od5A5sjyTCVG"
      },
      "source": [
        "# Odgovor:"
      ],
      "execution_count": null,
      "outputs": []
    },
    {
      "cell_type": "markdown",
      "metadata": {
        "id": "dAimSyJ2Tohc"
      },
      "source": [
        "---"
      ]
    },
    {
      "cell_type": "markdown",
      "metadata": {
        "id": "5AsHq2u_TGOY"
      },
      "source": [
        "24. Sta su **default** parametri funkcije?\n",
        "\n",
        "Odgovor:\n"
      ]
    },
    {
      "cell_type": "markdown",
      "metadata": {
        "id": "zUsQ5I0_TouZ"
      },
      "source": [
        "---"
      ]
    },
    {
      "cell_type": "markdown",
      "metadata": {
        "id": "3VMHEOrBTMX4"
      },
      "source": [
        "25. Ukratko objasnite specijalne parametre **\\*args** i **\\*\\*kwargs**.\n",
        "\n",
        "Odgovor:"
      ]
    },
    {
      "cell_type": "markdown",
      "metadata": {
        "id": "HCl2qrsKTpHq"
      },
      "source": [
        "---"
      ]
    },
    {
      "cell_type": "markdown",
      "metadata": {
        "id": "YT0NRSmLTSf9"
      },
      "source": [
        "26. Na funkciju iz zadatka 23 dodajte \\_\\_docstring\\_\\_ (iskomentarisite je po Python konvenciji)."
      ]
    },
    {
      "cell_type": "code",
      "metadata": {
        "id": "AZ7gppT0TZ1h"
      },
      "source": [
        "# Odgovor:"
      ],
      "execution_count": null,
      "outputs": []
    },
    {
      "cell_type": "markdown",
      "metadata": {
        "id": "fAA1cr2YPkNM"
      },
      "source": [
        "\n",
        "\n",
        "---\n",
        "\n",
        "\n",
        "\n"
      ]
    },
    {
      "cell_type": "markdown",
      "metadata": {
        "id": "XbGou6-sPoNu"
      },
      "source": [
        "## 7.2 Zadaci\n",
        "\n",
        "U narednim zadacima bice jasno oznacen deo koji treba da popunite sa # START i # END. Sve ostalo sluzi za automatsku proveru resenja i treba da ga ignorisete.\n",
        "Takodje, docstringovi uz funkcije nisu potrebni - mozete eventualno dodati kratak jednolinijski komentar ako mislite da treba."
      ]
    },
    {
      "cell_type": "markdown",
      "metadata": {
        "id": "W1cS3KGKV-m4"
      },
      "source": [
        "### 1\n",
        "Napisati program koji simulira rad jednostavnog kalkulatora: od korisnika se trazi da unese dva broja, a potom se racuna rezultat sabiranja, oduzimanja, mnozenja i deljenja ova dva broja. Sve funkcionalnosti treba da budu izdvojene u funkcije."
      ]
    },
    {
      "cell_type": "code",
      "metadata": {
        "id": "910BoSN-Is92"
      },
      "source": [
        "# Ovde definisite fju 'unos' koja treba da primi unos od korisnika i da vrati dva uneta broja\n",
        "# START\n",
        "\n",
        "# END\n",
        "\n",
        "# Ovde definisite fju 'add' koja treba da vrati zbir dva prosledjena broja\n",
        "# START\n",
        "\n",
        "# END\n",
        "\n",
        "# Ovde definisite fju 'sub' koja treba da vrati razliku dva prosledjena broja\n",
        "# START\n",
        "\n",
        "# END\n",
        "\n",
        "# Ovde definisite fju 'mul' koja treba da vrati proizvod dva prosledjena broja\n",
        "# START\n",
        "\n",
        "# END\n",
        "\n",
        "# Ovde definisite fju 'div' koja treba da vrati kolicnik dva prosledjena broja\n",
        "# START\n",
        "\n",
        "# END"
      ],
      "execution_count": null,
      "outputs": []
    },
    {
      "cell_type": "code",
      "metadata": {
        "id": "G3D0pDRXXoXJ"
      },
      "source": [
        "\"\"\"\n",
        "U ovoj celiji mozete testirati rad vasih funkcija.\n",
        "Ona nece biti uzeta za razmatranje tacnosti resenja zadatka.\n",
        "\"\"\"\n",
        "# START\n",
        "\n",
        "# END"
      ],
      "execution_count": null,
      "outputs": []
    },
    {
      "cell_type": "code",
      "metadata": {
        "id": "6Me4UAOyX2Rm"
      },
      "source": [
        "\"\"\"\n",
        "Ovu celiju NE MODIFIKUJETE!\n",
        "Samo treba da je pokrenete i ona ce izbaciti ocenu\n",
        "ovog zadatka.\n",
        "\"\"\"\n",
        "\n",
        "from random import randint\n",
        "\n",
        "# Generisu se dva niza nasumicnih integera\n",
        "arr1 = [randint(0, 100) for _ in range(5)]\n",
        "arr2 = [randint(1, 200) for _ in range(5)]\n",
        "\n",
        "passed = 0  # Koliko fja je proslo test. unos() ce biti rucno pregledan\n",
        "total = 5   # Ukupno funkcija \n",
        "test = 0                # Koliko testova je prodjeno\n",
        "total_tests = len(arr1) # Ukupno testova koje treba proci\n",
        "\n",
        "try:\n",
        "    for e1, e2 in zip(arr1, arr2):\n",
        "        if add(e1, e2) == (e1 + e2):\n",
        "            passed += 1\n",
        "\n",
        "        if sub(e1, e2) == (e1 - e2):\n",
        "            passed += 1\n",
        "\n",
        "        if mul(e1, e2) == (e1 * e2):\n",
        "            passed += 1\n",
        "\n",
        "        if div(e1, e2) == (e1 / e2):\n",
        "            passed += 1\n",
        "\n",
        "        test += 1\n",
        "        print(f\"Test {test}/{total_tests}: {passed}/{total} (unos() se rucno pregleda, +1 ako je tacan)\")\n",
        "        passed = 0\n",
        "\n",
        "except:\n",
        "    print(\"Fatalna greska. Vrati se na kod i probaj opet.\")\n"
      ],
      "execution_count": null,
      "outputs": []
    },
    {
      "cell_type": "markdown",
      "metadata": {
        "id": "1O7LEmsybchL"
      },
      "source": [
        "\n",
        "\n",
        "---\n",
        "\n",
        "\n"
      ]
    },
    {
      "cell_type": "markdown",
      "metadata": {
        "id": "_PJgXos7cR14"
      },
      "source": [
        "### 2\n",
        "Napisati program koji za pozitivan trocifren broj vraca njegove cifre jedinica, desetica i stotina. Izdvajanje cifara vrsi se po funkcijama. Obratiti paznju da se na izlazu ovih fja ocekuje int. Smatra se da je broj ispravno unesen - tj. da je zaista pozitivan i trocifren."
      ]
    },
    {
      "cell_type": "code",
      "metadata": {
        "id": "anx38uuLYiZJ"
      },
      "source": [
        "# Ovde definisite fju 'jedinice' koja prima trocifren int i vraca cifru jedinica\n",
        "# START\n",
        "\n",
        "# END\n",
        "\n",
        "# Ovde definisite fju 'desetice' koja prima trocifren int i vraca cifru desetica\n",
        "# START\n",
        "\n",
        "# END\n",
        "\n",
        "# Ovde definisite fju 'stotine' koja prima trocifren int i vraca cifru stotina\n",
        "# START\n",
        "\n",
        "# END"
      ],
      "execution_count": null,
      "outputs": []
    },
    {
      "cell_type": "code",
      "metadata": {
        "id": "zGO03mp5c-je"
      },
      "source": [
        "\"\"\"\n",
        "U ovoj celiji mozete testirati rad vasih funkcija.\n",
        "Ona nece biti uzeta za razmatranje tacnosti resenja zadatka.\n",
        "\"\"\"\n",
        "# START\n",
        "\n",
        "# END"
      ],
      "execution_count": null,
      "outputs": []
    },
    {
      "cell_type": "code",
      "metadata": {
        "id": "WodSOpw5dLcv"
      },
      "source": [
        "\"\"\"\n",
        "Ovu celiju NE MODIFIKUJETE!\n",
        "Samo treba da je pokrenete i ona ce izbaciti ocenu\n",
        "ovog zadatka.\n",
        "\"\"\"\n",
        "\n",
        "from random import randint\n",
        "\n",
        "# Generise se niz test brojeva\n",
        "arr = [randint(100, 999) for _ in range(5)]\n",
        "\n",
        "passed_tests = 0        # Koliko testova je prodjeno\n",
        "total_tests = len(arr)  # Ukupno testova koje treba proci\n",
        "\n",
        "try:\n",
        "    for num in arr:\n",
        "        if (100*stotine(num)+10*desetice(num)+jedinice(num) == num):\n",
        "            passed_tests += 1\n",
        "except:\n",
        "    print(\"Fatalna greska. Vrati se na kod i probaj opet.\")\n",
        "\n",
        "print(f\"Tacno {passed_tests}/{total_tests}\")"
      ],
      "execution_count": null,
      "outputs": []
    },
    {
      "cell_type": "markdown",
      "metadata": {
        "id": "pUkWCEMeg7yq"
      },
      "source": [
        "\n",
        "\n",
        "---\n",
        "\n",
        "\n"
      ]
    },
    {
      "cell_type": "markdown",
      "metadata": {
        "id": "Po55yI-2hAkP"
      },
      "source": [
        "### 3\n",
        "Napisati Python program koji nalazi maksimalan i minimalan element u listi bez koriscenja biblioteckih funkcija za nalazenje max i min. Funkcionalnost treba da je izdvojena u funkcije.\n"
      ]
    },
    {
      "cell_type": "code",
      "metadata": {
        "id": "ot7Pz6KOd-im"
      },
      "source": [
        "# Ovde definisite fju 'f_max' koja prima listu i vraca maksimalan element\n",
        "# START\n",
        "\n",
        "# END\n",
        "\n",
        "# Ovde definisite fju 'f_min' koja prima listu i vraca minimalan element\n",
        "# START\n",
        "\n",
        "# END"
      ],
      "execution_count": null,
      "outputs": []
    },
    {
      "cell_type": "code",
      "metadata": {
        "id": "SJEpflOyRd5I"
      },
      "source": [
        "\"\"\"\n",
        "U ovoj celiji mozete testirati rad vasih funkcija.\n",
        "Ona nece biti uzeta za razmatranje tacnosti resenja zadatka.\n",
        "\"\"\"\n",
        "# START\n",
        "\n",
        "# END"
      ],
      "execution_count": null,
      "outputs": []
    },
    {
      "cell_type": "code",
      "metadata": {
        "colab": {
          "base_uri": "https://localhost:8080/"
        },
        "id": "DyQ1jM2HRg-l",
        "outputId": "8b6d9bac-f0a5-4c95-816f-6cbe52e349fa"
      },
      "source": [
        "\"\"\"\n",
        "Ovu celiju NE MODIFIKUJETE!\n",
        "Samo treba da je pokrenete i ona ce izbaciti ocenu\n",
        "ovog zadatka.\n",
        "\"\"\"\n",
        "\n",
        "from random import randint, random\n",
        "\n",
        "# Generise se niz test brojeva\n",
        "arr1 = [randint(-100, 100) for _ in range(10)]\n",
        "arr2 = [randint(100, 200) for _ in range(10)]\n",
        "arr3 = [random() for _ in range(10)]\n",
        "\n",
        "passed_tests = 0        # Koliko testova je prodjeno\n",
        "total_tests = 3         # Ukupno testova koje treba proci\n",
        "\n",
        "try:\n",
        "    if (f_max(arr1) == max(arr1)) and (f_min(arr1) == min(arr1)):\n",
        "        passed_tests += 1\n",
        "\n",
        "    if (f_max(arr2) == max(arr2)) and (f_min(arr2) == min(arr2)):\n",
        "        passed_tests += 1\n",
        "\n",
        "    if (f_max(arr3) == max(arr3)) and (f_min(arr3) == min(arr3)):\n",
        "        passed_tests += 1\n",
        "        \n",
        "except:\n",
        "    print(\"Fatalna greska. Vrati se na kod i probaj opet.\")\n",
        "\n",
        "print(f\"Tacno {passed_tests}/{total_tests}\")"
      ],
      "execution_count": null,
      "outputs": [
        {
          "output_type": "stream",
          "text": [
            "Tacno 3/3\n"
          ],
          "name": "stdout"
        }
      ]
    },
    {
      "cell_type": "markdown",
      "metadata": {
        "id": "ygqfzskfToBn"
      },
      "source": [
        "\n",
        "\n",
        "---\n",
        "\n",
        "\n"
      ]
    },
    {
      "cell_type": "markdown",
      "metadata": {
        "id": "ZumMBW9hUhnV"
      },
      "source": [
        "### 4\n",
        "Napisati funkciju **fibonacci** koja prima argument **n** i racuna n-ti clan Fibonacijevog niza. Fja treba da ispise ceo generisani niz na ekran, kao i n-ti clan nakon toga.\n",
        "\n",
        "**Napomena**: Fibonacijev niz je niz kod kog je svaki element zbir prethodna dva. Za nase potrebe, prva dva elementa ce uvek biti jedinice, te ce stoga niz uvek biti isti. Potrebno je implementirati fju koja ce prvo generisati sve do n-tog clana niza, potom ga ispisati, kao i taj n-ti clan.\n",
        "\n",
        "**Primer**: 1, 1, 2, 3, 5, 8, 13, 21, 34...\n",
        "\n",
        "```\n",
        "fibonacci(5)\n",
        "============\n",
        "# Rezultat\n",
        "[1, 1, 2, 3, 5]\n",
        "5. clan je 5\n",
        "\n",
        "==================\n",
        "\n",
        "fibonacci(8)\n",
        "=============\n",
        "# Rezultat\n",
        "[1, 1, 2, 3, 5, 8, 13, 21]\n",
        "8. clan je 21\n",
        "```\n"
      ]
    },
    {
      "cell_type": "code",
      "metadata": {
        "id": "1GjuTMbgSZzY"
      },
      "source": [
        "# START\n",
        "\n",
        "# END"
      ],
      "execution_count": null,
      "outputs": []
    },
    {
      "cell_type": "code",
      "metadata": {
        "id": "CSe-tvmXVcWS"
      },
      "source": [
        "\"\"\"\n",
        "U ovoj celiji mozete testirati rad vasih funkcija.\n",
        "Ona nece biti uzeta za razmatranje tacnosti resenja zadatka.\n",
        "\"\"\"\n",
        "# START\n",
        "\n",
        "# END"
      ],
      "execution_count": null,
      "outputs": []
    },
    {
      "cell_type": "markdown",
      "metadata": {
        "id": "LxuZZVaSX_ea"
      },
      "source": [
        "---"
      ]
    },
    {
      "cell_type": "markdown",
      "metadata": {
        "id": "F35lxMZyYAsh"
      },
      "source": [
        "### 5 Bonus zadatak\n",
        "Napisati funkciju **zameni** koji dvema prosledjenim celobrojnim promenljivima **a** i **b** zamenjuje vrednosti **bez koriscenja pomocne promenljive**. Ovo je moguce postici koristeci samo **a** i **b** kao placeholder-e, tj. nema potrebe za dodatnom promenljivom da se u njoj drzi neki medjurezultat. "
      ]
    },
    {
      "cell_type": "code",
      "metadata": {
        "id": "cCdtLVBtX__p"
      },
      "source": [
        "# Ovde definisite fju 'zameni' koja prima dva cela broja i menja im vrednosti\n",
        "# START\n",
        "\n",
        "# END"
      ],
      "execution_count": null,
      "outputs": []
    },
    {
      "cell_type": "code",
      "metadata": {
        "id": "ZiCuIZ-UZrZ9"
      },
      "source": [
        "\"\"\"\n",
        "U ovoj celiji mozete testirati rad vasih funkcija.\n",
        "Ona nece biti uzeta za razmatranje tacnosti resenja zadatka.\n",
        "\"\"\"\n",
        "# START\n",
        "\n",
        "# END"
      ],
      "execution_count": null,
      "outputs": []
    }
  ]
}