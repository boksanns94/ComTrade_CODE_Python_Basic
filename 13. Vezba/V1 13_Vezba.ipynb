{
  "nbformat": 4,
  "nbformat_minor": 0,
  "metadata": {
    "colab": {
      "name": "13_vezba_MOJNOTEBOOK.ipynb",
      "provenance": [],
      "collapsed_sections": []
    },
    "kernelspec": {
      "name": "python3",
      "display_name": "Python 3"
    },
    "language_info": {
      "name": "python"
    }
  },
  "cells": [
    {
      "cell_type": "markdown",
      "metadata": {
        "id": "-u3iOywPN15a"
      },
      "source": [
        "1\n",
        "Napisati program koji učitava ime datoteke kao korisnikov unos, a potom ispisuje broj reči u datoteci. U slučaju greške na standardni izlaz za greške ispisati odgovarajuću poruku."
      ]
    },
    {
      "cell_type": "code",
      "metadata": {
        "id": "_8Z1FJZzNvsy"
      },
      "source": [
        "ime = input(\"Unesite ime datoteke: \")\n",
        "\n",
        "datoteka = open(ime, \"r\")\n",
        "sadrzaj = datoteka.read()\n",
        "datoteka.close()\n",
        "\n",
        "print(f'U datoteci {ime} postoji tacno {len(sadrzaj.split(\" \"))} reci.')"
      ],
      "execution_count": null,
      "outputs": []
    },
    {
      "cell_type": "markdown",
      "metadata": {
        "id": "U0K5dqatPZD-"
      },
      "source": [
        "2 Napisati program koji iz datoteke zadatak2.txt u datoteku zadatak2_palindromi.txt prepisuje sve palindrome. Reč je palindrom ako se isto čita sa leve i sa desne strane bez obzira\n",
        "na veličinu slova. U slučaju greške, na standardni izlaz za greške ispisati odgovarajuću poruku."
      ]
    },
    {
      "cell_type": "code",
      "metadata": {
        "id": "393Ebig6PbiS"
      },
      "source": [
        "with open(\"zadatak2.txt\", \"r\") as ulaz, open(\"zadatak2_palindromi.txt\", \"w\") as izlaz:\n",
        "  for line in ulaz:\n",
        "    no_space_line = line.replace(\" \",\"\")\n",
        "    no_space_line = no_space_line[:-1] #uklanjam \\n sa kraja reda\n",
        "    if no_space_line == no_space_line[::-1]:\n",
        "      izlaz.write(no_space_line)\n",
        "      izlaz.write(\"\\n\")"
      ],
      "execution_count": 25,
      "outputs": []
    },
    {
      "cell_type": "markdown",
      "metadata": {
        "id": "AJM-dR9ne3Ma"
      },
      "source": [
        "3 Napisati program koji na standardni izlaz ispisuje maksimum brojeva iz datoteke brojevi.txt, kao i iz numbers.csv. U slučaju greške, na standardni izlaz za greške ispisati odgovarajuću poruku."
      ]
    },
    {
      "cell_type": "code",
      "metadata": {
        "id": "sfX3ZSkxfNtg"
      },
      "source": [
        "with open(\"brojevi.txt\", \"r\") as txt, open(\"brojevi.csv\", \"r\") as csv:\n",
        "  sadrzaj_txt = txt.read()\n",
        "  sadrzaj_csv = csv.read()\n",
        "  lista_txt = [int(broj) for broj in sadrzaj_txt.split(\"\\n\")]\n",
        "  lista_csv = [int(broj) for broj in sadrzaj_csv.split(\", \")]\n",
        "\n",
        "  # txt\n",
        "  max_txt = lista_txt[0]\n",
        "  for no in lista_txt:\n",
        "    if max_txt < no:\n",
        "      max_txt = no\n",
        "  \n",
        "  #csv\n",
        "  max_csv = lista_csv[0]\n",
        "  for no in lista_csv:\n",
        "    if max_csv < no:\n",
        "      max_csv = no\n",
        "  \n",
        "  print(f\"Maksimum iz .txt je {max_txt}, a maksimum iz .csv je {max_csv}\")"
      ],
      "execution_count": null,
      "outputs": []
    },
    {
      "cell_type": "markdown",
      "metadata": {
        "id": "_8FWoxQEhlBy"
      },
      "source": [
        "4 Kao korisnikov unos unose se ime datoteke i ceo broj k. Napisati program koji na standardni izlaz ispisuje sve linije zadate datoteke čija je dužina veća od k. U slučaju greške, na standardni izlaz za greške ispisati odgovarajuću\n",
        "poruku."
      ]
    },
    {
      "cell_type": "code",
      "metadata": {
        "id": "hKGEefV3hnoR"
      },
      "source": [
        "ime = input(\"Unesite ime datoteke: \")\n",
        "max_duzina_reda = int(input(\"Unesite max duzinu reda: \"))\n",
        "\n",
        "with open(ime, \"r\") as f:\n",
        "  for line in f:\n",
        "    if len(line) > max_duzina_reda:\n",
        "      print(line, len(line))"
      ],
      "execution_count": null,
      "outputs": []
    },
    {
      "cell_type": "markdown",
      "metadata": {
        "id": "lb934I6Wj2a3"
      },
      "source": [
        "5 Napisati program koji u datoteci čije se ime navodi kao korisnikov unos određuje liniju maksimalne dužine i ispisuje je na standardni izlaz. Ukoliko ima više takvih linija, ispisati onu koja je leksikografski prva. U slučaju greške, na standardni izlaz za greške ispisati odgovarajuću poruku."
      ]
    },
    {
      "cell_type": "code",
      "metadata": {
        "id": "OrBOUDB8j_jE"
      },
      "source": [
        "ime = input(\"Unesite ime datoteke: \")\n",
        "\n",
        "najduzi_red = \"\"\n",
        "broj_reda = 0\n",
        "i = 0\n",
        "max_duzina = 0\n",
        "\n",
        "with open(ime, \"r\") as f:\n",
        "  for line in f:\n",
        "    i += 1\n",
        "    if len(line) > max_duzina:\n",
        "      max_duzina = len(line)\n",
        "      najduzi_red = line\n",
        "      broj_reda = i\n",
        "\n",
        "print(f\"Najduzi red je {broj_reda}. red. Dugacak je {max_duzina} znakova, i njegov sadrzaj je: '{najduzi_red}'\")"
      ],
      "execution_count": null,
      "outputs": []
    },
    {
      "cell_type": "markdown",
      "metadata": {
        "id": "LrmPI81nl8-c"
      },
      "source": [
        "6 \n",
        "Napisati program koji prebrojava koliko se puta linija datoteke ulaz.txt završava stringom s koji se učitava sa standardnog ulaza. U slučaju greške na standardni izlaz za greške ispisati odgovarajuću poruku.\n",
        "\n",
        "```\n",
        "# ulaz.txt\n",
        "/var/log/apache2/error.log\n",
        "/var/log/dpkg.log\n",
        "moj_log.log\n",
        "/home/korisnik.login\n",
        "/home/korisnik.log.txt\n",
        "\n",
        "===========================\n",
        "# Unos\n",
        "s = \".log\"\n",
        "===========================\n",
        "# Izlaz\n",
        "Broj linija: 3\n",
        "```"
      ]
    },
    {
      "cell_type": "code",
      "metadata": {
        "id": "fD2N840_l93D"
      },
      "source": [
        "zavrsetak = input(\"Unesite kraj stringa: \")\n",
        "ime_datoteke = \"ulaz.txt\"\n",
        "slajs = slice(-len(zavrsetak)-1, -1, 1)\n",
        "broj_linija = 0\n",
        "\n",
        "with open(ime_datoteke, \"r\") as f:\n",
        "  for line in f:\n",
        "    if line[slajs] == zavrsetak:\n",
        "      broj_linija += 1\n",
        "  \n",
        "print(f\"Broj linija koje se zavrsavaju sa {zavrsetak} je {broj_linija}\")"
      ],
      "execution_count": null,
      "outputs": []
    },
    {
      "cell_type": "markdown",
      "metadata": {
        "id": "q2mSvgGnpgsO"
      },
      "source": [
        "Domaci:\n",
        "Napisati program koji vrsi opisanu obradu nad platama radnika u jednoj firmi. Plate radnika za 12 meseci ucitavaju se sa standardnog ulaza(za jednog radnika u jednom redu). Podatke cuvati u vidu liste listi. Obrada se sastoji od pronalazenja meseca sa najmanjom prosecnom platom, nakon toga pronalazenje radnika koji je u tom mesecu imao najvecu platu, i na kraju uklanjanje informacija o pronadjenom radniku. Nakon obrade ispisati nove informacije o platama radnika. Smatrati da nece postojati vise meseci sa istom prosecnom platom. Funkcija treba da komunicira sa glavnim programom iskljucivo putem argumenata i povratnih vrednosti."
      ]
    },
    {
      "cell_type": "code",
      "metadata": {
        "colab": {
          "base_uri": "https://localhost:8080/"
        },
        "id": "QAHTwtaxrXoh",
        "outputId": "a2a8d58f-ae50-4955-d433-77a8f6654b31"
      },
      "source": [
        "def unos_plata(plate, br):\n",
        "  for i in range(br):\n",
        "    jedna_plata = input(f\"Unesite plate {i+1}. radnika (format: 1,2,3,4,5,6,7,8,9,10,11,12): \") # unos sa ulaza\n",
        "    if len(jedna_plata.split(\",\")) == 12: # provera da li je uneseno 12 brojeva\n",
        "      lista_plate = jedna_plata.split(\",\") # splitovanje brojeva da dobijemo zasebne unose\n",
        "      lista_plate = [int(e) for e in lista_plate] # pretvaranje svih brojeva u integere\n",
        "    else:\n",
        "      print(\"Unesite 12 plata po radniku!!!\") # posledica ako nije uneseno 12 plata za trenutnog radnika\n",
        "      return False\n",
        "    plate.append(lista_plate) # dodavanje liste plata u veliku listu\n",
        "\n",
        "def mesec_sa_najmanjom_platom(plate):\n",
        "  min_mesec = 0\n",
        "  min_plata = float('inf')\n",
        "  plate_po_mesecima = list(zip(*plate)) # zipovanje svih plata: (1,1,1,1),(2,2,2,2)...\n",
        "  for p in plate_po_mesecima: # iteriranje po tuplama plata\n",
        "    prosek_u_mesecu = sum(p)/len(p) # prosek plate u tekucem mesecu\n",
        "    if min_plata > prosek_u_mesecu: \n",
        "      min_plata = prosek_u_mesecu # apsolutna vrednost minimalne plate\n",
        "      min_mesec = plate_po_mesecima.index(p) # redni broj meseca sa trenutnom platom\n",
        "  return min_mesec\n",
        "\n",
        "def ukloni_radnika(plate, mesec):\n",
        "  max_plata = 0\n",
        "  radnik = 0\n",
        "  for p in plate: # sve plate od jednog radnika su u 'p'\n",
        "    if max_plata < p[mesec]: # trazimo radnika sa najvecom platom u mesecu 'mesec'\n",
        "      max_plata = p[mesec]\n",
        "      radnik = plate.index(p) # pamtimo index radnika iz liste 'plata'\n",
        "  plate.pop(radnik) # izbacujemo celu listu plata jednog radnika\n",
        "\n",
        "\n",
        "\n",
        "plate = []\n",
        "br_radnika = int(input(\"Unesite broj radnika: \"))\n",
        "if not unos_plata(plate,br_radnika):\n",
        "  exit\n",
        "mesec = mesec_sa_najmanjom_platom(plate)\n",
        "ukloni_radnika(plate, mesec)\n",
        "print(plate)"
      ],
      "execution_count": 19,
      "outputs": [
        {
          "output_type": "stream",
          "text": [
            "Unesite broj radnika: 1\n",
            "Unesite plate 1. radnika (format: 1,2,3,4,5,6,7,8,9,10,11,12): 1,2,3,4,5,6,7,8,9,10,11,12\n",
            "[]\n"
          ],
          "name": "stdout"
        }
      ]
    },
    {
      "cell_type": "code",
      "metadata": {
        "id": "PCjYAOn_1KPu"
      },
      "source": [
        ""
      ],
      "execution_count": null,
      "outputs": []
    }
  ]
}