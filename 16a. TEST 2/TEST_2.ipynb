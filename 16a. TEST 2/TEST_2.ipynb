{
  "nbformat": 4,
  "nbformat_minor": 0,
  "metadata": {
    "colab": {
      "name": "16_test_2 zavrsen.ipynb",
      "provenance": [],
      "collapsed_sections": []
    },
    "kernelspec": {
      "name": "python3",
      "display_name": "Python 3"
    }
  },
  "cells": [
    {
      "cell_type": "markdown",
      "metadata": {
        "id": "wmdBKjXxIt_r"
      },
      "source": [
        "# 14 Test 2"
      ]
    },
    {
      "cell_type": "markdown",
      "metadata": {
        "id": "HUmUWHOJQN8L"
      },
      "source": [
        "## 14.1 Teorijska pitanja"
      ]
    },
    {
      "cell_type": "markdown",
      "metadata": {
        "id": "Zb5C1QKI7AVF"
      },
      "source": [
        "1. Koja su dva osnovna nacina za sortiranje listi? Koja je razlika medju njima?\n",
        "\n",
        "Odgovor:\n",
        "1. Uz pomoć metode sort(). Ona sortira listu nad kojom je pozvana podrazumevano u rastućem poretku. Ona modifikuje originalnu listu. Ona je \"inplace\" metoda.\n",
        "2. Uz pomoć metode sorted(). Ona kreira novi listu u koju smešta elemente stare liste poređane podrazumevano u rastućem redosledu."
      ]
    },
    {
      "cell_type": "markdown",
      "metadata": {
        "id": "twboXSYT7ObX"
      },
      "source": [
        "---"
      ]
    },
    {
      "cell_type": "markdown",
      "metadata": {
        "id": "c2kiWoVM7QFv"
      },
      "source": [
        "2. Neka je data lista **a**. Od liste **a** kreirati dve liste: **kubovi** koja treba da sadrzi sve elemente liste **a** popete na treci stepen, i listu **neparni** koja sadrzi sve neparne elemente liste **a**. Zadatak resiti koriscenjem list comprehension-a."
      ]
    },
    {
      "cell_type": "code",
      "metadata": {
        "id": "DlpvyzAW6D8t"
      },
      "source": [
        "a = list(range(10))\n",
        "# Odgovor:\n",
        "\n",
        "kubovi = [e*e*e for e in a]\n",
        "neparni = [e for e in a if e%2==1]"
      ],
      "execution_count": null,
      "outputs": []
    },
    {
      "cell_type": "markdown",
      "metadata": {
        "id": "VpHAJmKw7yBZ"
      },
      "source": [
        "---"
      ]
    },
    {
      "cell_type": "markdown",
      "metadata": {
        "id": "JNO7h_BZ8gbU"
      },
      "source": [
        "3. Napisati funkciju **ukloni(lista, n)** koja iz liste **lista** uklanja sva pojavljivanja elementa **n**. "
      ]
    },
    {
      "cell_type": "code",
      "metadata": {
        "id": "LVR1Dnkq8e3X"
      },
      "source": [
        "# Odgovor:\n",
        "\n",
        "def ukloni(lista, n):\n",
        "  for e in lista:\n",
        "    if e == n:\n",
        "      lista.remove(e)\n",
        "\n",
        "def ukloni_alternativno(lista, n):\n",
        "  nova_lista = [e for e in lista if e != n]\n",
        "  return nova_lista"
      ],
      "execution_count": null,
      "outputs": []
    },
    {
      "cell_type": "markdown",
      "metadata": {
        "id": "CMgddBzwCKyE"
      },
      "source": [
        "---"
      ]
    },
    {
      "cell_type": "markdown",
      "metadata": {
        "id": "rlA-at4OCZ8V"
      },
      "source": [
        "4. Na primeru liste kao mutable objekta objasniti operator dodele, plitko i duboko kopiranje i razlike medju njima\n",
        "\n",
        "Odgovor:\n",
        "- Ako uradimo samo dodelu lista1 = lista2, promenljiva lista2 samo preuzima vrednost pokazivaca iz promenljive lista1, koji pokazuje na pocetak te liste.\n",
        "- Ako uradimo plitku kopiju tu se kreira novi objekat koji u sebi sadrzi pokazivace za svaki mutable element, a kopira vrednost immutable elementa.\n",
        "- Ako uradimo duboku kopiju, stvaraju se potpuna kopija koja zauzima novi memorijski prostor za sve vrednosti liste, i nigde se ne smestaju pokazivaci nego se kopiraju vrednosti svih elemenata, bilo oni mutable ili imutable."
      ]
    },
    {
      "cell_type": "markdown",
      "metadata": {
        "id": "wVwgIM3jCgby"
      },
      "source": [
        "---"
      ]
    },
    {
      "cell_type": "markdown",
      "metadata": {
        "id": "XMTLyFv6Cnxi"
      },
      "source": [
        "5. Dajte primer za svaku od sledecih operacija povezanih sa stringovima:\n",
        "    - f-string\n",
        "    - upper i lower\n",
        "    - konkatenacija\n",
        "    - deljenje na karaktere\n",
        "    - deljenje separatorima\n",
        "    - join metod"
      ]
    },
    {
      "cell_type": "code",
      "metadata": {
        "id": "CDD6vW8lCYjp",
        "colab": {
          "base_uri": "https://localhost:8080/"
        },
        "outputId": "cf505115-105d-4756-9d31-219609766699"
      },
      "source": [
        "# Odgovor:\n",
        "\n",
        "# 1. f-string:\n",
        "a = 2\n",
        "b = 3\n",
        "print(f\"Zbir brojeva {a} i {b} je: {a+b}\")\n",
        "\n",
        "# 2. upper i lower\n",
        "ime_i_prezime = \"Milos Boksan\"\n",
        "print(ime_i_prezime.upper())\n",
        "print(ime_i_prezime.lower())\n",
        "\n",
        "# 3. konkatenacija:\n",
        "ime = \"Milos\"\n",
        "prezime = \"Boksan\"\n",
        "print(\"Moje ime je: \" + ime + \" \" + prezime + \".\")\n",
        "\n",
        "# 4. deljenje na karaktere\n",
        "rec = \"Programiranje\"\n",
        "podeljeno = [e for e in rec]\n",
        "podeljeno_alternativno = list(rec)\n",
        "\n",
        "# 5. deljenje separatorima\n",
        "spisak = \"jaja, hleb, mleko, jogurt\"\n",
        "spisak_u_listi = spisak.split(\",\")\n",
        "\n",
        "# 6. join method\n",
        "elementi = [\"1\", \"2\", \"3\", \"4\"]\n",
        "spojeni_elementi = \", \".join(elementi)"
      ],
      "execution_count": 2,
      "outputs": [
        {
          "output_type": "stream",
          "text": [
            "Zbir brojeva 2 i 3 je: 5\n",
            "MILOS BOKSAN\n",
            "milos boksan\n",
            "Moje ime je: Milos Boksan.\n",
            "['P', 'r', 'o', 'g', 'r', 'a', 'm', 'i', 'r', 'a', 'n', 'j', 'e']\n"
          ],
          "name": "stdout"
        }
      ]
    },
    {
      "cell_type": "markdown",
      "metadata": {
        "id": "yh4BT26rC7tx"
      },
      "source": [
        "---"
      ]
    },
    {
      "cell_type": "markdown",
      "metadata": {
        "id": "nneifn3xC86X"
      },
      "source": [
        "6. Principski objasniti kako stek funkcionise i koje operacije treba da podrzava.\n",
        "\n",
        "Odgovor:\n",
        "- Stek je privremena struktura podataka koja funkcionise po LIFO (Last In First Out) principu.\n",
        "- Kada je potrebno dodati element na stek, to je dozvoljeno samo na kraj steka. Operacija koja nam ovo omogucava je \"Push\". Ako je stek prepun, operacija Push ce nam vratiti gresku.\n",
        "- Kada je potrebno izvaditi element sa steka, moguce je izvaditi samo zadnje dodat element. Operacija koja nam ovo omogucava je operacija \"Pop\". Ako je stek prazan, operacija Pop ce nam vratiti gresku."
      ]
    },
    {
      "cell_type": "markdown",
      "metadata": {
        "id": "DJCtcAJIDG1F"
      },
      "source": [
        "---"
      ]
    },
    {
      "cell_type": "markdown",
      "metadata": {
        "id": "XjinZ0oHDVKB"
      },
      "source": [
        "7. Napraviti matricu 3x4 koristeci liste koja redom sadrzi brojeve od 1 do 12. Od te matrice napraviti drugu koja sadrzi kvadrate elemenata prve matrice na odgovarajucim pozicijama."
      ]
    },
    {
      "cell_type": "code",
      "metadata": {
        "id": "yZbUf-CxC7-T"
      },
      "source": [
        "# Odgovor:\n",
        "\n",
        "#matrica_rucno = [[1,2,3],[4,5,6],[7,8,9],[10,11,12]]\n",
        "\n",
        "redovi = 4\n",
        "kolone = 3\n",
        "\n",
        "matrica = []\n",
        "for i in range(redovi):\n",
        "  red = []\n",
        "  for j in range(kolone):\n",
        "    red.append(j+i*3+1)\n",
        "  matrica.append(red)\n",
        "\n",
        "matrica_kvadrata = []\n",
        "for i in range(redovi):\n",
        "  red_kvadrata = []\n",
        "  for j in range(kolone):\n",
        "    red_kvadrata.append(matrica[i][j]*matrica[i][j])\n",
        "  matrica_kvadrata.append(red_kvadrata)"
      ],
      "execution_count": null,
      "outputs": []
    },
    {
      "cell_type": "markdown",
      "metadata": {
        "id": "s6ignGbBEmop"
      },
      "source": [
        "---"
      ]
    },
    {
      "cell_type": "markdown",
      "metadata": {
        "id": "LylIGxNAEyj-"
      },
      "source": [
        "8. Dati primer koriscenja **zip()** funkcije."
      ]
    },
    {
      "cell_type": "code",
      "metadata": {
        "id": "r7ndhMllDtks"
      },
      "source": [
        "# Odgovor:\n",
        "\n",
        "ime = [\"Milos\", \"Nemanja\", \"Nikola\"]\n",
        "prezime = [\"Milosevic\", \"Nemanjic\", \"Nikolic\"]\n",
        "godine = [20, 24, 32]\n",
        "\n",
        "osoba = list(zip(ime, prezime, godine))\n",
        "# Dobicemo listu tupli. Svaka tupla ce sadrzati element iz lista ime, prezime i godine.\n",
        "# Prva tupla ce sadrzati prvi element iz liste ime, kao i prvi element iz liste prezime,\n",
        "# kao i prvi element iz liste godine. Druga tupla ce sadrzati druge elemente svake od\n",
        "# tri liste. I tim pravilom ce se formirati sve tuple u listi osoba."
      ],
      "execution_count": null,
      "outputs": []
    },
    {
      "cell_type": "markdown",
      "metadata": {
        "id": "FqMDrA-UE3o7"
      },
      "source": [
        "---"
      ]
    },
    {
      "cell_type": "markdown",
      "metadata": {
        "id": "r7amVgE2E4sK"
      },
      "source": [
        "9. Svojim recima objasnite sta su **moduli** u Python-u.\n",
        "\n",
        "Odgovor:\n",
        "Moduli su fajlovi koji sadrze pajton kod. Moduli u sebi mogu da sadrze implementacije funkcija, klasa, varijabli i sve ostalo sto Python podrzava. Moduli nam omogucavaju da organizujemo slican kod po fajlovima kako bi olaksali trazenje specificnih pomenutih implementacija. Modul isto tako moze da sadrzi kod koji se izvrsava, a ne samo implementaciju. Module koristimo tako sto ih uvezemo u glavni fajl uz pomoc komande \"Import\"."
      ]
    },
    {
      "cell_type": "markdown",
      "metadata": {
        "id": "zg3A3bkYFFcp"
      },
      "source": [
        "---"
      ]
    },
    {
      "cell_type": "markdown",
      "metadata": {
        "id": "11mfs1gyFGlU"
      },
      "source": [
        "10. Navesti sve ugradjene Python kontejnere i dati primer rada sa njima."
      ]
    },
    {
      "cell_type": "code",
      "metadata": {
        "id": "StNL_xHbE39c"
      },
      "source": [
        "# Odgovor:\n",
        "\n",
        "# Lista:\n",
        "reci_u_recenici = recenica.split(\" \")\n",
        "del reci_u_recenici[2]\n",
        "\n",
        "# Tupla:\n",
        "tupla = (\"Milos\", \"Boksan\", 26, \"Novi Sad\")\n",
        "ime, prezime, godine, grad = tupla\n",
        "\n",
        "# Skup\n",
        "parni_skup = set([2, 4, 6, 8, 10, 12, 14])\n",
        "parni_skup.add(16)\n",
        "parni_skup.update([18, 20, 20, 20]\n",
        "neparni_skup = set([1, 3, 5, 7, 9, 11])\n",
        "ceo_skup = (parni_skup | neparni_skup)\n",
        "\n",
        "# Recnik:\n",
        "recnik = {'ime': ime, 'prezime': prezime, 'godine': godine, 'grad': grad}"
      ],
      "execution_count": null,
      "outputs": []
    },
    {
      "cell_type": "markdown",
      "metadata": {
        "id": "wZu1qdwPFd7w"
      },
      "source": [
        "---"
      ]
    },
    {
      "cell_type": "markdown",
      "metadata": {
        "id": "HP1r1N76Fe0W"
      },
      "source": [
        "## 14.2 Zadaci\n",
        "\n",
        "U narednim zadacima bice jasno oznacen deo koji treba da popunite sa # START i # END. Sve ostalo sluzi za automatsku proveru resenja i treba da ga ignorisete.\n",
        "Takodje, docstringovi uz funkcije nisu potrebni - mozete eventualno dodati kratak jednolinijski komentar ako mislite da treba."
      ]
    },
    {
      "cell_type": "markdown",
      "metadata": {
        "id": "zlU8wykfFlH3"
      },
      "source": [
        "### 1\n",
        "\n",
        "Napisati fju **faktorjel(n)** koja rekurzivno racuna faktorjel broja **n**. \n",
        "Podsetnik: n! = n\\*(n-1)\\*...\\*2\\*1 = n\\*(n-1)! , 0! = 1\n",
        "\n",
        "\n",
        "\n"
      ]
    },
    {
      "cell_type": "code",
      "metadata": {
        "id": "CrrcL7oAFeLp"
      },
      "source": [
        "# START\n",
        "def faktorjel(n):\n",
        "  if n == 0 or n == 1:\n",
        "    return 1\n",
        "  return n * faktorjel(n-1)\n",
        "# END"
      ],
      "execution_count": null,
      "outputs": []
    },
    {
      "cell_type": "code",
      "metadata": {
        "id": "G3D0pDRXXoXJ"
      },
      "source": [
        "\"\"\"\n",
        "U ovoj celiji mozete testirati rad vasih funkcija.\n",
        "Ona nece biti uzeta za razmatranje tacnosti resenja zadatka.\n",
        "\"\"\"\n",
        "# START\n",
        "\n",
        "# END"
      ],
      "execution_count": null,
      "outputs": []
    },
    {
      "cell_type": "code",
      "metadata": {
        "id": "6Me4UAOyX2Rm"
      },
      "source": [
        "\"\"\"\n",
        "Ovu celiju NE MODIFIKUJETE!\n",
        "Samo treba da je pokrenete i ona ce izbaciti ocenu\n",
        "ovog zadatka.\n",
        "\"\"\"\n",
        "\n",
        "from random import randint\n",
        "import math\n",
        "\n",
        "# Generise se niz nasumicnih integera\n",
        "arr = [randint(0, 10) for _ in range(10)]\n",
        "\n",
        "passed = 0  # Koliko testova je prodjeno\n",
        "total_tests = len(arr) # Ukupno testova koje treba proci\n",
        "\n",
        "try:\n",
        "    for e in arr:\n",
        "        if math.factorial(e) == faktorjel(e):\n",
        "            passed += 1\n",
        "\n",
        "    print(f\"Passed: {passed}/{total_tests}\")\n",
        "\n",
        "except Exception as e:\n",
        "    print(\"Fatalna greska. Vrati se na kod i probaj opet.\")\n",
        "    print(e)\n"
      ],
      "execution_count": null,
      "outputs": []
    },
    {
      "cell_type": "markdown",
      "metadata": {
        "id": "kx2dNamsIaSm"
      },
      "source": [
        "---\n"
      ]
    },
    {
      "cell_type": "markdown",
      "metadata": {
        "id": "KzV073c4IdKT"
      },
      "source": [
        "### 2\n",
        "Napisati funkciju **provera(izraz)** koja prima aritmetički izraz u obliku stringa: npr. “2+3*(5 - 2)” i koja proverava da li su zagrade pravilno uparene i vraca bool vrednost. Koristiti stack implementiran uz pomoć liste. Napisati pomoćne funkcije koje primaju listu kao jedan argument i znaju da implementiraju push, pop, empty i size operacije. Nema potrebe za koriscenjem OOP koncepata, sve uraditi preko liste i pomocnih funkcija. Dole ce biti data funkcija koja implementira pop operaciju.\n",
        "\n",
        "```\n",
        "# Primer nepravilno uparenih zagrada\n",
        "\n",
        "\"2+3*(5-2))\"\n",
        "\n",
        "# ili\n",
        "\n",
        "\"2+3*(5-2)(\"\n",
        "```"
      ]
    },
    {
      "cell_type": "code",
      "metadata": {
        "id": "y0swa47CH1E0"
      },
      "source": [
        "# Pomoc: implementirana fja pop() koja prima listu i vraca element sa vrha\n",
        "# Prosto listu koja se koristi kao stek instancirati kao 'stek = []' i njega \n",
        "# prosledjivati implementiranim funkcijama i sve ce izgledati kao da se radi \n",
        "# o pravom steku\n",
        "def pop(stek):  # 'stek' je zapravo lista\n",
        "  if size(stek) > 0:   # Napraviti funkciju size koja vraca velicinu steka \n",
        "    return stek.pop()\n",
        "  else:\n",
        "    print(\"Stack underflow!\")\n",
        "    return False\n",
        "\n",
        "# START\n",
        "def push(stek, element):\n",
        "  if len(stek) < 50:\n",
        "    stek.append(element)\n",
        "    return True\n",
        "  print(\"Stack Overflow!\")\n",
        "  return False\n",
        "\n",
        "def size(stek):\n",
        "  return len(stek)\n",
        "\n",
        "def empty(stek):\n",
        "  if len(stek) == 0:\n",
        "    return True\n",
        "  return False\n",
        "\n",
        "def provera(izraz):\n",
        "  stek = []\n",
        "  for znak in izraz:\n",
        "    if znak == \"(\":\n",
        "      push(stek, znak)\n",
        "    elif znak == \")\":\n",
        "      if pop(stek) == False:\n",
        "        return False\n",
        "  if len(stek) != 0:\n",
        "    return False\n",
        "  return True\n",
        "# END"
      ],
      "execution_count": null,
      "outputs": []
    },
    {
      "cell_type": "code",
      "metadata": {
        "id": "rYCS67rWKMYL"
      },
      "source": [
        "\"\"\"\n",
        "U ovoj celiji mozete testirati rad vasih funkcija.\n",
        "Ona nece biti uzeta za razmatranje tacnosti resenja zadatka.\n",
        "\"\"\"\n",
        "# START\n",
        "# END"
      ],
      "execution_count": null,
      "outputs": []
    },
    {
      "cell_type": "code",
      "metadata": {
        "id": "I81WMxLVKRN3"
      },
      "source": [
        "\"\"\"\n",
        "Ovu celiju NE MODIFIKUJETE!\n",
        "Samo treba da je pokrenete i ona ce izbaciti ocenu\n",
        "ovog zadatka.\n",
        "\"\"\"\n",
        "# Niz test primera\n",
        "primeri = [\"2+3*(5-2))\", \"2+3*(5-2)(\", \"2+3*(5-2)\", \"((2+3))\", \"{2*[1+3])\"]\n",
        "odgovori = [False, False, True, True, False]\n",
        "\n",
        "passed = 0  # Koliko testova je prodjeno\n",
        "total_tests = len(arr) # Ukupno testova koje treba proci\n",
        "\n",
        "try:\n",
        "    for i in range(len(primeri)):\n",
        "        if provera(primeri[i]) == odgovori[i]:\n",
        "            passed += 1\n",
        "\n",
        "    print(f\"Passed: {passed}/{total_tests}\")\n",
        "\n",
        "except Exception as e:\n",
        "    print(\"Fatalna greska. Vrati se na kod i probaj opet.\")\n",
        "    print(e)"
      ],
      "execution_count": null,
      "outputs": []
    },
    {
      "cell_type": "markdown",
      "metadata": {
        "id": "9mToPwgpJaHz"
      },
      "source": [
        "---"
      ]
    },
    {
      "cell_type": "markdown",
      "metadata": {
        "id": "dX0pjJehNw-X"
      },
      "source": [
        "### 3\n",
        "Napisati program koji simulira kviz znanja. Kao korisnikov unos unosi se\n",
        "ime fajla koji predstavlja bazu pitanja (tekstualni fajl), fajl se sastoji od\n",
        "naizmeničnih linija pitanja, opcije odgovora i tačnog rešenja, primer:\n",
        "\\\n",
        "```\n",
        "Januar ima _ dana?\n",
        "30, 31, 28, 29 \n",
        "31\n",
        "```\n",
        "\\\n",
        "Nakon uspešnog učitavanja baze pitanja, nasumično se bira pitanje i postavlja\n",
        "korisniku na koje on odgovara kroz standardni ulaz. Rezultat igre je maksimalni\n",
        "broj vezanih tačnih odgovora koje je korisnik ostvario."
      ]
    },
    {
      "cell_type": "code",
      "metadata": {
        "id": "so2fwpjsNzVs"
      },
      "source": [
        "'''\n",
        "Pomoc:\n",
        "from google.colab import files\n",
        "\n",
        "uploaded = files.upload()\n",
        "\n",
        "\n",
        "\n",
        "Ime fajla koji sadrzi pitanja je pitanja_i_odgovori.csv!\n",
        "Kolone su mu sledece: redni br pitanja, tekst pitanja, odgovor a, odgovor b, odgovor c, odgovor d i tacan odgovor\n",
        "Fajl koji sadrzi pitanja i odgovore:\n",
        "\n",
        "1,Koliko dana ima januar?,28,29,30,31,31\n",
        "2,Koliko stejtova ima USA?,49,50,51,52,50\n",
        "3,Koje godine se desio kosovski boj?,1389,1398,1388,1399,1389\n",
        "4,Koje su boje strumfovi?,Zelene,Crvene,Sive,Plave,Plave\n",
        "5,Koji element je supermenova slabost?,Plutonijum,Ajnstajnijum,Kriptonijum,Uranijum,Kriptonijum\n",
        "6,Koji je glavni grad Nemacke?,Berlin,Bon,Brisel,Beograd,Berlin\n",
        "7,Kolika je priblizna vrednost PI?,3.11,1.13,4.31,3.14,3.14\n",
        "8,Koje pivo je imalo slogan \"Svetsko a nase!\"?,Jelen,MB Pivo,Lav,Zajecasrko,MB Pivo\n",
        "\n",
        "'''\n",
        "\n",
        "# START\n",
        "import csv\n",
        "import random\n",
        "\n",
        "\n",
        "def import_pitanja(fajl_sa_pitanjima):\n",
        "  baza_pitanja = {}\n",
        "  for red in fajl_sa_pitanjima:\n",
        "    jedno_pitanje = {}\n",
        "    jedno_pitanje[\"pitanje\"] = red[\"pitanje\"]\n",
        "    jedno_pitanje[\"a\"] = red[\"a\"]\n",
        "    jedno_pitanje[\"b\"] = red[\"b\"]\n",
        "    jedno_pitanje[\"c\"] = red[\"c\"]\n",
        "    jedno_pitanje[\"d\"] = red[\"d\"]\n",
        "    jedno_pitanje[\"odg_tacan\"] = red[\"odg_tacan\"]\n",
        "    baza_pitanja[red[\"rb\"]] = jedno_pitanje\n",
        "  return baza_pitanja\n",
        "\n",
        "def prebroj_pitanja(baza_sa_pitanjima):\n",
        "  broj = 0\n",
        "  for red in baza_sa_pitanjima:\n",
        "    if red != \"\\n\":\n",
        "      broj += 1\n",
        "  return broj\n",
        "\n",
        "def kviz(pitanja_i_odgovori, broj_pitanja):\n",
        "  vec_postavljena_pitanja = []\n",
        "  rezultat = 0\n",
        "  partija = True\n",
        "  while len(vec_postavljena_pitanja) < broj_pitanja and partija: # zapocinje se kviz\n",
        "    n = str(random.randint(1, broj_pitanja)) # biram random pitanje\n",
        "    while n in vec_postavljena_pitanja: # ako je bilo vec pitanje, biram ponovo\n",
        "      n = str(random.randint(1, broj_pitanja))\n",
        "    print() # telo kviza\n",
        "    print(\"Pitanje glasi:\")\n",
        "    print(\"-> \" + pitanja_i_odgovori[n][\"pitanje\"])\n",
        "    print(\"Ponudjeni odgovori: \")\n",
        "    print(\"A: \" + pitanja_i_odgovori[n][\"a\"])\n",
        "    print(\"B: \" + pitanja_i_odgovori[n][\"b\"])\n",
        "    print(\"C: \" + pitanja_i_odgovori[n][\"c\"])\n",
        "    print(\"D: \" + pitanja_i_odgovori[n][\"d\"])\n",
        "    odgovor = input(\"Unesite vas odgovor (malo slovo a, b, c ili d za izbor odgovora): \")\n",
        "    if pitanja_i_odgovori[n][odgovor] == pitanja_i_odgovori[n][\"odg_tacan\"]:\n",
        "      print(\"***********************\")\n",
        "      print(\"BRAVO!! TACAN ODGOVOR!!\")\n",
        "      print(\"***********************\")\n",
        "      print()\n",
        "      rezultat += 1 # ako da tacan odgovor rezultat se povecava za 1\n",
        "    else:\n",
        "      tacan_odgovor = pitanja_i_odgovori[n][\"odg_tacan\"]\n",
        "      print(\"xxxxxxxxxxxxxxxxxxxxxx\")\n",
        "      print(f\"greska... Tacan odgovor je: {tacan_odgovor}.\")\n",
        "      print(\"xxxxxxxxxxxxxxxxxxxxxx\")\n",
        "      print()\n",
        "      partija = False # cim da netacan odgovor, partija se zavrsva jer uslov u prvom while vise nije True\n",
        "    vec_postavljena_pitanja.append(n) # belezimo pitanja koja su vec bila i ako se ispucaju sva pitanja\n",
        "                                      # uslov u prvom while vise nece biti True\n",
        "  print(f\"\\n\\nSvaka cast. Uspeli ste da pogodite {rezultat} pitanja za redom.\")\n",
        "\n",
        "\n",
        "ime_fajla = \"pitanja_i_odgovori.csv\"\n",
        "\n",
        "with open(ime_fajla, \"r\") as fajl_sa_pitanjima:\n",
        "  pitanja = csv.DictReader(fajl_sa_pitanjima, fieldnames = [\"rb\", \"pitanje\", \"a\", \"b\", \"c\", \"d\", \"odg_tacan\"])\n",
        "  pitanja_i_odgovori = import_pitanja(pitanja) # importovanje svih pitanja iz fajla\n",
        "  broj_pitanja = prebroj_pitanja(pitanja_i_odgovori) # izbrojim koliko ima pitanja\n",
        "  kviz(pitanja_i_odgovori, broj_pitanja)\n",
        "# END"
      ],
      "execution_count": null,
      "outputs": []
    },
    {
      "cell_type": "markdown",
      "metadata": {
        "id": "ePx2gMN3LdDO"
      },
      "source": [
        "### 4 Bonus zadatak\n",
        "\n",
        "Napisati program koji predstavlja simulaciju igre “vešala”. Kao argumenti učitavaju se reč i maksimalan broj pokušaja. Nakon toga korisnik pogađa slova, ukoliko potroši maksimalan broj pokušaja izgubio je igru, ako pogodi pre nego što je iskoristio maksimalan broj pokušaja dobio je igru. Ispisati\n",
        "poruku o ishodu igre.\n",
        "\n",
        "Zadatak mozete resiti kako vam je volja. Bitno je da prati smernice koje smo do sad koristili. Ovo je odlicna sansa da pokazete svoje znanje i intentivnost.\n"
      ]
    },
    {
      "cell_type": "code",
      "metadata": {
        "id": "-peJewPiJaZm"
      },
      "source": [
        "# START\n",
        "\n",
        "# END"
      ],
      "execution_count": null,
      "outputs": []
    }
  ]
}