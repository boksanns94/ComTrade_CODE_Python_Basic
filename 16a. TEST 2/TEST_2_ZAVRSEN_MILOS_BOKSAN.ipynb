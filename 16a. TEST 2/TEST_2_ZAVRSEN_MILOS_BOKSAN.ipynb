{
  "nbformat": 4,
  "nbformat_minor": 0,
  "metadata": {
    "colab": {
      "name": "14_test_2.ipynb",
      "provenance": [],
      "collapsed_sections": [],
      "toc_visible": true
    },
    "kernelspec": {
      "name": "python3",
      "display_name": "Python 3"
    }
  },
  "cells": [
    {
      "cell_type": "markdown",
      "metadata": {
        "id": "wmdBKjXxIt_r"
      },
      "source": [
        "# 14 Test 2"
      ]
    },
    {
      "cell_type": "markdown",
      "metadata": {
        "id": "HUmUWHOJQN8L"
      },
      "source": [
        "## 14.1 Teorijska pitanja"
      ]
    },
    {
      "cell_type": "markdown",
      "metadata": {
        "id": "Zb5C1QKI7AVF"
      },
      "source": [
        "1. Koja su dva osnovna nacina za sortiranje listi? Koja je razlika medju njima?\n",
        "\n",
        "Odgovor:"
      ]
    },
    {
      "cell_type": "markdown",
      "metadata": {
        "id": "twboXSYT7ObX"
      },
      "source": [
        "---"
      ]
    },
    {
      "cell_type": "markdown",
      "metadata": {
        "id": "c2kiWoVM7QFv"
      },
      "source": [
        "2. Neka je data lista **a**. Od liste **a** kreirati dve liste: **kubovi** koja treba da sadrzi sve elemente liste **a** popete na treci stepen, i listu **neparni** koja sadrzi sve neparne elemente liste **a**. Zadatak resiti koriscenjem list comprehension-a."
      ]
    },
    {
      "cell_type": "code",
      "metadata": {
        "id": "DlpvyzAW6D8t"
      },
      "source": [
        "a = list(range(10))\n",
        "# Odgovor:"
      ],
      "execution_count": null,
      "outputs": []
    },
    {
      "cell_type": "markdown",
      "metadata": {
        "id": "VpHAJmKw7yBZ"
      },
      "source": [
        "---"
      ]
    },
    {
      "cell_type": "markdown",
      "metadata": {
        "id": "JNO7h_BZ8gbU"
      },
      "source": [
        "3. Napisati funkciju **ukloni(lista, n)** koja iz liste **lista** uklanja sva pojavljivanja elementa **n**. "
      ]
    },
    {
      "cell_type": "code",
      "metadata": {
        "id": "LVR1Dnkq8e3X"
      },
      "source": [
        "# Odgovor:"
      ],
      "execution_count": null,
      "outputs": []
    },
    {
      "cell_type": "markdown",
      "metadata": {
        "id": "CMgddBzwCKyE"
      },
      "source": [
        "---"
      ]
    },
    {
      "cell_type": "markdown",
      "metadata": {
        "id": "rlA-at4OCZ8V"
      },
      "source": [
        "4. Na primeru liste kao mutable objekta objasniti operator dodele, plitko i duboko kopiranje i razlike medju njima\n",
        "\n",
        "Odgovor:"
      ]
    },
    {
      "cell_type": "markdown",
      "metadata": {
        "id": "wVwgIM3jCgby"
      },
      "source": [
        "---"
      ]
    },
    {
      "cell_type": "markdown",
      "metadata": {
        "id": "XMTLyFv6Cnxi"
      },
      "source": [
        "5. Dajte primer za svaku od sledecih operacija povezanih sa stringovima:\n",
        "    - f-string\n",
        "    - upper i lower\n",
        "    - konkatenacija\n",
        "    - deljenje na karaktere\n",
        "    - deljenje separatorima\n",
        "    - join metod"
      ]
    },
    {
      "cell_type": "code",
      "metadata": {
        "id": "CDD6vW8lCYjp"
      },
      "source": [
        "# Odgovor:"
      ],
      "execution_count": null,
      "outputs": []
    },
    {
      "cell_type": "markdown",
      "metadata": {
        "id": "yh4BT26rC7tx"
      },
      "source": [
        "---"
      ]
    },
    {
      "cell_type": "markdown",
      "metadata": {
        "id": "nneifn3xC86X"
      },
      "source": [
        "6. Principski objasniti kako stek funkcionise i koje operacije treba da podrzava.\n",
        "\n",
        "Odgovor:"
      ]
    },
    {
      "cell_type": "markdown",
      "metadata": {
        "id": "DJCtcAJIDG1F"
      },
      "source": [
        "---"
      ]
    },
    {
      "cell_type": "markdown",
      "metadata": {
        "id": "XjinZ0oHDVKB"
      },
      "source": [
        "7. Napraviti matricu 3x4 koristeci liste koja redom sadrzi brojeve od 1 do 12. Od te matrice napraviti drugu koja sadrzi kvadrate elemenata prve matrice na odgovarajucim pozicijama."
      ]
    },
    {
      "cell_type": "code",
      "metadata": {
        "id": "yZbUf-CxC7-T"
      },
      "source": [
        "# Odgovor:"
      ],
      "execution_count": null,
      "outputs": []
    },
    {
      "cell_type": "markdown",
      "metadata": {
        "id": "s6ignGbBEmop"
      },
      "source": [
        "---"
      ]
    },
    {
      "cell_type": "markdown",
      "metadata": {
        "id": "LylIGxNAEyj-"
      },
      "source": [
        "8. Dati primer koriscenja **zip()** funkcije."
      ]
    },
    {
      "cell_type": "code",
      "metadata": {
        "id": "r7ndhMllDtks"
      },
      "source": [
        "# Odgovor:"
      ],
      "execution_count": null,
      "outputs": []
    },
    {
      "cell_type": "markdown",
      "metadata": {
        "id": "FqMDrA-UE3o7"
      },
      "source": [
        "---"
      ]
    },
    {
      "cell_type": "markdown",
      "metadata": {
        "id": "r7amVgE2E4sK"
      },
      "source": [
        "9. Svojim recima objasnite sta su **moduli** u Python-u.\n",
        "\n",
        "Odgovor:"
      ]
    },
    {
      "cell_type": "markdown",
      "metadata": {
        "id": "zg3A3bkYFFcp"
      },
      "source": [
        "---"
      ]
    },
    {
      "cell_type": "markdown",
      "metadata": {
        "id": "11mfs1gyFGlU"
      },
      "source": [
        "10. Navesti sve ugradjene Python kontejnere i dati primer rada sa njima."
      ]
    },
    {
      "cell_type": "code",
      "metadata": {
        "id": "StNL_xHbE39c"
      },
      "source": [
        "# Odgovor:"
      ],
      "execution_count": null,
      "outputs": []
    },
    {
      "cell_type": "markdown",
      "metadata": {
        "id": "wZu1qdwPFd7w"
      },
      "source": [
        "---"
      ]
    },
    {
      "cell_type": "markdown",
      "metadata": {
        "id": "HP1r1N76Fe0W"
      },
      "source": [
        "## 14.2 Zadaci\n",
        "\n",
        "U narednim zadacima bice jasno oznacen deo koji treba da popunite sa # START i # END. Sve ostalo sluzi za automatsku proveru resenja i treba da ga ignorisete.\n",
        "Takodje, docstringovi uz funkcije nisu potrebni - mozete eventualno dodati kratak jednolinijski komentar ako mislite da treba."
      ]
    },
    {
      "cell_type": "markdown",
      "metadata": {
        "id": "zlU8wykfFlH3"
      },
      "source": [
        "### 1\n",
        "\n",
        "Napisati fju **faktorjel(n)** koja rekurzivno racuna faktorjel broja **n**. \n",
        "Podsetnik: n! = n\\*(n-1)\\*...\\*2\\*1 = n\\*(n-1)! , 0! = 1\n",
        "\n",
        "\n",
        "\n"
      ]
    },
    {
      "cell_type": "code",
      "metadata": {
        "id": "CrrcL7oAFeLp"
      },
      "source": [
        "# START\n",
        "\n",
        "# END"
      ],
      "execution_count": null,
      "outputs": []
    },
    {
      "cell_type": "code",
      "metadata": {
        "id": "G3D0pDRXXoXJ"
      },
      "source": [
        "\"\"\"\n",
        "U ovoj celiji mozete testirati rad vasih funkcija.\n",
        "Ona nece biti uzeta za razmatranje tacnosti resenja zadatka.\n",
        "\"\"\"\n",
        "# START\n",
        "\n",
        "# END"
      ],
      "execution_count": null,
      "outputs": []
    },
    {
      "cell_type": "code",
      "metadata": {
        "id": "6Me4UAOyX2Rm"
      },
      "source": [
        "\"\"\"\n",
        "Ovu celiju NE MODIFIKUJETE!\n",
        "Samo treba da je pokrenete i ona ce izbaciti ocenu\n",
        "ovog zadatka.\n",
        "\"\"\"\n",
        "\n",
        "from random import randint\n",
        "import math\n",
        "\n",
        "# Generise se niz nasumicnih integera\n",
        "arr = [randint(0, 10) for _ in range(10)]\n",
        "\n",
        "passed = 0  # Koliko testova je prodjeno\n",
        "total_tests = len(arr) # Ukupno testova koje treba proci\n",
        "\n",
        "try:\n",
        "    for e in arr:\n",
        "        if math.factorial(e) == faktorjel(e):\n",
        "            passed += 1\n",
        "\n",
        "    print(f\"Passed: {passed}/{total_tests}\")\n",
        "\n",
        "except Exception as e:\n",
        "    print(\"Fatalna greska. Vrati se na kod i probaj opet.\")\n",
        "    print(e)\n"
      ],
      "execution_count": null,
      "outputs": []
    },
    {
      "cell_type": "markdown",
      "metadata": {
        "id": "kx2dNamsIaSm"
      },
      "source": [
        "---\n"
      ]
    },
    {
      "cell_type": "markdown",
      "metadata": {
        "id": "KzV073c4IdKT"
      },
      "source": [
        "### 2\n",
        "Napisati funkciju **provera(izraz)** koja prima aritmetički izraz u obliku stringa: npr. “2+3*(5 - 2)” i koja proverava da li su zagrade pravilno uparene i vraca bool vrednost. Koristiti stack implementiran uz pomoć liste. Napisati pomoćne funkcije koje primaju listu kao jedan argument i znaju da implementiraju push, pop, empty i size operacije. Nema potrebe za koriscenjem OOP koncepata, sve uraditi preko liste i pomocnih funkcija. Dole ce biti data funkcija koja implementira pop operaciju.\n",
        "\n",
        "```\n",
        "# Primer nepravilno uparenih zagrada\n",
        "\n",
        "\"2+3*(5-2))\"\n",
        "\n",
        "# ili\n",
        "\n",
        "\"2+3*(5-2)(\"\n",
        "```"
      ]
    },
    {
      "cell_type": "code",
      "metadata": {
        "id": "y0swa47CH1E0"
      },
      "source": [
        "# Pomoc: implementirana fja pop() koja prima listu i vraca element sa vrha\n",
        "# Prosto listu koja se koristi kao stek instancirati kao 'stek = []' i njega \n",
        "# prosledjivati implementiranim funkcijama i sve ce izgledati kao da se radi \n",
        "# o pravom steku\n",
        "def pop(stek):  # 'stek' je zapravo lista\n",
        "    if size(stek) > 0:   # Napraviti funkciju size koja vraca velicinu steka \n",
        "        return stek[-1]\n",
        "    else:\n",
        "        print(\"Stack underflow!\")\n",
        "\n",
        "# START\n",
        "\n",
        "# END"
      ],
      "execution_count": null,
      "outputs": []
    },
    {
      "cell_type": "code",
      "metadata": {
        "id": "rYCS67rWKMYL"
      },
      "source": [
        "\"\"\"\n",
        "U ovoj celiji mozete testirati rad vasih funkcija.\n",
        "Ona nece biti uzeta za razmatranje tacnosti resenja zadatka.\n",
        "\"\"\"\n",
        "# START\n",
        "\n",
        "# END"
      ],
      "execution_count": null,
      "outputs": []
    },
    {
      "cell_type": "code",
      "metadata": {
        "id": "I81WMxLVKRN3"
      },
      "source": [
        "\"\"\"\n",
        "Ovu celiju NE MODIFIKUJETE!\n",
        "Samo treba da je pokrenete i ona ce izbaciti ocenu\n",
        "ovog zadatka.\n",
        "\"\"\"\n",
        "# Niz test primera\n",
        "primeri = [\"2+3*(5-2))\", \"2+3*(5-2)(\", \"2+3*(5-2)\", \"((2+3))\", \"{2*[1+3])\"]\n",
        "odgovori = [False, False, True, True, False]\n",
        "\n",
        "passed = 0  # Koliko testova je prodjeno\n",
        "total_tests = len(arr) # Ukupno testova koje treba proci\n",
        "\n",
        "try:\n",
        "    for i in range(len(primeri)):\n",
        "        if provera(primeri[i]) == odgovori[i]:\n",
        "            passed += 1\n",
        "\n",
        "    print(f\"Passed: {passed}/{total_tests}\")\n",
        "\n",
        "except Exception as e:\n",
        "    print(\"Fatalna greska. Vrati se na kod i probaj opet.\")\n",
        "    print(e)"
      ],
      "execution_count": null,
      "outputs": []
    },
    {
      "cell_type": "markdown",
      "metadata": {
        "id": "9mToPwgpJaHz"
      },
      "source": [
        "---"
      ]
    },
    {
      "cell_type": "markdown",
      "metadata": {
        "id": "dX0pjJehNw-X"
      },
      "source": [
        "### 3\n",
        "Napisati program koji simulira kviz znanja. Kao korisnikov unos unosi se\n",
        "ime fajla koji predstavlja bazu pitanja (tekstualni fajl), fajl se sastoji od\n",
        "naizmeničnih linija pitanja, opcije odgovora i tačnog rešenja, primer:\n",
        "\\\n",
        "```\n",
        "Januar ima _ dana?\n",
        "30, 31, 28, 29 \n",
        "31\n",
        "```\n",
        "\\\n",
        "Nakon uspešnog učitavanja baze pitanja, nasumično se bira pitanje i postavlja\n",
        "korisniku na koje on odgovara kroz standardni ulaz. Rezultat igre je maksimalni\n",
        "broj vezanih tačnih odgovora koje je korisnik ostvario."
      ]
    },
    {
      "cell_type": "code",
      "metadata": {
        "id": "so2fwpjsNzVs"
      },
      "source": [
        "'''\n",
        "Pomoc:\n",
        "from google.colab import files\n",
        "\n",
        "uploaded = files.upload()\n",
        "'''\n",
        "\n",
        "# START\n",
        "\n",
        "# END"
      ],
      "execution_count": null,
      "outputs": []
    },
    {
      "cell_type": "markdown",
      "metadata": {
        "id": "SglS68h3N1CX"
      },
      "source": [
        "---"
      ]
    },
    {
      "cell_type": "markdown",
      "metadata": {
        "id": "ePx2gMN3LdDO"
      },
      "source": [
        "### 4 Bonus zadatak\n",
        "\n",
        "Napisati program koji predstavlja simulaciju igre “vešala”. Kao argumenti učitavaju se reč i maksimalan broj pokušaja. Nakon toga korisnik pogađa slova, ukoliko potroši maksimalan broj pokušaja izgubio je igru, ako pogodi pre nego što je iskoristio maksimalan broj pokušaja dobio je igru. Ispisati\n",
        "poruku o ishodu igre.\n",
        "\n",
        "Zadatak mozete resiti kako vam je volja. Bitno je da prati smernice koje smo do sad koristili. Ovo je odlicna sansa da pokazete svoje znanje i intentivnost.\n"
      ]
    },
    {
      "cell_type": "code",
      "metadata": {
        "id": "-peJewPiJaZm"
      },
      "source": [
        "# START\n",
        "\n",
        "# END"
      ],
      "execution_count": null,
      "outputs": []
    }
  ]
}